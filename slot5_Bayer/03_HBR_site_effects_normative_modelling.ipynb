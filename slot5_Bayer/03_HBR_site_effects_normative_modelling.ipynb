{
 "cells": [
  {
   "cell_type": "markdown",
   "id": "8d09a59a-310b-4565-95f5-1f3e9721fdec",
   "metadata": {},
   "source": [
    "# Normative modelling as site effect correction tool\n",
    "\n",
    "This tutorial will walk you through the application of normative modelling as site effect correction tool.\n",
    "\n",
    "You will learn:\n",
    "- How to fit a normative model to data from different sites\n",
    "- choices to make about the model\n",
    "- how to transfer data from one site into another\n",
    "- how to make predictions for unseen sites and the rationale behind it."
   ]
  },
  {
   "cell_type": "markdown",
   "id": "7aaac9b3-3ad6-47ee-a06f-528f7a0c0aae",
   "metadata": {},
   "source": [
    "# Quick recap: normative models using the pcn toolkit\n",
    "A normative model requires three input variables:\n",
    "- covariates (the X axis, ususally age)\n",
    "- response variables (usually one or several brain feature measurements)\n",
    "- a batch effect file. Batch effects can be anything that interferes with the covrariate (sex, site)\n",
    "\n",
    "While the blr model reuiqres input of the batch effects via a design matrix, the implementation of the hbr only reuires a file."
   ]
  },
  {
   "cell_type": "code",
   "execution_count": 247,
   "id": "c5248840-9b00-4820-8593-85d9d7ad4513",
   "metadata": {
    "collapsed": true,
    "jupyter": {
     "outputs_hidden": true
    }
   },
   "outputs": [],
   "source": [
    "# Import relevant libraries\n",
    "import pcntoolkit\n",
    "import os\n",
    "import pandas as pd\n",
    "import pcntoolkit as ptk\n",
    "import numpy as np\n",
    "import pickle\n",
    "from matplotlib import pyplot as plt\n",
    "from sklearn.model_selection import train_test_split\n",
    "import seaborn as sns\n",
    "from pcntoolkit.util.utils import compute_MSLL, create_design_matrix"
   ]
  },
  {
   "cell_type": "code",
   "execution_count": 248,
   "id": "f9c07f21-42ea-4645-b701-ef9c028098c6",
   "metadata": {
    "collapsed": true,
    "jupyter": {
     "outputs_hidden": true
    },
    "scrolled": true
   },
   "outputs": [
    {
     "name": "stdout",
     "output_type": "stream",
     "text": [
      "/Users/johbay/Dropbox/OHBM2024/educational-course/Site_effect_tutorial\n"
     ]
    }
   ],
   "source": [
    "!pwd"
   ]
  },
  {
   "cell_type": "code",
   "execution_count": 140,
   "id": "103186c8-97aa-49e4-a6d1-72daac14d89c",
   "metadata": {
    "collapsed": true,
    "jupyter": {
     "outputs_hidden": true
    }
   },
   "outputs": [],
   "source": [
    "# create working dir\n",
    "root_dir = os.getcwd()"
   ]
  },
  {
   "cell_type": "code",
   "execution_count": 141,
   "id": "1c8f2874-4006-4703-ad49-17ff3f0c20b1",
   "metadata": {
    "collapsed": true,
    "jupyter": {
     "outputs_hidden": true
    }
   },
   "outputs": [
    {
     "name": "stdout",
     "output_type": "stream",
     "text": [
      "/Users/johbay/Dropbox/OHBM2024/educational-course/Site_effect_tutorial\n"
     ]
    }
   ],
   "source": [
    "print(root_dir)"
   ]
  },
  {
   "cell_type": "code",
   "execution_count": 79,
   "id": "3ae41f1b-5a89-4e6a-b65f-38f09510cd0d",
   "metadata": {
    "collapsed": true,
    "jupyter": {
     "outputs_hidden": true
    }
   },
   "outputs": [
    {
     "ename": "FileNotFoundError",
     "evalue": "[Errno 2] No such file or directory: 'Site_effect_tutorial/'",
     "output_type": "error",
     "traceback": [
      "\u001b[0;31m---------------------------------------------------------------------------\u001b[0m",
      "\u001b[0;31mFileNotFoundError\u001b[0m                         Traceback (most recent call last)",
      "Cell \u001b[0;32mIn[79], line 2\u001b[0m\n\u001b[1;32m      1\u001b[0m processing_folder \u001b[38;5;241m=\u001b[39m \u001b[38;5;124m\"\u001b[39m\u001b[38;5;124mSite_effect_tutorial/\u001b[39m\u001b[38;5;124m\"\u001b[39m\n\u001b[0;32m----> 2\u001b[0m \u001b[43mos\u001b[49m\u001b[38;5;241;43m.\u001b[39;49m\u001b[43mchdir\u001b[49m\u001b[43m(\u001b[49m\u001b[43mprocessing_folder\u001b[49m\u001b[43m)\u001b[49m\n",
      "\u001b[0;31mFileNotFoundError\u001b[0m: [Errno 2] No such file or directory: 'Site_effect_tutorial/'"
     ]
    }
   ],
   "source": [
    "processing_folder = \"Site_effect_tutorial/\"\n",
    "os.chdir(processing_folder)"
   ]
  },
  {
   "cell_type": "code",
   "execution_count": 25,
   "id": "6a33d09a-63f4-48b0-b609-ecdbbccba52f",
   "metadata": {
    "collapsed": true,
    "jupyter": {
     "outputs_hidden": true
    }
   },
   "outputs": [
    {
     "data": {
      "text/plain": [
       "'/Users/johbay/Dropbox/OHBM2024/educational-course/Site_effect_tutorial'"
      ]
     },
     "execution_count": 25,
     "metadata": {},
     "output_type": "execute_result"
    }
   ],
   "source": [
    "if not os.path.isdir(processing_folder):\n",
    "    os.makedirs(processing_folder)"
   ]
  },
  {
   "cell_type": "code",
   "execution_count": 6,
   "id": "13046ee6-7bbd-43c0-9ed4-4f4d945b8c16",
   "metadata": {
    "collapsed": true,
    "jupyter": {
     "outputs_hidden": true
    }
   },
   "outputs": [
    {
     "name": "stdout",
     "output_type": "stream",
     "text": [
      "The processing directory is: /Users/johbay/Dropbox/OHBM2024/educational-course/Site_effect_tutorial\n"
     ]
    }
   ],
   "source": [
    "#os.chdir(tutdir)\n",
    "os.chdir(processing_folder)"
   ]
  },
  {
   "cell_type": "code",
   "execution_count": 249,
   "id": "77debe6f-3a1f-4f8f-9d99-99a6dba6718c",
   "metadata": {
    "collapsed": true,
    "jupyter": {
     "outputs_hidden": true
    }
   },
   "outputs": [
    {
     "name": "stdout",
     "output_type": "stream",
     "text": [
      "The processing directory is: /Users/johbay/Dropbox/OHBM2024/educational-course/Site_effect_tutorial\n"
     ]
    }
   ],
   "source": [
    "processing_dir = os.getcwd()\n",
    "print(f\"The processing directory is: {processing_dir}\")"
   ]
  },
  {
   "cell_type": "markdown",
   "id": "4639454a-4bc9-4b23-bed1-7baadfb9f3b5",
   "metadata": {},
   "source": [
    "# 01. Data pre-processing.\n",
    "\n",
    "### Load the data\n",
    "\n",
    "For this tutorial, we use publicly availabe data that has been pooled from various data sets."
   ]
  },
  {
   "cell_type": "code",
   "execution_count": 144,
   "id": "b08aa693-1a88-416e-8012-ce3d1ca008dc",
   "metadata": {
    "collapsed": true,
    "jupyter": {
     "outputs_hidden": true
    }
   },
   "outputs": [
    {
     "name": "stdout",
     "output_type": "stream",
     "text": [
      "--2024-06-01 19:01:37--  https://raw.githubusercontent.com/saigerutherford/CPC_ML_tutorial/master/data/fcon1000_tr.csv\n",
      "Resolving raw.githubusercontent.com (raw.githubusercontent.com)... 2606:50c0:8000::154, 2606:50c0:8002::154, 2606:50c0:8001::154, ...\n",
      "Connecting to raw.githubusercontent.com (raw.githubusercontent.com)|2606:50c0:8000::154|:443... connected.\n",
      "HTTP request sent, awaiting response... 200 OK\n",
      "Length: 786940 (768K) [text/plain]\n",
      "Saving to: ‘fcon1000_tr.csv’\n",
      "\n",
      "fcon1000_tr.csv     100%[===================>] 768,50K  --.-KB/s    in 0,09s   \n",
      "\n",
      "2024-06-01 19:01:38 (8,58 MB/s) - ‘fcon1000_tr.csv’ saved [786940/786940]\n",
      "\n",
      "--2024-06-01 19:01:38--  https://raw.githubusercontent.com/saigerutherford/CPC_ML_tutorial/master/data/fcon1000_te.csv\n",
      "Resolving raw.githubusercontent.com (raw.githubusercontent.com)... 2606:50c0:8000::154, 2606:50c0:8002::154, 2606:50c0:8001::154, ...\n",
      "Connecting to raw.githubusercontent.com (raw.githubusercontent.com)|2606:50c0:8000::154|:443... connected.\n",
      "HTTP request sent, awaiting response... 200 OK\n",
      "Length: 917069 (896K) [text/plain]\n",
      "Saving to: ‘fcon1000_te.csv’\n",
      "\n",
      "fcon1000_te.csv     100%[===================>] 895,58K  --.-KB/s    in 0,08s   \n",
      "\n",
      "2024-06-01 19:01:38 (10,4 MB/s) - ‘fcon1000_te.csv’ saved [917069/917069]\n",
      "\n"
     ]
    }
   ],
   "source": [
    "# Load the data\n",
    "!wget -nc https://raw.githubusercontent.com/saigerutherford/CPC_ML_tutorial/master/data/fcon1000_tr.csv\n",
    "!wget -nc https://raw.githubusercontent.com/saigerutherford/CPC_ML_tutorial/master/data/fcon1000_te.csv"
   ]
  },
  {
   "cell_type": "code",
   "execution_count": 255,
   "id": "19c3837b-b424-48a2-8416-1505f50c845b",
   "metadata": {
    "collapsed": true,
    "jupyter": {
     "outputs_hidden": true
    }
   },
   "outputs": [],
   "source": [
    "# Load the test data into the notebook\n",
    "test_data = os.path.join(root_dir, 'fcon1000_te.csv')\n",
    "df_te = pd.read_csv(test_data, index_col=0)\n",
    "\n",
    "# remove some bad subjects\n",
    "# df_te, bad_sub = remove_bad_subjects(df_te, df_te)\n",
    "\n",
    "# extract a list of unique site ids from the test set\n",
    "site_ids_te =  sorted(set(df_te['site'].to_list()))"
   ]
  },
  {
   "cell_type": "code",
   "execution_count": 254,
   "id": "179a2cc6-721d-4a41-b5c7-6577715ab522",
   "metadata": {
    "collapsed": true,
    "jupyter": {
     "outputs_hidden": true
    }
   },
   "outputs": [],
   "source": [
    "# Load the training data into the notebook\n",
    "train_data = os.path.join(root_dir, 'fcon1000_tr.csv')\n",
    "\n",
    "df_tr = pd.read_csv(train_data, index_col=0)\n",
    "\n",
    "# remove some bad subjects\n",
    "#df_ad, bad_sub = remove_bad_subjects(df_ad, df_ad)\n",
    "\n",
    "# extract a list of unique site ids from the test set\n",
    "site_ids_ad =  sorted(set(df_tr['site'].to_list()))\n",
    "\n",
    "if not all(elem in site_ids_ad for elem in site_ids_te):\n",
    "    print('Warning: some of the testing sites are not in the adaptation data')"
   ]
  },
  {
   "cell_type": "markdown",
   "id": "ce0374f4-58a1-41ee-b8fc-9a8202152b5c",
   "metadata": {},
   "source": [
    "### Make a quick display of the age distibution per site."
   ]
  },
  {
   "cell_type": "code",
   "execution_count": 257,
   "id": "37856974-a5c2-4e9c-abd2-aab2338071c2",
   "metadata": {
    "collapsed": true,
    "jupyter": {
     "outputs_hidden": true
    }
   },
   "outputs": [
    {
     "data": {
      "image/png": "[encoded data removed]",
      "text/plain": [
       "<Figure size 600x600 with 25 Axes>"
      ]
     },
     "metadata": {},
     "output_type": "display_data"
    }
   ],
   "source": [
    "axes = df_tr.hist(['age'], by='site', layout=(5,5),\n",
    "                  legend=True, yrot=90,sharex=True,sharey=True, \n",
    "                  figsize=(6,6))\n",
    "for ax in axes.flatten():\n",
    "    ax.set_xlabel('age')\n",
    "    ax.set_ylabel('distribution')\n",
    "    ax.set_ylim(bottom=1,top=25)"
   ]
  },
  {
   "cell_type": "markdown",
   "id": "f9e5085f-977d-4739-ab27-c8856da0037e",
   "metadata": {},
   "source": [
    "### Additionally, print the number of subjects per site."
   ]
  },
  {
   "cell_type": "code",
   "execution_count": 258,
   "id": "7f08ae6f-90c2-4bba-9d81-4c46c1486be7",
   "metadata": {
    "collapsed": true,
    "jupyter": {
     "outputs_hidden": true
    }
   },
   "outputs": [
    {
     "name": "stdout",
     "output_type": "stream",
     "text": [
      "sample size check\n",
      "0 AnnArbor_a 13 11\n",
      "1 AnnArbor_b 20 12\n",
      "2 Atlanta 11 17\n",
      "3 Baltimore 12 11\n",
      "4 Bangor 10 10\n",
      "5 Beijing_Zang 100 98\n",
      "6 Berlin_Margulies 15 11\n",
      "7 Cambridge_Buckner 94 104\n",
      "8 Cleveland 11 20\n",
      "9 ICBM 47 38\n",
      "10 Leiden_2180 6 6\n",
      "11 Leiden_2200 9 10\n",
      "12 Milwaukee_b 26 20\n",
      "13 NewYork_a 36 47\n",
      "14 NewYork_a_ADHD 7 18\n",
      "15 Newark 12 7\n",
      "16 Oulu 60 42\n",
      "17 Oxford 10 12\n",
      "18 PaloAlto 7 9\n",
      "19 Queensland 12 7\n",
      "20 SaintLouis 18 13\n",
      "21 COBRE 20 126\n"
     ]
    }
   ],
   "source": [
    "sites = df_tr['site'].unique()\n",
    "\n",
    "print('sample size check')\n",
    "for i,s in enumerate(sites):\n",
    "    idx = df_tr['site'] == s\n",
    "    idxte = df_te['site'] == s\n",
    "    print(i,s, sum(idx), sum(idxte))\n"
   ]
  },
  {
   "cell_type": "code",
   "execution_count": 259,
   "id": "4d410c87-a944-4294-bada-39db20a6a92a",
   "metadata": {
    "collapsed": true,
    "jupyter": {
     "outputs_hidden": true
    }
   },
   "outputs": [
    {
     "name": "stdout",
     "output_type": "stream",
     "text": [
      "site AnnArbor_a 13\n",
      "site AnnArbor_b 20\n",
      "site Atlanta 11\n",
      "site Baltimore 12\n",
      "site Bangor 10\n",
      "site Beijing_Zang 100\n",
      "site Berlin_Margulies 15\n",
      "site Cambridge_Buckner 94\n",
      "site Cleveland 11\n",
      "site ICBM 47\n",
      "site Leiden_2180 6\n",
      "site Leiden_2200 9\n",
      "site Milwaukee_b 26\n",
      "site NewYork_a 36\n",
      "site NewYork_a_ADHD 7\n",
      "site Newark 12\n",
      "site Oulu 60\n",
      "site Oxford 10\n",
      "site PaloAlto 7\n",
      "site Queensland 12\n",
      "site SaintLouis 18\n",
      "site COBRE 20\n"
     ]
    },
    {
     "name": "stderr",
     "output_type": "stream",
     "text": [
      "/var/folders/lz/nf2fw8cn0738fszl47qsj5fc0000gp/T/ipykernel_6307/1108558262.py:4: SettingWithCopyWarning: \n",
      "A value is trying to be set on a copy of a slice from a DataFrame\n",
      "\n",
      "See the caveats in the documentation: https://pandas.pydata.org/pandas-docs/stable/user_guide/indexing.html#returning-a-view-versus-a-copy\n",
      "  df_tr['sitenum'].loc[idx] = i\n",
      "/var/folders/lz/nf2fw8cn0738fszl47qsj5fc0000gp/T/ipykernel_6307/1108558262.py:4: SettingWithCopyWarning: \n",
      "A value is trying to be set on a copy of a slice from a DataFrame\n",
      "\n",
      "See the caveats in the documentation: https://pandas.pydata.org/pandas-docs/stable/user_guide/indexing.html#returning-a-view-versus-a-copy\n",
      "  df_tr['sitenum'].loc[idx] = i\n",
      "/var/folders/lz/nf2fw8cn0738fszl47qsj5fc0000gp/T/ipykernel_6307/1108558262.py:4: SettingWithCopyWarning: \n",
      "A value is trying to be set on a copy of a slice from a DataFrame\n",
      "\n",
      "See the caveats in the documentation: https://pandas.pydata.org/pandas-docs/stable/user_guide/indexing.html#returning-a-view-versus-a-copy\n",
      "  df_tr['sitenum'].loc[idx] = i\n",
      "/var/folders/lz/nf2fw8cn0738fszl47qsj5fc0000gp/T/ipykernel_6307/1108558262.py:4: SettingWithCopyWarning: \n",
      "A value is trying to be set on a copy of a slice from a DataFrame\n",
      "\n",
      "See the caveats in the documentation: https://pandas.pydata.org/pandas-docs/stable/user_guide/indexing.html#returning-a-view-versus-a-copy\n",
      "  df_tr['sitenum'].loc[idx] = i\n",
      "/var/folders/lz/nf2fw8cn0738fszl47qsj5fc0000gp/T/ipykernel_6307/1108558262.py:4: SettingWithCopyWarning: \n",
      "A value is trying to be set on a copy of a slice from a DataFrame\n",
      "\n",
      "See the caveats in the documentation: https://pandas.pydata.org/pandas-docs/stable/user_guide/indexing.html#returning-a-view-versus-a-copy\n",
      "  df_tr['sitenum'].loc[idx] = i\n",
      "/var/folders/lz/nf2fw8cn0738fszl47qsj5fc0000gp/T/ipykernel_6307/1108558262.py:4: SettingWithCopyWarning: \n",
      "A value is trying to be set on a copy of a slice from a DataFrame\n",
      "\n",
      "See the caveats in the documentation: https://pandas.pydata.org/pandas-docs/stable/user_guide/indexing.html#returning-a-view-versus-a-copy\n",
      "  df_tr['sitenum'].loc[idx] = i\n",
      "/var/folders/lz/nf2fw8cn0738fszl47qsj5fc0000gp/T/ipykernel_6307/1108558262.py:4: SettingWithCopyWarning: \n",
      "A value is trying to be set on a copy of a slice from a DataFrame\n",
      "\n",
      "See the caveats in the documentation: https://pandas.pydata.org/pandas-docs/stable/user_guide/indexing.html#returning-a-view-versus-a-copy\n",
      "  df_tr['sitenum'].loc[idx] = i\n",
      "/var/folders/lz/nf2fw8cn0738fszl47qsj5fc0000gp/T/ipykernel_6307/1108558262.py:4: SettingWithCopyWarning: \n",
      "A value is trying to be set on a copy of a slice from a DataFrame\n",
      "\n",
      "See the caveats in the documentation: https://pandas.pydata.org/pandas-docs/stable/user_guide/indexing.html#returning-a-view-versus-a-copy\n",
      "  df_tr['sitenum'].loc[idx] = i\n",
      "/var/folders/lz/nf2fw8cn0738fszl47qsj5fc0000gp/T/ipykernel_6307/1108558262.py:4: SettingWithCopyWarning: \n",
      "A value is trying to be set on a copy of a slice from a DataFrame\n",
      "\n",
      "See the caveats in the documentation: https://pandas.pydata.org/pandas-docs/stable/user_guide/indexing.html#returning-a-view-versus-a-copy\n",
      "  df_tr['sitenum'].loc[idx] = i\n",
      "/var/folders/lz/nf2fw8cn0738fszl47qsj5fc0000gp/T/ipykernel_6307/1108558262.py:4: SettingWithCopyWarning: \n",
      "A value is trying to be set on a copy of a slice from a DataFrame\n",
      "\n",
      "See the caveats in the documentation: https://pandas.pydata.org/pandas-docs/stable/user_guide/indexing.html#returning-a-view-versus-a-copy\n",
      "  df_tr['sitenum'].loc[idx] = i\n",
      "/var/folders/lz/nf2fw8cn0738fszl47qsj5fc0000gp/T/ipykernel_6307/1108558262.py:4: SettingWithCopyWarning: \n",
      "A value is trying to be set on a copy of a slice from a DataFrame\n",
      "\n",
      "See the caveats in the documentation: https://pandas.pydata.org/pandas-docs/stable/user_guide/indexing.html#returning-a-view-versus-a-copy\n",
      "  df_tr['sitenum'].loc[idx] = i\n",
      "/var/folders/lz/nf2fw8cn0738fszl47qsj5fc0000gp/T/ipykernel_6307/1108558262.py:4: SettingWithCopyWarning: \n",
      "A value is trying to be set on a copy of a slice from a DataFrame\n",
      "\n",
      "See the caveats in the documentation: https://pandas.pydata.org/pandas-docs/stable/user_guide/indexing.html#returning-a-view-versus-a-copy\n",
      "  df_tr['sitenum'].loc[idx] = i\n",
      "/var/folders/lz/nf2fw8cn0738fszl47qsj5fc0000gp/T/ipykernel_6307/1108558262.py:4: SettingWithCopyWarning: \n",
      "A value is trying to be set on a copy of a slice from a DataFrame\n",
      "\n",
      "See the caveats in the documentation: https://pandas.pydata.org/pandas-docs/stable/user_guide/indexing.html#returning-a-view-versus-a-copy\n",
      "  df_tr['sitenum'].loc[idx] = i\n",
      "/var/folders/lz/nf2fw8cn0738fszl47qsj5fc0000gp/T/ipykernel_6307/1108558262.py:4: SettingWithCopyWarning: \n",
      "A value is trying to be set on a copy of a slice from a DataFrame\n",
      "\n",
      "See the caveats in the documentation: https://pandas.pydata.org/pandas-docs/stable/user_guide/indexing.html#returning-a-view-versus-a-copy\n",
      "  df_tr['sitenum'].loc[idx] = i\n",
      "/var/folders/lz/nf2fw8cn0738fszl47qsj5fc0000gp/T/ipykernel_6307/1108558262.py:4: SettingWithCopyWarning: \n",
      "A value is trying to be set on a copy of a slice from a DataFrame\n",
      "\n",
      "See the caveats in the documentation: https://pandas.pydata.org/pandas-docs/stable/user_guide/indexing.html#returning-a-view-versus-a-copy\n",
      "  df_tr['sitenum'].loc[idx] = i\n",
      "/var/folders/lz/nf2fw8cn0738fszl47qsj5fc0000gp/T/ipykernel_6307/1108558262.py:4: SettingWithCopyWarning: \n",
      "A value is trying to be set on a copy of a slice from a DataFrame\n",
      "\n",
      "See the caveats in the documentation: https://pandas.pydata.org/pandas-docs/stable/user_guide/indexing.html#returning-a-view-versus-a-copy\n",
      "  df_tr['sitenum'].loc[idx] = i\n",
      "/var/folders/lz/nf2fw8cn0738fszl47qsj5fc0000gp/T/ipykernel_6307/1108558262.py:4: SettingWithCopyWarning: \n",
      "A value is trying to be set on a copy of a slice from a DataFrame\n",
      "\n",
      "See the caveats in the documentation: https://pandas.pydata.org/pandas-docs/stable/user_guide/indexing.html#returning-a-view-versus-a-copy\n",
      "  df_tr['sitenum'].loc[idx] = i\n",
      "/var/folders/lz/nf2fw8cn0738fszl47qsj5fc0000gp/T/ipykernel_6307/1108558262.py:4: SettingWithCopyWarning: \n",
      "A value is trying to be set on a copy of a slice from a DataFrame\n",
      "\n",
      "See the caveats in the documentation: https://pandas.pydata.org/pandas-docs/stable/user_guide/indexing.html#returning-a-view-versus-a-copy\n",
      "  df_tr['sitenum'].loc[idx] = i\n",
      "/var/folders/lz/nf2fw8cn0738fszl47qsj5fc0000gp/T/ipykernel_6307/1108558262.py:4: SettingWithCopyWarning: \n",
      "A value is trying to be set on a copy of a slice from a DataFrame\n",
      "\n",
      "See the caveats in the documentation: https://pandas.pydata.org/pandas-docs/stable/user_guide/indexing.html#returning-a-view-versus-a-copy\n",
      "  df_tr['sitenum'].loc[idx] = i\n",
      "/var/folders/lz/nf2fw8cn0738fszl47qsj5fc0000gp/T/ipykernel_6307/1108558262.py:4: SettingWithCopyWarning: \n",
      "A value is trying to be set on a copy of a slice from a DataFrame\n",
      "\n",
      "See the caveats in the documentation: https://pandas.pydata.org/pandas-docs/stable/user_guide/indexing.html#returning-a-view-versus-a-copy\n",
      "  df_tr['sitenum'].loc[idx] = i\n",
      "/var/folders/lz/nf2fw8cn0738fszl47qsj5fc0000gp/T/ipykernel_6307/1108558262.py:4: SettingWithCopyWarning: \n",
      "A value is trying to be set on a copy of a slice from a DataFrame\n",
      "\n",
      "See the caveats in the documentation: https://pandas.pydata.org/pandas-docs/stable/user_guide/indexing.html#returning-a-view-versus-a-copy\n",
      "  df_tr['sitenum'].loc[idx] = i\n",
      "/var/folders/lz/nf2fw8cn0738fszl47qsj5fc0000gp/T/ipykernel_6307/1108558262.py:4: SettingWithCopyWarning: \n",
      "A value is trying to be set on a copy of a slice from a DataFrame\n",
      "\n",
      "See the caveats in the documentation: https://pandas.pydata.org/pandas-docs/stable/user_guide/indexing.html#returning-a-view-versus-a-copy\n",
      "  df_tr['sitenum'].loc[idx] = i\n"
     ]
    }
   ],
   "source": [
    "df_tr['sitenum'] = 0\n",
    "for i,s in enumerate(sites):\n",
    "    idx = df_tr['site'] == s\n",
    "    df_tr['sitenum'].loc[idx] = i\n",
    "\n",
    "    print('site',s, sum(idx))"
   ]
  },
  {
   "cell_type": "code",
   "execution_count": 260,
   "id": "44d05f5c-a9c0-427a-a673-88e7f1d1435d",
   "metadata": {
    "collapsed": true,
    "jupyter": {
     "outputs_hidden": true
    }
   },
   "outputs": [
    {
     "name": "stdout",
     "output_type": "stream",
     "text": [
      "site AnnArbor_a 11\n",
      "site AnnArbor_b 12\n",
      "site Atlanta 17\n",
      "site Baltimore 11\n",
      "site Bangor 10\n",
      "site Beijing_Zang 98\n",
      "site Berlin_Margulies 11\n",
      "site Cambridge_Buckner 104\n",
      "site Cleveland 20\n",
      "site ICBM 38\n",
      "site Leiden_2180 6\n",
      "site Leiden_2200 10\n",
      "site Milwaukee_b 20\n",
      "site NewYork_a 47\n",
      "site NewYork_a_ADHD 18\n",
      "site Newark 7\n",
      "site Oulu 42\n",
      "site Oxford 12\n",
      "site PaloAlto 9\n",
      "site Queensland 7\n",
      "site SaintLouis 13\n",
      "site COBRE 126\n"
     ]
    },
    {
     "name": "stderr",
     "output_type": "stream",
     "text": [
      "/var/folders/lz/nf2fw8cn0738fszl47qsj5fc0000gp/T/ipykernel_6307/2191059795.py:4: SettingWithCopyWarning: \n",
      "A value is trying to be set on a copy of a slice from a DataFrame\n",
      "\n",
      "See the caveats in the documentation: https://pandas.pydata.org/pandas-docs/stable/user_guide/indexing.html#returning-a-view-versus-a-copy\n",
      "  df_te['sitenum'].loc[idx] = i\n",
      "/var/folders/lz/nf2fw8cn0738fszl47qsj5fc0000gp/T/ipykernel_6307/2191059795.py:4: SettingWithCopyWarning: \n",
      "A value is trying to be set on a copy of a slice from a DataFrame\n",
      "\n",
      "See the caveats in the documentation: https://pandas.pydata.org/pandas-docs/stable/user_guide/indexing.html#returning-a-view-versus-a-copy\n",
      "  df_te['sitenum'].loc[idx] = i\n",
      "/var/folders/lz/nf2fw8cn0738fszl47qsj5fc0000gp/T/ipykernel_6307/2191059795.py:4: SettingWithCopyWarning: \n",
      "A value is trying to be set on a copy of a slice from a DataFrame\n",
      "\n",
      "See the caveats in the documentation: https://pandas.pydata.org/pandas-docs/stable/user_guide/indexing.html#returning-a-view-versus-a-copy\n",
      "  df_te['sitenum'].loc[idx] = i\n",
      "/var/folders/lz/nf2fw8cn0738fszl47qsj5fc0000gp/T/ipykernel_6307/2191059795.py:4: SettingWithCopyWarning: \n",
      "A value is trying to be set on a copy of a slice from a DataFrame\n",
      "\n",
      "See the caveats in the documentation: https://pandas.pydata.org/pandas-docs/stable/user_guide/indexing.html#returning-a-view-versus-a-copy\n",
      "  df_te['sitenum'].loc[idx] = i\n",
      "/var/folders/lz/nf2fw8cn0738fszl47qsj5fc0000gp/T/ipykernel_6307/2191059795.py:4: SettingWithCopyWarning: \n",
      "A value is trying to be set on a copy of a slice from a DataFrame\n",
      "\n",
      "See the caveats in the documentation: https://pandas.pydata.org/pandas-docs/stable/user_guide/indexing.html#returning-a-view-versus-a-copy\n",
      "  df_te['sitenum'].loc[idx] = i\n",
      "/var/folders/lz/nf2fw8cn0738fszl47qsj5fc0000gp/T/ipykernel_6307/2191059795.py:4: SettingWithCopyWarning: \n",
      "A value is trying to be set on a copy of a slice from a DataFrame\n",
      "\n",
      "See the caveats in the documentation: https://pandas.pydata.org/pandas-docs/stable/user_guide/indexing.html#returning-a-view-versus-a-copy\n",
      "  df_te['sitenum'].loc[idx] = i\n",
      "/var/folders/lz/nf2fw8cn0738fszl47qsj5fc0000gp/T/ipykernel_6307/2191059795.py:4: SettingWithCopyWarning: \n",
      "A value is trying to be set on a copy of a slice from a DataFrame\n",
      "\n",
      "See the caveats in the documentation: https://pandas.pydata.org/pandas-docs/stable/user_guide/indexing.html#returning-a-view-versus-a-copy\n",
      "  df_te['sitenum'].loc[idx] = i\n",
      "/var/folders/lz/nf2fw8cn0738fszl47qsj5fc0000gp/T/ipykernel_6307/2191059795.py:4: SettingWithCopyWarning: \n",
      "A value is trying to be set on a copy of a slice from a DataFrame\n",
      "\n",
      "See the caveats in the documentation: https://pandas.pydata.org/pandas-docs/stable/user_guide/indexing.html#returning-a-view-versus-a-copy\n",
      "  df_te['sitenum'].loc[idx] = i\n",
      "/var/folders/lz/nf2fw8cn0738fszl47qsj5fc0000gp/T/ipykernel_6307/2191059795.py:4: SettingWithCopyWarning: \n",
      "A value is trying to be set on a copy of a slice from a DataFrame\n",
      "\n",
      "See the caveats in the documentation: https://pandas.pydata.org/pandas-docs/stable/user_guide/indexing.html#returning-a-view-versus-a-copy\n",
      "  df_te['sitenum'].loc[idx] = i\n",
      "/var/folders/lz/nf2fw8cn0738fszl47qsj5fc0000gp/T/ipykernel_6307/2191059795.py:4: SettingWithCopyWarning: \n",
      "A value is trying to be set on a copy of a slice from a DataFrame\n",
      "\n",
      "See the caveats in the documentation: https://pandas.pydata.org/pandas-docs/stable/user_guide/indexing.html#returning-a-view-versus-a-copy\n",
      "  df_te['sitenum'].loc[idx] = i\n",
      "/var/folders/lz/nf2fw8cn0738fszl47qsj5fc0000gp/T/ipykernel_6307/2191059795.py:4: SettingWithCopyWarning: \n",
      "A value is trying to be set on a copy of a slice from a DataFrame\n",
      "\n",
      "See the caveats in the documentation: https://pandas.pydata.org/pandas-docs/stable/user_guide/indexing.html#returning-a-view-versus-a-copy\n",
      "  df_te['sitenum'].loc[idx] = i\n",
      "/var/folders/lz/nf2fw8cn0738fszl47qsj5fc0000gp/T/ipykernel_6307/2191059795.py:4: SettingWithCopyWarning: \n",
      "A value is trying to be set on a copy of a slice from a DataFrame\n",
      "\n",
      "See the caveats in the documentation: https://pandas.pydata.org/pandas-docs/stable/user_guide/indexing.html#returning-a-view-versus-a-copy\n",
      "  df_te['sitenum'].loc[idx] = i\n",
      "/var/folders/lz/nf2fw8cn0738fszl47qsj5fc0000gp/T/ipykernel_6307/2191059795.py:4: SettingWithCopyWarning: \n",
      "A value is trying to be set on a copy of a slice from a DataFrame\n",
      "\n",
      "See the caveats in the documentation: https://pandas.pydata.org/pandas-docs/stable/user_guide/indexing.html#returning-a-view-versus-a-copy\n",
      "  df_te['sitenum'].loc[idx] = i\n",
      "/var/folders/lz/nf2fw8cn0738fszl47qsj5fc0000gp/T/ipykernel_6307/2191059795.py:4: SettingWithCopyWarning: \n",
      "A value is trying to be set on a copy of a slice from a DataFrame\n",
      "\n",
      "See the caveats in the documentation: https://pandas.pydata.org/pandas-docs/stable/user_guide/indexing.html#returning-a-view-versus-a-copy\n",
      "  df_te['sitenum'].loc[idx] = i\n",
      "/var/folders/lz/nf2fw8cn0738fszl47qsj5fc0000gp/T/ipykernel_6307/2191059795.py:4: SettingWithCopyWarning: \n",
      "A value is trying to be set on a copy of a slice from a DataFrame\n",
      "\n",
      "See the caveats in the documentation: https://pandas.pydata.org/pandas-docs/stable/user_guide/indexing.html#returning-a-view-versus-a-copy\n",
      "  df_te['sitenum'].loc[idx] = i\n",
      "/var/folders/lz/nf2fw8cn0738fszl47qsj5fc0000gp/T/ipykernel_6307/2191059795.py:4: SettingWithCopyWarning: \n",
      "A value is trying to be set on a copy of a slice from a DataFrame\n",
      "\n",
      "See the caveats in the documentation: https://pandas.pydata.org/pandas-docs/stable/user_guide/indexing.html#returning-a-view-versus-a-copy\n",
      "  df_te['sitenum'].loc[idx] = i\n",
      "/var/folders/lz/nf2fw8cn0738fszl47qsj5fc0000gp/T/ipykernel_6307/2191059795.py:4: SettingWithCopyWarning: \n",
      "A value is trying to be set on a copy of a slice from a DataFrame\n",
      "\n",
      "See the caveats in the documentation: https://pandas.pydata.org/pandas-docs/stable/user_guide/indexing.html#returning-a-view-versus-a-copy\n",
      "  df_te['sitenum'].loc[idx] = i\n",
      "/var/folders/lz/nf2fw8cn0738fszl47qsj5fc0000gp/T/ipykernel_6307/2191059795.py:4: SettingWithCopyWarning: \n",
      "A value is trying to be set on a copy of a slice from a DataFrame\n",
      "\n",
      "See the caveats in the documentation: https://pandas.pydata.org/pandas-docs/stable/user_guide/indexing.html#returning-a-view-versus-a-copy\n",
      "  df_te['sitenum'].loc[idx] = i\n",
      "/var/folders/lz/nf2fw8cn0738fszl47qsj5fc0000gp/T/ipykernel_6307/2191059795.py:4: SettingWithCopyWarning: \n",
      "A value is trying to be set on a copy of a slice from a DataFrame\n",
      "\n",
      "See the caveats in the documentation: https://pandas.pydata.org/pandas-docs/stable/user_guide/indexing.html#returning-a-view-versus-a-copy\n",
      "  df_te['sitenum'].loc[idx] = i\n",
      "/var/folders/lz/nf2fw8cn0738fszl47qsj5fc0000gp/T/ipykernel_6307/2191059795.py:4: SettingWithCopyWarning: \n",
      "A value is trying to be set on a copy of a slice from a DataFrame\n",
      "\n",
      "See the caveats in the documentation: https://pandas.pydata.org/pandas-docs/stable/user_guide/indexing.html#returning-a-view-versus-a-copy\n",
      "  df_te['sitenum'].loc[idx] = i\n",
      "/var/folders/lz/nf2fw8cn0738fszl47qsj5fc0000gp/T/ipykernel_6307/2191059795.py:4: SettingWithCopyWarning: \n",
      "A value is trying to be set on a copy of a slice from a DataFrame\n",
      "\n",
      "See the caveats in the documentation: https://pandas.pydata.org/pandas-docs/stable/user_guide/indexing.html#returning-a-view-versus-a-copy\n",
      "  df_te['sitenum'].loc[idx] = i\n",
      "/var/folders/lz/nf2fw8cn0738fszl47qsj5fc0000gp/T/ipykernel_6307/2191059795.py:4: SettingWithCopyWarning: \n",
      "A value is trying to be set on a copy of a slice from a DataFrame\n",
      "\n",
      "See the caveats in the documentation: https://pandas.pydata.org/pandas-docs/stable/user_guide/indexing.html#returning-a-view-versus-a-copy\n",
      "  df_te['sitenum'].loc[idx] = i\n"
     ]
    }
   ],
   "source": [
    "df_te['sitenum'] = 0\n",
    "for i,s in enumerate(sites):\n",
    "    idx = df_te['site'] == s\n",
    "    df_te['sitenum'].loc[idx] = i\n",
    "\n",
    "    print('site',s, sum(idx))"
   ]
  },
  {
   "cell_type": "markdown",
   "id": "21e32cf1-b2c0-4fea-beec-d3034d933086",
   "metadata": {},
   "source": [
    "### Set aside hold-out transfer sites.\n",
    "For our site transfer later we want to exclude some sites from the training and test set for later."
   ]
  },
  {
   "cell_type": "code",
   "execution_count": 261,
   "id": "102a0979-6606-47b4-aebd-c6e16516f14f",
   "metadata": {
    "collapsed": true,
    "jupyter": {
     "outputs_hidden": true
    }
   },
   "outputs": [],
   "source": [
    "# Save some sites for later, these are going to be my new sites\n",
    "new_sites_tr = df_tr[(df_tr['site']== 'SaintLouis')| (df_tr['site']=='COBRE')]\n",
    "new_siets_te = df_te[(df_te['site']== 'SaintLouis')| (df_te['site']=='COBRE')]"
   ]
  },
  {
   "cell_type": "code",
   "execution_count": 262,
   "id": "e55a4ccb-5d2e-40c4-8c84-8c1c926bb105",
   "metadata": {
    "collapsed": true,
    "jupyter": {
     "outputs_hidden": true
    }
   },
   "outputs": [],
   "source": [
    "# Remove those sites from the training and test sets\n",
    "df_tr = df_tr[df_tr.site != 'SaintLouis']\n",
    "df_tr = df_tr[df_tr.site != 'COBRE']\n",
    "df_te = df_te[df_te.site != 'SaintLouis']\n",
    "df_te = df_te[df_te.site != 'COBRE']"
   ]
  },
  {
   "cell_type": "code",
   "execution_count": 263,
   "id": "195228da-3046-411d-872b-a0f6e2b2fa65",
   "metadata": {
    "collapsed": true,
    "jupyter": {
     "outputs_hidden": true
    }
   },
   "outputs": [],
   "source": [
    "# Select the IDPs (columns) of interest from the data frame\n",
    "idps = ['lh_G&S_frontomargin_thickness','rh_G&S_frontomargin_thickness']"
   ]
  },
  {
   "cell_type": "code",
   "execution_count": 264,
   "id": "24a59ef4-3a45-4467-88ba-c8cd87e034c1",
   "metadata": {
    "collapsed": true,
    "jupyter": {
     "outputs_hidden": true
    }
   },
   "outputs": [],
   "source": [
    "# Prepare the data frames for training and testing\n",
    "\n",
    "X_train = (df_tr['age']/100).to_numpy(dtype=float)\n",
    "Y_train = df_tr[idps].to_numpy(dtype=float)\n",
    "batch_effects_train = df_tr[['sitenum', 'sex']].to_numpy(dtype=int)\n",
    "\n",
    "#test_data[['site_id','sex']].to_numpy(dtype=float)\n",
    "\n",
    "# save data\n",
    "with open('X_train.pkl', 'wb') as file:\n",
    "    pickle.dump(pd.DataFrame(X_train), file)\n",
    "with open('Y_train.pkl', 'wb') as file:\n",
    "    pickle.dump(pd.DataFrame(Y_train), file)\n",
    "with open('trbefile.pkl', 'wb') as file:\n",
    "    pickle.dump(pd.DataFrame(batch_effects_train), file)\n",
    "\n",
    "\n",
    "X_test = (df_te['age']/100).to_numpy(dtype=float)\n",
    "Y_test = df_te[idps].to_numpy(dtype=float)\n",
    "batch_effects_test = df_te[['sitenum', 'sex']].to_numpy(dtype=int)\n",
    "\n",
    "#save data\n",
    "with open('X_test.pkl', 'wb') as file:\n",
    "    pickle.dump(pd.DataFrame(X_test), file)\n",
    "with open('Y_test.pkl', 'wb') as file:\n",
    "    pickle.dump(pd.DataFrame(Y_test), file)\n",
    "with open('tsbefile.pkl', 'wb') as file:\n",
    "    pickle.dump(pd.DataFrame(batch_effects_test), file)\n",
    "\n",
    "# a simple function to quickly load pickle files\n",
    "def ldpkl(filename: str):\n",
    "    with open(filename, 'rb') as f:\n",
    "        return pickle.load(f)"
   ]
  },
  {
   "cell_type": "code",
   "execution_count": 265,
   "id": "7a773bc7-3974-4c1d-a914-84ed53be9021",
   "metadata": {
    "collapsed": true,
    "jupyter": {
     "outputs_hidden": true
    }
   },
   "outputs": [],
   "source": [
    "# a simple function to quickly load pickle files\n",
    "def ldpkl(filename: str):\n",
    "    with open(filename, 'rb') as f:\n",
    "        return pickle.load(f)"
   ]
  },
  {
   "cell_type": "code",
   "execution_count": 155,
   "id": "6dafbcac-9518-4a0b-8efb-85c8be440328",
   "metadata": {
    "collapsed": true,
    "jupyter": {
     "outputs_hidden": true
    }
   },
   "outputs": [],
   "source": [
    "# the model needs the paths to the data. create them here\n",
    "\n",
    "respfile = os.path.join(processing_dir, 'Y_train.pkl')       # measurements  (eg cortical thickness) of the training samples (columns: the various features/ROIs, rows: observations or subjects)\n",
    "covfile = os.path.join(processing_dir, 'X_train.pkl')        # covariates (eg age) the training samples (columns: covariates, rows: observations or subjects)\n",
    "\n",
    "testrespfile_path = os.path.join(processing_dir, 'Y_test.pkl')       # measurements  for the testing samples\n",
    "testcovfile_path = os.path.join(processing_dir, 'X_test.pkl')        # covariate file for the testing samples\n",
    "\n",
    "trbefile = os.path.join(processing_dir, 'trbefile.pkl')      # training batch effects file (eg scanner_id, gender)  (columns: the various batch effects, rows: observations or subjects)\n",
    "tsbefile = os.path.join(processing_dir, 'tsbefile.pkl')      # testing batch effects file\n",
    "\n",
    "output_path = os.path.join(processing_dir, 'Models/')    #  output path, where the models will be written\n",
    "log_dir = os.path.join(processing_dir, 'log/')           # log path\n",
    "if not os.path.isdir(output_path):\n",
    "    os.mkdir(output_path)\n",
    "if not os.path.isdir(log_dir):\n",
    "    os.mkdir(log_dir)\n",
    "\n",
    "outputsuffix = 'estimate'      # a string to name the output files, of use only to you, so adapt it for your needs."
   ]
  },
  {
   "cell_type": "markdown",
   "id": "bcff7978-0dbf-41b8-8b83-fa17eed41e55",
   "metadata": {},
   "source": [
    "# 02. Normative modelling\n",
    "## Case 1: Training a nomrative model on different sites and make predictions on the same sites (equal distribution of sites in training and test data)\n",
    "\n",
    "The full model contains a training set (covariates, responses, batch effects) and test set (covariates, responses, batch effects). All batch effects are distributes equally across training and test set.\n",
    "\n",
    "Reqires:\n"
   ]
  },
  {
   "cell_type": "code",
   "execution_count": 156,
   "id": "1aff2cc7-8102-4157-be8f-b915da827955",
   "metadata": {
    "collapsed": true,
    "jupyter": {
     "outputs_hidden": true
    }
   },
   "outputs": [
    {
     "name": "stdout",
     "output_type": "stream",
     "text": [
      "Processing data in /Users/johbay/Dropbox/OHBM2024/educational-course/Site_effect_tutorial/Y_train.pkl\n",
      "Estimating model  1 of 2\n"
     ]
    },
    {
     "name": "stderr",
     "output_type": "stream",
     "text": [
      "Auto-assigning NUTS sampler...\n",
      "Initializing NUTS using jitter+adapt_diag...\n",
      "Sequential sampling (1 chains in 1 job)\n",
      "NUTS: [mu_slope_mu, sigma_slope_mu, offset_slope_mu, mu_intercept_mu, sigma_intercept_mu, offset_intercept_mu, mu_slope_sigma, sigma_slope_sigma, offset_slope_sigma, mu_intercept_sigma, sigma_intercept_sigma, offset_intercept_sigma]\n"
     ]
    },
    {
     "data": {
      "text/html": [
       "\n",
       "    <div>\n",
       "        <style>\n",
       "            /* Turns off some styling */\n",
       "            progress {\n",
       "                /* gets rid of default border in Firefox and Opera. */\n",
       "                border: none;\n",
       "                /* Needs to be in here for Safari polyfill so background images work as expected. */\n",
       "                background-size: auto;\n",
       "            }\n",
       "            .progress-bar-interrupted, .progress-bar-interrupted::-webkit-progress-bar {\n",
       "                background: #F44336;\n",
       "            }\n",
       "        </style>\n",
       "      <progress value='1500' class='' max='1500' style='width:300px; height:20px; vertical-align: middle;'></progress>\n",
       "      100.00% [1500/1500 00:56<00:00 Sampling chain 0, 0 divergences]\n",
       "    </div>\n",
       "    "
      ],
      "text/plain": [
       "<IPython.core.display.HTML object>"
      ]
     },
     "metadata": {},
     "output_type": "display_data"
    },
    {
     "name": "stderr",
     "output_type": "stream",
     "text": [
      "Sampling 1 chain for 500 tune and 1_000 draw iterations (500 + 1_000 draws total) took 56 seconds.\n",
      "Only one chain was sampled, this makes it impossible to run some convergence checks\n",
      "Sampling: [y_like]\n"
     ]
    },
    {
     "data": {
      "text/html": [
       "\n",
       "    <div>\n",
       "        <style>\n",
       "            /* Turns off some styling */\n",
       "            progress {\n",
       "                /* gets rid of default border in Firefox and Opera. */\n",
       "                border: none;\n",
       "                /* Needs to be in here for Safari polyfill so background images work as expected. */\n",
       "                background-size: auto;\n",
       "            }\n",
       "            .progress-bar-interrupted, .progress-bar-interrupted::-webkit-progress-bar {\n",
       "                background: #F44336;\n",
       "            }\n",
       "        </style>\n",
       "      <progress value='1000' class='' max='1000' style='width:300px; height:20px; vertical-align: middle;'></progress>\n",
       "      100.00% [1000/1000 00:00<00:00]\n",
       "    </div>\n",
       "    "
      ],
      "text/plain": [
       "<IPython.core.display.HTML object>"
      ]
     },
     "metadata": {},
     "output_type": "display_data"
    },
    {
     "name": "stderr",
     "output_type": "stream",
     "text": [
      "Sampling: [y_like]\n"
     ]
    },
    {
     "name": "stdout",
     "output_type": "stream",
     "text": [
      "Normal\n"
     ]
    },
    {
     "data": {
      "text/html": [
       "\n",
       "    <div>\n",
       "        <style>\n",
       "            /* Turns off some styling */\n",
       "            progress {\n",
       "                /* gets rid of default border in Firefox and Opera. */\n",
       "                border: none;\n",
       "                /* Needs to be in here for Safari polyfill so background images work as expected. */\n",
       "                background-size: auto;\n",
       "            }\n",
       "            .progress-bar-interrupted, .progress-bar-interrupted::-webkit-progress-bar {\n",
       "                background: #F44336;\n",
       "            }\n",
       "        </style>\n",
       "      <progress value='1000' class='' max='1000' style='width:300px; height:20px; vertical-align: middle;'></progress>\n",
       "      100.00% [1000/1000 00:00<00:00]\n",
       "    </div>\n",
       "    "
      ],
      "text/plain": [
       "<IPython.core.display.HTML object>"
      ]
     },
     "metadata": {},
     "output_type": "display_data"
    },
    {
     "name": "stdout",
     "output_type": "stream",
     "text": [
      "Estimating model  2 of 2\n"
     ]
    },
    {
     "name": "stderr",
     "output_type": "stream",
     "text": [
      "Auto-assigning NUTS sampler...\n",
      "Initializing NUTS using jitter+adapt_diag...\n",
      "Sequential sampling (1 chains in 1 job)\n",
      "NUTS: [mu_slope_mu, sigma_slope_mu, offset_slope_mu, mu_intercept_mu, sigma_intercept_mu, offset_intercept_mu, mu_slope_sigma, sigma_slope_sigma, offset_slope_sigma, mu_intercept_sigma, sigma_intercept_sigma, offset_intercept_sigma]\n"
     ]
    },
    {
     "data": {
      "text/html": [
       "\n",
       "    <div>\n",
       "        <style>\n",
       "            /* Turns off some styling */\n",
       "            progress {\n",
       "                /* gets rid of default border in Firefox and Opera. */\n",
       "                border: none;\n",
       "                /* Needs to be in here for Safari polyfill so background images work as expected. */\n",
       "                background-size: auto;\n",
       "            }\n",
       "            .progress-bar-interrupted, .progress-bar-interrupted::-webkit-progress-bar {\n",
       "                background: #F44336;\n",
       "            }\n",
       "        </style>\n",
       "      <progress value='1500' class='' max='1500' style='width:300px; height:20px; vertical-align: middle;'></progress>\n",
       "      100.00% [1500/1500 00:58<00:00 Sampling chain 0, 0 divergences]\n",
       "    </div>\n",
       "    "
      ],
      "text/plain": [
       "<IPython.core.display.HTML object>"
      ]
     },
     "metadata": {},
     "output_type": "display_data"
    },
    {
     "name": "stderr",
     "output_type": "stream",
     "text": [
      "Sampling 1 chain for 500 tune and 1_000 draw iterations (500 + 1_000 draws total) took 58 seconds.\n",
      "Only one chain was sampled, this makes it impossible to run some convergence checks\n",
      "Sampling: [y_like]\n"
     ]
    },
    {
     "data": {
      "text/html": [
       "\n",
       "    <div>\n",
       "        <style>\n",
       "            /* Turns off some styling */\n",
       "            progress {\n",
       "                /* gets rid of default border in Firefox and Opera. */\n",
       "                border: none;\n",
       "                /* Needs to be in here for Safari polyfill so background images work as expected. */\n",
       "                background-size: auto;\n",
       "            }\n",
       "            .progress-bar-interrupted, .progress-bar-interrupted::-webkit-progress-bar {\n",
       "                background: #F44336;\n",
       "            }\n",
       "        </style>\n",
       "      <progress value='1000' class='' max='1000' style='width:300px; height:20px; vertical-align: middle;'></progress>\n",
       "      100.00% [1000/1000 00:00<00:00]\n",
       "    </div>\n",
       "    "
      ],
      "text/plain": [
       "<IPython.core.display.HTML object>"
      ]
     },
     "metadata": {},
     "output_type": "display_data"
    },
    {
     "name": "stderr",
     "output_type": "stream",
     "text": [
      "Sampling: [y_like]\n"
     ]
    },
    {
     "name": "stdout",
     "output_type": "stream",
     "text": [
      "Normal\n"
     ]
    },
    {
     "data": {
      "text/html": [
       "\n",
       "    <div>\n",
       "        <style>\n",
       "            /* Turns off some styling */\n",
       "            progress {\n",
       "                /* gets rid of default border in Firefox and Opera. */\n",
       "                border: none;\n",
       "                /* Needs to be in here for Safari polyfill so background images work as expected. */\n",
       "                background-size: auto;\n",
       "            }\n",
       "            .progress-bar-interrupted, .progress-bar-interrupted::-webkit-progress-bar {\n",
       "                background: #F44336;\n",
       "            }\n",
       "        </style>\n",
       "      <progress value='1000' class='' max='1000' style='width:300px; height:20px; vertical-align: middle;'></progress>\n",
       "      100.00% [1000/1000 00:00<00:00]\n",
       "    </div>\n",
       "    "
      ],
      "text/plain": [
       "<IPython.core.display.HTML object>"
      ]
     },
     "metadata": {},
     "output_type": "display_data"
    },
    {
     "name": "stdout",
     "output_type": "stream",
     "text": [
      "Saving model meta-data...\n",
      "Evaluating the model ...\n",
      "Writing outputs ...\n"
     ]
    }
   ],
   "source": [
    "# train the model\n",
    "\n",
    "ptk.normative.estimate(covfile=covfile, \n",
    "                       respfile=respfile,\n",
    "                       tsbefile=tsbefile, \n",
    "                       model_type='bspline',\n",
    "                       linear_sigma = 'True',\n",
    "                       random_intercept_sigma = 'True',\n",
    "                       random_slope_sigma = 'True',\n",
    "                       linear_mu='True',\n",
    "                       random_intercept_mu='True',\n",
    "                       random_slope_mu='True',\n",
    "                       alg='hbr', \n",
    "                       log_path=log_dir, \n",
    "                       binary=True,\n",
    "                       output_path=output_path, \n",
    "                       testcov= testcovfile_path,\n",
    "                       testresp = testrespfile_path,\n",
    "                       trbefile=trbefile,\n",
    "                       outputsuffix=outputsuffix, \n",
    "                       savemodel=True)"
   ]
  },
  {
   "cell_type": "markdown",
   "id": "d20e6828-de3e-4f9b-b9ee-254fcf9e3d15",
   "metadata": {},
   "source": [
    "# Case 1: Results"
   ]
  },
  {
   "cell_type": "code",
   "execution_count": 157,
   "id": "6b94234b-fc23-4c6c-89f0-add4a1f54cc2",
   "metadata": {
    "collapsed": true,
    "jupyter": {
     "outputs_hidden": true
    }
   },
   "outputs": [],
   "source": [
    "# load the estimated model for the first IDP (column)\n",
    "model1_estimate = ldpkl(os.path.join(processing_dir, \"Models/NM_0_0_estimate.pkl\"))"
   ]
  },
  {
   "cell_type": "code",
   "execution_count": 158,
   "id": "f00434b7-b388-4019-aa4f-1dd7f0fb2eec",
   "metadata": {
    "collapsed": true,
    "jupyter": {
     "outputs_hidden": true
    }
   },
   "outputs": [
    {
     "name": "stdout",
     "output_type": "stream",
     "text": [
      "Help on NormHBR in module pcntoolkit.normative_model.norm_hbr object:\n",
      "\n",
      "class NormHBR(pcntoolkit.normative_model.norm_base.NormBase)\n",
      " |  NormHBR(**kwargs)\n",
      " |  \n",
      " |  HBR multi-batch normative modelling class. By default, this function\n",
      " |  estimates a linear model with random intercept, random slope, and random\n",
      " |  homoscedastic noise.\n",
      " |  \n",
      " |  :param X: [N×P] array of clinical covariates\n",
      " |  :param y: [N×1] array of neuroimaging measures\n",
      " |  :param trbefile: the address to the batch effects file for the training set.\n",
      " |      the batch effect array should be a [N×M] array where M is the number of\n",
      " |      the type of batch effects. For example when the site and gender is modeled\n",
      " |      as batch effects M=2. Each column in the batch effect array contains the\n",
      " |      batch ID (starting from 0) for each sample. If not specified (default=None)\n",
      " |      then all samples assumed to be from the same batch (i.e., the batch effect\n",
      " |                                                          is not modelled).\n",
      " |  :param tsbefile: Similar to trbefile for the test set.\n",
      " |  :param model_type: Specifies the type of the model from 'linear', 'plynomial',\n",
      " |      and 'bspline' (defauls is 'linear').\n",
      " |  :param likelihood: specifies the type of likelihood among 'Normal' 'SHASHb','SHASHo',\n",
      " |      and 'SHASHo2' (defauls is normal).\n",
      " |  :param linear_mu: Boolean (default='True') to decide whether the mean (mu) is\n",
      " |      parametrized on a linear function (thus changes with covariates) or it is fixed.\n",
      " |  :param linear_sigma: Boolean (default='False') to decide whether the variance (sigma) is\n",
      " |      parametrized on a linear function (heteroscedastic noise) or it is fixed for\n",
      " |      each batch (homoscedastic noise).\n",
      " |  :param linear_epsilon: Boolean (default='False') to decide the parametrization\n",
      " |      of epsilon for the SHASH likelihood that controls its skewness.\n",
      " |      If True, epsilon is  parametrized on a linear function\n",
      " |      (thus changes with covariates) otherwise it is fixed for each batch.\n",
      " |  :param linear_delta: Boolean (default='False') to decide the parametrization\n",
      " |      of delta for the SHASH likelihood that controls its kurtosis.\n",
      " |      If True, delta is  parametrized on a linear function\n",
      " |      (thus changes with covariates) otherwise it is fixed for each batch.\n",
      " |  :param random_intercept_{parameter}: if parameters mu (default='True'),\n",
      " |      sigma (default='False'), epsilon (default='False'), and delta (default='False')\n",
      " |      are parametrized on a linear function, then this boolean decides\n",
      " |      whether the intercept can vary across batches.\n",
      " |  :param random_slope_{parameter}: if parameters mu (default='True'),\n",
      " |      sigma (default='False'), epsilon (default='False'), and delta (default='False')\n",
      " |      are parametrized on a linear function, then this boolean decides\n",
      " |      whether the slope can vary across batches.\n",
      " |  :param centered_intercept_{parameter}: if parameters mu (default='False'),\n",
      " |      sigma (default='False'), epsilon (default='False'), and delta (default='False')\n",
      " |      are parametrized on a linear function, then this boolean decides\n",
      " |      whether the parameters of intercept are estimated in a centered or\n",
      " |      non-centered manner (default). While centered estimation runs faster\n",
      " |      it may cause some problems for the sampler (the funnel of hell).\n",
      " |  :param centered_slope_{parameter}: if parameters mu (default='False'),\n",
      " |      sigma (default='False'), epsilon (default='False'), and delta (default='False')\n",
      " |      are parametrized on a linear function, then this boolean decides\n",
      " |      whether the parameters of slope are estimated in a centered or\n",
      " |      non-centered manner (default). While centered estimation runs faster\n",
      " |      it may cause some problems for the sampler (the funnel of hell).\n",
      " |  :param sampler: specifies the type of PyMC sampler (Defauls is 'NUTS').\n",
      " |  :param n_samples: The number of samples to draw (Default is '1000'). Please\n",
      " |      note that this parameter must be specified in a string fromat ('1000' and\n",
      " |                                                                     not 1000).\n",
      " |  :param n_tuning: String that specifies the number of iterations to adjust\n",
      " |      the samplers's step sizes, scalings or similar (defauls is '500').\n",
      " |  :param n_chains: String that specifies the number of chains to sample. Defauls\n",
      " |      is '1' for faster estimation, but note that sampling independent chains\n",
      " |      is important for some convergence checks.\n",
      " |  :param cores: String that specifies the number of chains to run in parallel.\n",
      " |      (defauls is '1').\n",
      " |  :param init: Initialization method to use for auto-assigned NUTS samplers. The\n",
      " |      defauls is 'jitter+adapt_diag' that starts with a identity mass matrix\n",
      " |      and then adapt a diagonal based on the variance of the tuning samples\n",
      " |      while adding a uniform jitter in [-1, 1] to the starting point in each chain.\n",
      " |  :param target_accept: String that of a float in [0, 1] that regulates the\n",
      " |      step size such that we approximate this acceptance rate. The defauls is '0.8'\n",
      " |      but higher values like 0.9 or 0.95 often work better for problematic posteriors.\n",
      " |  :param order: String that defines the order of bspline or polynomial model.\n",
      " |      The defauls is '3'.\n",
      " |  :param nknots: String that defines the numbers of knots for the bspline model.\n",
      " |      The defauls is '5'. Higher values increase the model complexity with negative\n",
      " |      effect on the spped of estimations.\n",
      " |  :param nn_hidden_layers_num: String the specifies the number of hidden layers\n",
      " |      in neural network model. It can be either '1' or '2'. The default is set to '2'.\n",
      " |  :param nn_hidden_neuron_num: String that specifies the number of neurons in\n",
      " |      the hidden layers. The defauls is set to  '2'.\n",
      " |  \n",
      " |  Written by S.de Boer and S.M. Kia\n",
      " |  \n",
      " |  Method resolution order:\n",
      " |      NormHBR\n",
      " |      pcntoolkit.normative_model.norm_base.NormBase\n",
      " |      builtins.object\n",
      " |  \n",
      " |  Methods defined here:\n",
      " |  \n",
      " |  __init__(self, **kwargs)\n",
      " |      Initialize self.  See help(type(self)) for accurate signature.\n",
      " |  \n",
      " |  estimate(self, X, y, **kwargs)\n",
      " |      Sample from the posterior of the Hierarchical Bayesian Regression model.\n",
      " |      \n",
      " |      This function samples from the posterior distribution of the Hierarchical Bayesian Regression (HBR) model given the data matrix 'X' and target 'y'. \n",
      " |      If 'trbefile' is provided in kwargs, it is used as batch effects for the training data. \n",
      " |      Otherwise, the batch effects are initialized as zeros.\n",
      " |      \n",
      " |      :param X: Data matrix.\n",
      " |      :param y: Target values.\n",
      " |      :param kwargs: Keyword arguments which may include:\n",
      " |          - 'trbefile': File containing the batch effects for the training data. Optional.\n",
      " |      :return: The instance of the NormHBR object.\n",
      " |  \n",
      " |  estimate_on_new_sites(self, X, y, batch_effects)\n",
      " |      Samples from the posterior of the Hierarchical Bayesian Regression model.\n",
      " |      \n",
      " |      This function samples from the posterior of the Hierarchical Bayesian Regression (HBR) model given the data matrix 'X' and target 'y'. The posterior samples from the previous iteration are used to construct the priors for this one.  \n",
      " |      If 'trbefile' is provided in kwargs, it is used as batch effects for the training data. \n",
      " |      Otherwise, the batch effects are initialized as zeros.\n",
      " |      \n",
      " |      :param X: Data matrix.\n",
      " |      :param y: Target values.\n",
      " |      :param kwargs: Keyword arguments which may include:\n",
      " |          - 'trbefile': File containing the batch effects for the training data. Optional.\n",
      " |      :return: The instance of the NormHBR object.\n",
      " |  \n",
      " |  extend(self, X, y, batch_effects, X_dummy_ranges=[[0.1, 0.9, 0.01]], merge_batch_dim=0, samples=10, informative_prior=False)\n",
      " |      Extend the Hierarchical Bayesian Regression model using data sampled from the posterior predictive distribution.\n",
      " |      \n",
      " |      This function extends the Hierarchical Bayesian Regression (HBR) model, given the data matrix 'X' and target 'y'. \n",
      " |      It also generates data from the posterior predictive distribution and merges it with the new data before estimation. \n",
      " |      If 'informative_prior' is True, it uses the adapt method for estimation. Otherwise, it uses the estimate method.\n",
      " |      \n",
      " |      :param X: Data matrix for the new sites.\n",
      " |      :param y: Target values for the new sites.\n",
      " |      :param batch_effects: Batch effects for the new sites.\n",
      " |      :param X_dummy_ranges: Ranges for generating the dummy data. Default is [[0.1, 0.9, 0.01]].\n",
      " |      :param merge_batch_dim: Dimension for merging the batch effects. Default is 0.\n",
      " |      :param samples: Number of samples to generate for the dummy data. Default is 10.\n",
      " |      :param informative_prior: Whether to use the adapt method for estimation. Default is False.\n",
      " |      :return: The instance of the NormHBR object.\n",
      " |  \n",
      " |  generate(self, X, batch_effects, samples=10)\n",
      " |  \n",
      " |  get_mcmc_quantiles(self, X, batch_effects=None, z_scores=None)\n",
      " |      Computes quantiles of an estimated normative model.\n",
      " |      \n",
      " |      Args:\n",
      " |          X ([N*p]ndarray): covariates for which the quantiles are computed (must be scaled if scaler is set)\n",
      " |          batch_effects (ndarray): the batch effects corresponding to X\n",
      " |          z_scores (ndarray): Use this to determine which quantiles will be computed. The resulting quantiles will have the z-scores given in this list.\n",
      " |  \n",
      " |  get_mcmc_zscores(self, X, y, **kwargs)\n",
      " |      Computes zscores of data given an estimated model\n",
      " |      \n",
      " |      Args:\n",
      " |          X ([N*p]ndarray): covariates\n",
      " |          y ([N*1]ndarray): response variables\n",
      " |  \n",
      " |  merge(self, nm, X_dummy_ranges=[[0.1, 0.9, 0.01]], merge_batch_dim=0, samples=10)\n",
      " |      Samples from the posterior predictive distribitions of two models, merges them, and estimates a model on the merged data.\n",
      " |      \n",
      " |      This function samples from the posterior predictive distribitions of two models, merges them, and estimates a model on the merged data.\n",
      " |      \n",
      " |      :param nm: The other NormHBR object.\n",
      " |      :param X_dummy_ranges: Ranges for generating the dummy data. Default is [[0.1, 0.9, 0.01]].\n",
      " |      :param merge_batch_dim: Dimension for merging the batch effects. Default is 0.\n",
      " |      :param samples: Number of samples to generate for the dummy data. Default is 10.\n",
      " |  \n",
      " |  predict(self, Xs, X=None, Y=None, **kwargs)\n",
      " |      Predict the target values for the given test data.\n",
      " |      \n",
      " |      This function predicts the target values for the given test data 'Xs' using the Hierarchical Bayesian Regression (HBR) model. \n",
      " |      If 'X' and 'Y' are provided, they are used to update the model before prediction. \n",
      " |      If 'tsbefile' is provided in kwargs, it is used to as batch effects for the test data. \n",
      " |      Otherwise, the batch effects are initialized as zeros.\n",
      " |      \n",
      " |      :param Xs: Test data matrix.\n",
      " |      :param X: Training data matrix. Optional.\n",
      " |      :param Y: Training target values. Optional.\n",
      " |      :param kwargs: Keyword arguments which may include:\n",
      " |          - 'tsbefile': File containing the batch effects for the test data. Optional.\n",
      " |      :return: A tuple containing the predicted target values and the marginal variances for the test data.\n",
      " |      :raises ValueError: If the model is a transferred model. In this case, use the predict_on_new_sites function.\n",
      " |  \n",
      " |  predict_on_new_sites(self, X, batch_effects)\n",
      " |      Predict the target values for the given test data on new sites.\n",
      " |      \n",
      " |      This function predicts the target values for the given test data 'X' on new sites using the Hierarchical Bayesian Regression (HBR) model. \n",
      " |      The batch effects for the new sites must be provided.\n",
      " |      \n",
      " |      :param X: Test data matrix for the new sites.\n",
      " |      :param batch_effects: Batch effects for the new sites.\n",
      " |      :return: A tuple containing the predicted target values and the marginal variances for the test data on the new sites.\n",
      " |  \n",
      " |  tune(self, X, y, batch_effects, X_dummy_ranges=[[0.1, 0.9, 0.01]], merge_batch_dim=0, samples=10, informative_prior=False)\n",
      " |  \n",
      " |  ----------------------------------------------------------------------\n",
      " |  Readonly properties defined here:\n",
      " |  \n",
      " |  n_params\n",
      " |      Report the number of parameters required by the model\n",
      " |  \n",
      " |  neg_log_lik\n",
      " |  \n",
      " |  ----------------------------------------------------------------------\n",
      " |  Data and other attributes defined here:\n",
      " |  \n",
      " |  __abstractmethods__ = frozenset()\n",
      " |  \n",
      " |  __slotnames__ = []\n",
      " |  \n",
      " |  ----------------------------------------------------------------------\n",
      " |  Methods inherited from pcntoolkit.normative_model.norm_base.NormBase:\n",
      " |  \n",
      " |  load(self, load_path)\n",
      " |  \n",
      " |  save(self, save_path)\n",
      " |  \n",
      " |  ----------------------------------------------------------------------\n",
      " |  Data descriptors inherited from pcntoolkit.normative_model.norm_base.NormBase:\n",
      " |  \n",
      " |  __dict__\n",
      " |      dictionary for instance variables (if defined)\n",
      " |  \n",
      " |  __weakref__\n",
      " |      list of weak references to the object (if defined)\n",
      "\n"
     ]
    }
   ],
   "source": [
    "# we can always have a display of all available methods using the help call:\n",
    "help(model1_estimate)"
   ]
  },
  {
   "cell_type": "markdown",
   "id": "9995b7e7-4a8d-43d2-a81c-7cab230b8c0e",
   "metadata": {},
   "source": [
    "## Case 1a: plot the results for one site."
   ]
  },
  {
   "cell_type": "code",
   "execution_count": 204,
   "id": "fb7585f5-200e-4481-94dd-d793b78bd409",
   "metadata": {
    "collapsed": true,
    "jupyter": {
     "outputs_hidden": true
    }
   },
   "outputs": [],
   "source": [
    "# create dummy zscores\n",
    "zscores = np.arange(-3,4)[:,np.newaxis]\n",
    "\n",
    "# We need to provide a matrix of shape [N,d]. In this case d=1, so we need to expand this matrix with a single 'empty' dimension.\n",
    "# We can do this by using the np.newaxis in this way.\n",
    "# Create sythetic X achsis\n",
    "n_synthetic_samples = 200\n",
    "synthetic_X = np.linspace(0.15, 0.85, n_synthetic_samples)[:,np.newaxis]\n",
    "# choose type of site effect by cerating intercept offset (or not)\n",
    "be = np.zeros((n_synthetic_samples,2))\n",
    "sevens = np.ones((n_synthetic_samples,1))*8\n",
    "be[:,0] = sevens[:,0]\n",
    "be=be.astype(int)"
   ]
  },
  {
   "cell_type": "code",
   "execution_count": 206,
   "id": "84fdf51d-7074-49c6-8aa2-f44a585e0e84",
   "metadata": {
    "collapsed": true,
    "jupyter": {
     "outputs_hidden": true
    }
   },
   "outputs": [
    {
     "name": "stderr",
     "output_type": "stream",
     "text": [
      "Sampling: [y_like]\n"
     ]
    },
    {
     "data": {
      "text/html": [
       "\n",
       "    <div>\n",
       "        <style>\n",
       "            /* Turns off some styling */\n",
       "            progress {\n",
       "                /* gets rid of default border in Firefox and Opera. */\n",
       "                border: none;\n",
       "                /* Needs to be in here for Safari polyfill so background images work as expected. */\n",
       "                background-size: auto;\n",
       "            }\n",
       "            .progress-bar-interrupted, .progress-bar-interrupted::-webkit-progress-bar {\n",
       "                background: #F44336;\n",
       "            }\n",
       "        </style>\n",
       "      <progress value='1000' class='' max='1000' style='width:300px; height:20px; vertical-align: middle;'></progress>\n",
       "      100.00% [1000/1000 00:00<00:00]\n",
       "    </div>\n",
       "    "
      ],
      "text/plain": [
       "<IPython.core.display.HTML object>"
      ]
     },
     "metadata": {},
     "output_type": "display_data"
    }
   ],
   "source": [
    "# get quantiles based on x achsis, batch effetcs be and zscore range\n",
    "q = model1_estimate.get_mcmc_quantiles(synthetic_X, be, zscores)"
   ]
  },
  {
   "cell_type": "code",
   "execution_count": 210,
   "id": "2086050b-27e1-49d6-9385-a3ada654be82",
   "metadata": {
    "collapsed": true,
    "jupyter": {
     "outputs_hidden": true
    }
   },
   "outputs": [
    {
     "data": {
      "text/plain": [
       "Text(0.5, 1.0, 'site [8 0]')"
      ]
     },
     "execution_count": 210,
     "metadata": {},
     "output_type": "execute_result"
    },
    {
     "data": {
      "image/png": "[encoded data removed]",
      "text/plain": [
       "<Figure size 640x480 with 1 Axes>"
      ]
     },
     "metadata": {},
     "output_type": "display_data"
    }
   ],
   "source": [
    "# Plot the original training set data points (site 0) into the centiles\n",
    "plt.scatter(X_test[batch_effects_test[:,0]==8], Y_test[batch_effects_test[:,0]==8, 0])\n",
    "for i, v in enumerate(zscores):\n",
    "    thickness = 1\n",
    "    linestyle = \"-\"\n",
    "    if v == 0:\n",
    "        thickness = 2\n",
    "    if abs(v) > 2:\n",
    "        linestyle = \"--\"\n",
    "    plt.plot(synthetic_X, q[i], linewidth = thickness, linestyle = linestyle, color = 'black', alpha = 0.7)\n",
    "\n",
    "plt.title('site ' + str(be[0]))"
   ]
  },
  {
   "cell_type": "markdown",
   "id": "496923cb-72d2-4fa9-8122-d02693e91b05",
   "metadata": {},
   "source": [
    "## Case 1b: Add data points from site 7 into the quantile plot of site 8.\n",
    "\n",
    "1. Create a forward prediction for the covariate combination of each individual of site 7 for site 8\n",
    "2. Use yhat and s2 to invert z score of those individuals\n",
    "\n",
    "Rationale:\n",
    "\n",
    "The zscores that the model produces are normalized for site. Hence, the z-socres are comparable in z-score space.\n",
    "In order to convert the data points back into different site spaces, we need to revert the z-score transformation.\n",
    "\n",
    "$z_7 = z_8$\n",
    "\n",
    "\n",
    "\n"
   ]
  },
  {
   "cell_type": "code",
   "execution_count": 244,
   "id": "14a893a6-4b23-4cf9-b1ab-141587abe169",
   "metadata": {
    "collapsed": true,
    "jupyter": {
     "outputs_hidden": true
    }
   },
   "outputs": [],
   "source": [
    "# Select individuals from site 7\n",
    "\n",
    "X_test_7=X_test[batch_effects_test[:,0]==7]\n",
    "n_synthetic_samples = sum(batch_effects_test[:,0]==7)\n",
    "\n",
    "# Create a batch effect file for forward predictions in site\n",
    "be = np.zeros((n_synthetic_samples,2))\n",
    "eights = np.ones((n_synthetic_samples,1))*8\n",
    "be[:,0] = eights[:,0]\n",
    "be=be.astype(int)\n",
    "\n",
    "with open('X_test_7.pkl', 'wb') as file:\n",
    "    pickle.dump(pd.DataFrame(X_test_7), file)\n",
    "\n",
    "X_test_7_path = os.path.join(processing_dir, 'X_test_7.pkl')\n",
    "\n",
    "with open('be_8.pkl', 'wb') as file:\n",
    "    pickle.dump(pd.DataFrame(be), file)\n",
    "\n",
    "be_8_path = os.path.join(processing_dir, 'be_8.pkl')"
   ]
  },
  {
   "cell_type": "code",
   "execution_count": 233,
   "id": "e1159826-a6fa-4309-a424-a584efa00d0c",
   "metadata": {
    "collapsed": true,
    "jupyter": {
     "outputs_hidden": true
    }
   },
   "outputs": [
    {
     "data": {
      "text/plain": [
       "104"
      ]
     },
     "execution_count": 233,
     "metadata": {},
     "output_type": "execute_result"
    }
   ],
   "source": [
    "sum(batch_effects_test[:,0]==7)"
   ]
  },
  {
   "cell_type": "code",
   "execution_count": 245,
   "id": "1f3fd2e6-ff1a-4937-b9d6-a084f026a2ef",
   "metadata": {
    "collapsed": true,
    "jupyter": {
     "outputs_hidden": true
    }
   },
   "outputs": [
    {
     "name": "stderr",
     "output_type": "stream",
     "text": [
      "Sampling: [y_like]\n"
     ]
    },
    {
     "name": "stdout",
     "output_type": "stream",
     "text": [
      "Loading data ...\n",
      "Prediction by model  1 of 2\n"
     ]
    },
    {
     "data": {
      "text/html": [
       "\n",
       "    <div>\n",
       "        <style>\n",
       "            /* Turns off some styling */\n",
       "            progress {\n",
       "                /* gets rid of default border in Firefox and Opera. */\n",
       "                border: none;\n",
       "                /* Needs to be in here for Safari polyfill so background images work as expected. */\n",
       "                background-size: auto;\n",
       "            }\n",
       "            .progress-bar-interrupted, .progress-bar-interrupted::-webkit-progress-bar {\n",
       "                background: #F44336;\n",
       "            }\n",
       "        </style>\n",
       "      <progress value='1000' class='' max='1000' style='width:300px; height:20px; vertical-align: middle;'></progress>\n",
       "      100.00% [1000/1000 00:00<00:00]\n",
       "    </div>\n",
       "    "
      ],
      "text/plain": [
       "<IPython.core.display.HTML object>"
      ]
     },
     "metadata": {},
     "output_type": "display_data"
    },
    {
     "name": "stderr",
     "output_type": "stream",
     "text": [
      "Sampling: [y_like]\n"
     ]
    },
    {
     "name": "stdout",
     "output_type": "stream",
     "text": [
      "Prediction by model  2 of 2\n"
     ]
    },
    {
     "data": {
      "text/html": [
       "\n",
       "    <div>\n",
       "        <style>\n",
       "            /* Turns off some styling */\n",
       "            progress {\n",
       "                /* gets rid of default border in Firefox and Opera. */\n",
       "                border: none;\n",
       "                /* Needs to be in here for Safari polyfill so background images work as expected. */\n",
       "                background-size: auto;\n",
       "            }\n",
       "            .progress-bar-interrupted, .progress-bar-interrupted::-webkit-progress-bar {\n",
       "                background: #F44336;\n",
       "            }\n",
       "        </style>\n",
       "      <progress value='1000' class='' max='1000' style='width:300px; height:20px; vertical-align: middle;'></progress>\n",
       "      100.00% [1000/1000 00:00<00:00]\n",
       "    </div>\n",
       "    "
      ],
      "text/plain": [
       "<IPython.core.display.HTML object>"
      ]
     },
     "metadata": {},
     "output_type": "display_data"
    },
    {
     "name": "stdout",
     "output_type": "stream",
     "text": [
      "Writing outputs ...\n"
     ]
    },
    {
     "data": {
      "text/plain": [
       "(array([[2.23549051, 2.23990466],\n",
       "        [2.228797  , 2.22830418],\n",
       "        [2.25945111, 2.27936089],\n",
       "        [2.26130315, 2.27324702],\n",
       "        [2.23889121, 2.24645494],\n",
       "        [2.22206865, 2.21822383],\n",
       "        [2.24172831, 2.24517322],\n",
       "        [2.27397476, 2.27111809],\n",
       "        [2.2107837 , 2.20232353],\n",
       "        [2.21366475, 2.19374405],\n",
       "        [2.23635054, 2.2433141 ],\n",
       "        [2.24908275, 2.26811817],\n",
       "        [2.26427924, 2.28886727],\n",
       "        [2.2665631 , 2.27413624],\n",
       "        [2.2685913 , 2.2857214 ],\n",
       "        [2.26233992, 2.28173207],\n",
       "        [2.23974336, 2.24963592],\n",
       "        [2.24539578, 2.27783205],\n",
       "        [2.24536897, 2.25210747],\n",
       "        [2.25331173, 2.26685749],\n",
       "        [2.23548475, 2.23983614],\n",
       "        [2.25539138, 2.27033763],\n",
       "        [2.23198245, 2.23967212],\n",
       "        [2.25168536, 2.26715516],\n",
       "        [2.24515031, 2.26025179],\n",
       "        [2.24722345, 2.2353492 ],\n",
       "        [2.24216188, 2.25543095],\n",
       "        [2.25095833, 2.24826847],\n",
       "        [2.23462154, 2.23948075],\n",
       "        [2.26129667, 2.26770948],\n",
       "        [2.2505989 , 2.25531882],\n",
       "        [2.22908972, 2.22494697],\n",
       "        [2.2436142 , 2.2343345 ],\n",
       "        [2.24125138, 2.24978214],\n",
       "        [2.24447636, 2.25234572],\n",
       "        [2.22097768, 2.21920277],\n",
       "        [2.2565677 , 2.2741732 ],\n",
       "        [2.23885166, 2.25594812],\n",
       "        [2.26778987, 2.26826156],\n",
       "        [2.23106636, 2.22509088],\n",
       "        [2.22232103, 2.24370416],\n",
       "        [2.25442305, 2.27156052],\n",
       "        [2.25452455, 2.25803701],\n",
       "        [2.22579961, 2.24325334],\n",
       "        [2.25358691, 2.25430979],\n",
       "        [2.25882208, 2.26541858],\n",
       "        [2.24179637, 2.23762972],\n",
       "        [2.25208676, 2.2478896 ],\n",
       "        [2.26517157, 2.26745253],\n",
       "        [2.26540209, 2.26471734],\n",
       "        [2.25620862, 2.27722632],\n",
       "        [2.26048407, 2.29913633],\n",
       "        [2.24406294, 2.23588648],\n",
       "        [2.23528381, 2.24762614],\n",
       "        [2.27826421, 2.28228486],\n",
       "        [2.22722468, 2.23588183],\n",
       "        [2.22596467, 2.22127734],\n",
       "        [2.25865756, 2.28940779],\n",
       "        [2.24101499, 2.25656442],\n",
       "        [2.2487252 , 2.2582671 ],\n",
       "        [2.24761102, 2.24197353],\n",
       "        [2.25994864, 2.26362495],\n",
       "        [2.25908227, 2.26897665],\n",
       "        [2.23518896, 2.24159151],\n",
       "        [2.22515913, 2.22882032],\n",
       "        [2.24721616, 2.25820543],\n",
       "        [2.25017067, 2.25691352],\n",
       "        [2.25199475, 2.25049434],\n",
       "        [2.25039391, 2.27386328],\n",
       "        [2.26475838, 2.28480858],\n",
       "        [2.21092001, 2.22352168],\n",
       "        [2.2391594 , 2.23730349],\n",
       "        [2.24383289, 2.25104087],\n",
       "        [2.24824291, 2.24924613],\n",
       "        [2.2492963 , 2.26391722],\n",
       "        [2.25397831, 2.26096156],\n",
       "        [2.2563613 , 2.27189562],\n",
       "        [2.27099856, 2.29175632],\n",
       "        [2.23651434, 2.24909887],\n",
       "        [2.25836878, 2.27663078],\n",
       "        [2.24427553, 2.24713543],\n",
       "        [2.26289864, 2.27911206],\n",
       "        [2.26946588, 2.26659895],\n",
       "        [2.25294562, 2.26245538],\n",
       "        [2.23536948, 2.25447617],\n",
       "        [2.22946995, 2.23923329],\n",
       "        [2.25219971, 2.27384077],\n",
       "        [2.24764166, 2.26254828],\n",
       "        [2.23919966, 2.24819425],\n",
       "        [2.27546048, 2.28577954],\n",
       "        [2.250241  , 2.26397287],\n",
       "        [2.26883797, 2.27935252],\n",
       "        [2.2663798 , 2.2802213 ],\n",
       "        [2.25130113, 2.2473464 ],\n",
       "        [2.22139443, 2.21674564],\n",
       "        [2.23776803, 2.23534072],\n",
       "        [2.26005743, 2.25300747],\n",
       "        [2.24822382, 2.24952243],\n",
       "        [2.25453787, 2.26871821],\n",
       "        [2.25246366, 2.26616246],\n",
       "        [2.25700059, 2.26766931],\n",
       "        [2.2524827 , 2.27880173],\n",
       "        [2.24805446, 2.25936647],\n",
       "        [2.2622255 , 2.27131793]]),\n",
       " array([[0.04389829, 0.03729568],\n",
       "        [0.03720213, 0.03798138],\n",
       "        [0.04603977, 0.04164493],\n",
       "        [0.04478882, 0.04309031],\n",
       "        [0.04281989, 0.03445663],\n",
       "        [0.03932231, 0.03264796],\n",
       "        [0.0364339 , 0.03973083],\n",
       "        [0.04646273, 0.04390199],\n",
       "        [0.03383875, 0.03341459],\n",
       "        [0.03486271, 0.03262659],\n",
       "        [0.04126558, 0.03736881],\n",
       "        [0.04564312, 0.04320366],\n",
       "        [0.0453714 , 0.04276284],\n",
       "        [0.04455614, 0.03944275],\n",
       "        [0.04562369, 0.04527876],\n",
       "        [0.04295133, 0.0417161 ],\n",
       "        [0.03852302, 0.04211674],\n",
       "        [0.04499039, 0.03916372],\n",
       "        [0.04198543, 0.04217734],\n",
       "        [0.04516794, 0.04138392],\n",
       "        [0.04008087, 0.03897612],\n",
       "        [0.04411386, 0.0417207 ],\n",
       "        [0.03919281, 0.03422848],\n",
       "        [0.04820303, 0.03747719],\n",
       "        [0.04334992, 0.04111427],\n",
       "        [0.0405693 , 0.03507672],\n",
       "        [0.04166386, 0.04224409],\n",
       "        [0.04363809, 0.03698605],\n",
       "        [0.04058506, 0.03331104],\n",
       "        [0.04394758, 0.04246039],\n",
       "        [0.04184635, 0.03587463],\n",
       "        [0.03732832, 0.03496174],\n",
       "        [0.03891147, 0.03919997],\n",
       "        [0.0401465 , 0.03917342],\n",
       "        [0.0467068 , 0.03649535],\n",
       "        [0.03661144, 0.03191907],\n",
       "        [0.04704991, 0.04178926],\n",
       "        [0.04259834, 0.0368175 ],\n",
       "        [0.04295804, 0.04255404],\n",
       "        [0.03839315, 0.03614874],\n",
       "        [0.04065425, 0.034407  ],\n",
       "        [0.04344101, 0.04364439],\n",
       "        [0.0378916 , 0.03828284],\n",
       "        [0.03960037, 0.03950891],\n",
       "        [0.04346755, 0.03618004],\n",
       "        [0.04612983, 0.03960513],\n",
       "        [0.04313611, 0.03648183],\n",
       "        [0.04380718, 0.03887039],\n",
       "        [0.04436572, 0.03856516],\n",
       "        [0.04517549, 0.0433576 ],\n",
       "        [0.04275217, 0.0413678 ],\n",
       "        [0.04738743, 0.04435034],\n",
       "        [0.04140736, 0.03595291],\n",
       "        [0.04130923, 0.03499332],\n",
       "        [0.04457626, 0.04365133],\n",
       "        [0.03882894, 0.03643194],\n",
       "        [0.04094122, 0.03709275],\n",
       "        [0.04324747, 0.04315684],\n",
       "        [0.04256768, 0.03742478],\n",
       "        [0.0432121 , 0.03820853],\n",
       "        [0.04039581, 0.03589384],\n",
       "        [0.04044108, 0.04027671],\n",
       "        [0.0449032 , 0.04025006],\n",
       "        [0.0423201 , 0.03818743],\n",
       "        [0.03889692, 0.03529152],\n",
       "        [0.04205964, 0.03817251],\n",
       "        [0.04403656, 0.03708282],\n",
       "        [0.04177536, 0.03718773],\n",
       "        [0.04233889, 0.04014996],\n",
       "        [0.04588153, 0.04912955],\n",
       "        [0.03710862, 0.03451776],\n",
       "        [0.04136748, 0.0372932 ],\n",
       "        [0.04491067, 0.04142838],\n",
       "        [0.04104045, 0.03797269],\n",
       "        [0.04567251, 0.04332086],\n",
       "        [0.0442243 , 0.04136729],\n",
       "        [0.04737235, 0.04192403],\n",
       "        [0.04407834, 0.04656469],\n",
       "        [0.04034468, 0.03829856],\n",
       "        [0.03805701, 0.03992405],\n",
       "        [0.04138859, 0.03941499],\n",
       "        [0.04385129, 0.0425359 ],\n",
       "        [0.04789155, 0.0418939 ],\n",
       "        [0.04121607, 0.03849603],\n",
       "        [0.04133284, 0.04063143],\n",
       "        [0.03828131, 0.03812549],\n",
       "        [0.04606658, 0.0432177 ],\n",
       "        [0.04346981, 0.04060119],\n",
       "        [0.04234097, 0.03856559],\n",
       "        [0.04721308, 0.04321485],\n",
       "        [0.04286332, 0.04177027],\n",
       "        [0.04672327, 0.04580747],\n",
       "        [0.0458877 , 0.04200837],\n",
       "        [0.04022897, 0.03984574],\n",
       "        [0.03487895, 0.0354778 ],\n",
       "        [0.04172062, 0.03594057],\n",
       "        [0.04427759, 0.03780754],\n",
       "        [0.04313344, 0.03948488],\n",
       "        [0.04325052, 0.03890371],\n",
       "        [0.04155549, 0.04031159],\n",
       "        [0.04345289, 0.04259688],\n",
       "        [0.04457388, 0.0415429 ],\n",
       "        [0.04182162, 0.04028558],\n",
       "        [0.04226934, 0.04453822]]))"
      ]
     },
     "execution_count": 245,
     "metadata": {},
     "output_type": "execute_result"
    }
   ],
   "source": [
    "ptk.normative.predict(covfile=X_test_7_path,\n",
    "                      inputsuffix='_estimate',\n",
    "                      respfile=None,\n",
    "                      tsbefile=be_8_path,\n",
    "                      model_path=output_path,\n",
    "                      alg='hbr',\n",
    "                      outputsuffix='_X_test_7')"
   ]
  },
  {
   "cell_type": "markdown",
   "id": "f8852011-2688-4e90-bf5b-1f6bdf6aeda3",
   "metadata": {
    "collapsed": true,
    "jupyter": {
     "outputs_hidden": true
    }
   },
   "source": [
    "### load the yhat and s2 for subjects from site 7 for site 8."
   ]
  },
  {
   "cell_type": "code",
   "execution_count": 266,
   "id": "91d28ae8-d537-4489-815f-c09924beb68e",
   "metadata": {},
   "outputs": [],
   "source": [
    "yhat = ldpkl(os.path.join(processing_dir, \"yhat_Xtest7.pkl\"))\n",
    "ys2 = ldpkl(os.path.join(processing_dir, \"ys2_Xtest7.pkl\"))"
   ]
  },
  {
   "cell_type": "code",
   "execution_count": 26,
   "id": "b62643a8-7d5b-45e2-8a9e-e2b58a7ad1cb",
   "metadata": {
    "collapsed": true,
    "jupyter": {
     "outputs_hidden": true
    }
   },
   "outputs": [
    {
     "data": {
      "text/plain": [
       "Text(0.5, 1.0, 'site [1.]')"
      ]
     },
     "execution_count": 26,
     "metadata": {},
     "output_type": "execute_result"
    },
    {
     "data": {
      "image/png": "[encoded data removed]",
      "text/plain": [
       "<Figure size 640x480 with 1 Axes>"
      ]
     },
     "metadata": {},
     "output_type": "display_data"
    }
   ],
   "source": [
    "# Plot the original test set data points (site 1) into the percentiles\n",
    "\n",
    "plt.scatter(X_test[150:214], Y_test[150:214, 1])\n",
    "for i, v in enumerate(zscores):\n",
    "    thickness = 1\n",
    "    linestyle = \"-\"\n",
    "    if v == 0:\n",
    "        thickness = 2\n",
    "    if abs(v) > 2:\n",
    "        linestyle = \"--\"\n",
    "    plt.plot(synthetic_X, q[i], linewidth = thickness, linestyle = linestyle, color = 'black', alpha = 0.7)\n",
    "\n",
    "plt.title('site ' + str(be[0]))"
   ]
  },
  {
   "cell_type": "code",
   "execution_count": 77,
   "id": "98e6beaf-2348-4b68-b57c-68bc46819c81",
   "metadata": {
    "collapsed": true,
    "jupyter": {
     "outputs_hidden": true
    }
   },
   "outputs": [
    {
     "data": {
      "text/plain": [
       "array([[2.],\n",
       "       [2.],\n",
       "       [2.],\n",
       "       [2.],\n",
       "       [2.],\n",
       "       [2.],\n",
       "       [2.],\n",
       "       [2.],\n",
       "       [2.],\n",
       "       [2.],\n",
       "       [2.],\n",
       "       [2.],\n",
       "       [2.],\n",
       "       [2.],\n",
       "       [2.],\n",
       "       [2.],\n",
       "       [2.],\n",
       "       [2.],\n",
       "       [2.],\n",
       "       [2.],\n",
       "       [2.],\n",
       "       [2.],\n",
       "       [2.],\n",
       "       [2.],\n",
       "       [2.],\n",
       "       [2.],\n",
       "       [2.],\n",
       "       [2.],\n",
       "       [2.],\n",
       "       [2.],\n",
       "       [2.],\n",
       "       [2.],\n",
       "       [2.],\n",
       "       [2.],\n",
       "       [2.],\n",
       "       [2.],\n",
       "       [2.],\n",
       "       [2.],\n",
       "       [2.],\n",
       "       [2.],\n",
       "       [2.],\n",
       "       [2.],\n",
       "       [2.],\n",
       "       [2.],\n",
       "       [2.],\n",
       "       [2.],\n",
       "       [2.],\n",
       "       [2.],\n",
       "       [2.],\n",
       "       [2.],\n",
       "       [2.],\n",
       "       [2.],\n",
       "       [2.],\n",
       "       [2.],\n",
       "       [2.],\n",
       "       [2.],\n",
       "       [2.],\n",
       "       [2.],\n",
       "       [2.],\n",
       "       [2.],\n",
       "       [2.],\n",
       "       [2.],\n",
       "       [2.],\n",
       "       [2.],\n",
       "       [2.],\n",
       "       [2.],\n",
       "       [2.],\n",
       "       [2.],\n",
       "       [2.],\n",
       "       [2.],\n",
       "       [2.],\n",
       "       [2.],\n",
       "       [2.],\n",
       "       [2.],\n",
       "       [2.],\n",
       "       [2.],\n",
       "       [2.],\n",
       "       [2.],\n",
       "       [2.],\n",
       "       [2.],\n",
       "       [2.],\n",
       "       [2.],\n",
       "       [2.],\n",
       "       [2.],\n",
       "       [2.],\n",
       "       [2.],\n",
       "       [2.],\n",
       "       [2.],\n",
       "       [2.],\n",
       "       [2.],\n",
       "       [2.],\n",
       "       [2.],\n",
       "       [2.],\n",
       "       [2.],\n",
       "       [2.],\n",
       "       [2.],\n",
       "       [2.],\n",
       "       [2.],\n",
       "       [2.],\n",
       "       [2.],\n",
       "       [2.],\n",
       "       [2.],\n",
       "       [2.],\n",
       "       [2.],\n",
       "       [2.],\n",
       "       [2.],\n",
       "       [2.],\n",
       "       [2.],\n",
       "       [2.],\n",
       "       [2.],\n",
       "       [2.],\n",
       "       [2.],\n",
       "       [2.],\n",
       "       [2.],\n",
       "       [2.],\n",
       "       [2.],\n",
       "       [2.],\n",
       "       [2.],\n",
       "       [2.],\n",
       "       [2.],\n",
       "       [2.],\n",
       "       [2.],\n",
       "       [2.],\n",
       "       [2.],\n",
       "       [2.],\n",
       "       [2.],\n",
       "       [2.],\n",
       "       [2.],\n",
       "       [2.],\n",
       "       [2.],\n",
       "       [2.],\n",
       "       [2.],\n",
       "       [2.],\n",
       "       [2.],\n",
       "       [2.],\n",
       "       [2.],\n",
       "       [2.],\n",
       "       [2.],\n",
       "       [2.],\n",
       "       [2.],\n",
       "       [2.],\n",
       "       [2.],\n",
       "       [2.],\n",
       "       [2.],\n",
       "       [2.],\n",
       "       [2.],\n",
       "       [2.],\n",
       "       [2.],\n",
       "       [2.],\n",
       "       [2.],\n",
       "       [2.],\n",
       "       [2.],\n",
       "       [2.],\n",
       "       [2.],\n",
       "       [2.],\n",
       "       [2.],\n",
       "       [2.],\n",
       "       [2.],\n",
       "       [2.],\n",
       "       [2.],\n",
       "       [2.],\n",
       "       [2.],\n",
       "       [2.],\n",
       "       [2.],\n",
       "       [2.],\n",
       "       [2.],\n",
       "       [2.],\n",
       "       [2.],\n",
       "       [2.],\n",
       "       [2.],\n",
       "       [2.],\n",
       "       [2.],\n",
       "       [2.],\n",
       "       [2.],\n",
       "       [2.],\n",
       "       [2.],\n",
       "       [2.],\n",
       "       [2.],\n",
       "       [2.],\n",
       "       [2.],\n",
       "       [2.],\n",
       "       [2.],\n",
       "       [2.],\n",
       "       [2.],\n",
       "       [2.],\n",
       "       [2.],\n",
       "       [2.],\n",
       "       [2.],\n",
       "       [2.],\n",
       "       [2.],\n",
       "       [2.],\n",
       "       [2.],\n",
       "       [2.],\n",
       "       [2.],\n",
       "       [2.],\n",
       "       [2.],\n",
       "       [2.],\n",
       "       [2.],\n",
       "       [2.],\n",
       "       [2.]])"
      ]
     },
     "execution_count": 77,
     "metadata": {},
     "output_type": "execute_result"
    }
   ],
   "source": [
    "# similar to above, but for the second site (np.ones)\n",
    "zscores = np.arange(-4,4)[:,np.newaxis]\n",
    "\n",
    "# We need to provide a matrix of shape [N,d]. In this case d=1, so we need to expand this matrix with a single 'empty' dimension.\n",
    "# We can do this by using the np.newaxis in this way.\n",
    "n_synthetic_samples = 200\n",
    "synthetic_X = np.linspace(0.15, 0.85, n_synthetic_samples)[:,np.newaxis]\n",
    "be = np.ones((n_synthetic_samples,1))*2\n",
    "be"
   ]
  },
  {
   "cell_type": "code",
   "execution_count": 19,
   "id": "6f95b83c-078f-4238-b856-69ba87dba148",
   "metadata": {
    "collapsed": true,
    "jupyter": {
     "outputs_hidden": true
    }
   },
   "outputs": [],
   "source": [
    "# Load scoers from the model\n",
    "\n",
    "yhat = ldpkl(os.path.join(processing_dir, \"yhat_estimate.pkl\"))\n",
    "z_scores = ldpkl(os.path.join(processing_dir, \"Z_estimate.pkl\"))"
   ]
  },
  {
   "cell_type": "code",
   "execution_count": 283,
   "id": "83a9b4d7-a8c9-4bab-8923-92fd62dd371d",
   "metadata": {
    "collapsed": true,
    "jupyter": {
     "outputs_hidden": true
    }
   },
   "outputs": [
    {
     "data": {
      "text/plain": [
       "(510,)"
      ]
     },
     "execution_count": 283,
     "metadata": {},
     "output_type": "execute_result"
    }
   ],
   "source": [
    "X_test.shape"
   ]
  },
  {
   "cell_type": "markdown",
   "id": "aafb6a90-0f21-43d2-a2c5-cdbb83bf0b84",
   "metadata": {
    "collapsed": true,
    "jupyter": {
     "outputs_hidden": true
    }
   },
   "source": [
    "# Transfer model"
   ]
  },
  {
   "cell_type": "code",
   "execution_count": 89,
   "id": "36ffcc01-5eef-4339-ab75-4bb3427e4c2d",
   "metadata": {
    "collapsed": true,
    "jupyter": {
     "outputs_hidden": true
    }
   },
   "outputs": [
    {
     "name": "stdout",
     "output_type": "stream",
     "text": [
      "Processing data in /Users/johbay/Dropbox/OHBM2024/educational-course/Site_effect_tutorial/Y_train.pkl\n",
      "Estimating model  1 of 2\n",
      "Could not find batch-effects file! Initilizing all as zeros ...\n"
     ]
    },
    {
     "name": "stderr",
     "output_type": "stream",
     "text": [
      "Auto-assigning NUTS sampler...\n",
      "Initializing NUTS using jitter+adapt_diag...\n",
      "Sequential sampling (1 chains in 1 job)\n",
      "NUTS: [mu_slope_mu, sigma_slope_mu, offset_slope_mu, mu_intercept_mu, sigma_intercept_mu, offset_intercept_mu, mu_slope_sigma, sigma_slope_sigma, offset_slope_sigma, mu_intercept_sigma, sigma_intercept_sigma, offset_intercept_sigma]\n"
     ]
    },
    {
     "data": {
      "text/html": [
       "\n",
       "    <div>\n",
       "        <style>\n",
       "            /* Turns off some styling */\n",
       "            progress {\n",
       "                /* gets rid of default border in Firefox and Opera. */\n",
       "                border: none;\n",
       "                /* Needs to be in here for Safari polyfill so background images work as expected. */\n",
       "                background-size: auto;\n",
       "            }\n",
       "            .progress-bar-interrupted, .progress-bar-interrupted::-webkit-progress-bar {\n",
       "                background: #F44336;\n",
       "            }\n",
       "        </style>\n",
       "      <progress value='1500' class='' max='1500' style='width:300px; height:20px; vertical-align: middle;'></progress>\n",
       "      100.00% [1500/1500 02:50<00:00 Sampling chain 0, 305 divergences]\n",
       "    </div>\n",
       "    "
      ],
      "text/plain": [
       "<IPython.core.display.HTML object>"
      ]
     },
     "metadata": {},
     "output_type": "display_data"
    },
    {
     "name": "stderr",
     "output_type": "stream",
     "text": [
      "Sampling 1 chain for 500 tune and 1_000 draw iterations (500 + 1_000 draws total) took 171 seconds.\n",
      "Only one chain was sampled, this makes it impossible to run some convergence checks\n"
     ]
    },
    {
     "name": "stdout",
     "output_type": "stream",
     "text": [
      "Estimating model  2 of 2\n",
      "Could not find batch-effects file! Initilizing all as zeros ...\n"
     ]
    },
    {
     "name": "stderr",
     "output_type": "stream",
     "text": [
      "Auto-assigning NUTS sampler...\n",
      "Initializing NUTS using jitter+adapt_diag...\n",
      "Sequential sampling (1 chains in 1 job)\n",
      "NUTS: [mu_slope_mu, sigma_slope_mu, offset_slope_mu, mu_intercept_mu, sigma_intercept_mu, offset_intercept_mu, mu_slope_sigma, sigma_slope_sigma, offset_slope_sigma, mu_intercept_sigma, sigma_intercept_sigma, offset_intercept_sigma]\n"
     ]
    },
    {
     "data": {
      "text/html": [
       "\n",
       "    <div>\n",
       "        <style>\n",
       "            /* Turns off some styling */\n",
       "            progress {\n",
       "                /* gets rid of default border in Firefox and Opera. */\n",
       "                border: none;\n",
       "                /* Needs to be in here for Safari polyfill so background images work as expected. */\n",
       "                background-size: auto;\n",
       "            }\n",
       "            .progress-bar-interrupted, .progress-bar-interrupted::-webkit-progress-bar {\n",
       "                background: #F44336;\n",
       "            }\n",
       "        </style>\n",
       "      <progress value='1500' class='' max='1500' style='width:300px; height:20px; vertical-align: middle;'></progress>\n",
       "      100.00% [1500/1500 02:47<00:00 Sampling chain 0, 262 divergences]\n",
       "    </div>\n",
       "    "
      ],
      "text/plain": [
       "<IPython.core.display.HTML object>"
      ]
     },
     "metadata": {},
     "output_type": "display_data"
    },
    {
     "name": "stderr",
     "output_type": "stream",
     "text": [
      "Sampling 1 chain for 500 tune and 1_000 draw iterations (500 + 1_000 draws total) took 168 seconds.\n",
      "Only one chain was sampled, this makes it impossible to run some convergence checks\n"
     ]
    },
    {
     "data": {
      "text/plain": [
       "<pcntoolkit.normative_model.norm_hbr.NormHBR at 0x2977fa7d0>"
      ]
     },
     "execution_count": 89,
     "metadata": {},
     "output_type": "execute_result"
    }
   ],
   "source": [
    "outputsuffix= \"_fit\"\n",
    "ptk.normative.fit(covfile=covfile, \n",
    "                       respfile=respfile,\n",
    "                       tsbefile=tsbefile, \n",
    "                       model_type='bspline',\n",
    "                       linear_sigma = 'True',\n",
    "                       random_intercept_sigma = 'True',\n",
    "                       random_slope_sigma = 'True',\n",
    "                       linear_mu='True',\n",
    "                       random_intercept_mu='True',\n",
    "                       random_slope_mu='True',\n",
    "                       alg='hbr', \n",
    "                       log_path=log_dir, \n",
    "                       binary=True,\n",
    "                       output_path=output_path, \n",
    "                       #testcov=testcovfile_path,\n",
    "                       #trbefile=trbefile,\n",
    "                       #trbefile=be_path,\n",
    "                       #testcov=\"covariate_forwardmodel.txt\",\n",
    "                       #testcov=synthetic_path,\n",
    "                       #testresp = testrespfile_path,\n",
    "                       outputsuffix=outputsuffix, \n",
    "                       savemodel=True)"
   ]
  },
  {
   "cell_type": "code",
   "execution_count": 279,
   "id": "746bcaed-6b92-42c1-aafe-349d24a051d7",
   "metadata": {
    "collapsed": true,
    "jupyter": {
     "outputs_hidden": true
    }
   },
   "outputs": [
    {
     "data": {
      "text/html": [
       "<div>\n",
       "<style scoped>\n",
       "    .dataframe tbody tr th:only-of-type {\n",
       "        vertical-align: middle;\n",
       "    }\n",
       "\n",
       "    .dataframe tbody tr th {\n",
       "        vertical-align: top;\n",
       "    }\n",
       "\n",
       "    .dataframe thead th {\n",
       "        text-align: right;\n",
       "    }\n",
       "</style>\n",
       "<table border=\"1\" class=\"dataframe\">\n",
       "  <thead>\n",
       "    <tr style=\"text-align: right;\">\n",
       "      <th></th>\n",
       "      <th>0</th>\n",
       "      <th>1</th>\n",
       "    </tr>\n",
       "  </thead>\n",
       "  <tbody>\n",
       "    <tr>\n",
       "      <th>0</th>\n",
       "      <td>2.403802</td>\n",
       "      <td>2.429738</td>\n",
       "    </tr>\n",
       "    <tr>\n",
       "      <th>1</th>\n",
       "      <td>2.340430</td>\n",
       "      <td>2.414303</td>\n",
       "    </tr>\n",
       "    <tr>\n",
       "      <th>2</th>\n",
       "      <td>2.340633</td>\n",
       "      <td>2.396848</td>\n",
       "    </tr>\n",
       "    <tr>\n",
       "      <th>3</th>\n",
       "      <td>2.357939</td>\n",
       "      <td>2.412118</td>\n",
       "    </tr>\n",
       "    <tr>\n",
       "      <th>4</th>\n",
       "      <td>2.401985</td>\n",
       "      <td>2.423084</td>\n",
       "    </tr>\n",
       "    <tr>\n",
       "      <th>...</th>\n",
       "      <td>...</td>\n",
       "      <td>...</td>\n",
       "    </tr>\n",
       "    <tr>\n",
       "      <th>505</th>\n",
       "      <td>2.478069</td>\n",
       "      <td>2.439545</td>\n",
       "    </tr>\n",
       "    <tr>\n",
       "      <th>506</th>\n",
       "      <td>2.479117</td>\n",
       "      <td>2.472059</td>\n",
       "    </tr>\n",
       "    <tr>\n",
       "      <th>507</th>\n",
       "      <td>2.480879</td>\n",
       "      <td>2.457823</td>\n",
       "    </tr>\n",
       "    <tr>\n",
       "      <th>508</th>\n",
       "      <td>2.503506</td>\n",
       "      <td>2.495751</td>\n",
       "    </tr>\n",
       "    <tr>\n",
       "      <th>509</th>\n",
       "      <td>2.489150</td>\n",
       "      <td>2.470607</td>\n",
       "    </tr>\n",
       "  </tbody>\n",
       "</table>\n",
       "<p>510 rows × 2 columns</p>\n",
       "</div>"
      ],
      "text/plain": [
       "            0         1\n",
       "0    2.403802  2.429738\n",
       "1    2.340430  2.414303\n",
       "2    2.340633  2.396848\n",
       "3    2.357939  2.412118\n",
       "4    2.401985  2.423084\n",
       "..        ...       ...\n",
       "505  2.478069  2.439545\n",
       "506  2.479117  2.472059\n",
       "507  2.480879  2.457823\n",
       "508  2.503506  2.495751\n",
       "509  2.489150  2.470607\n",
       "\n",
       "[510 rows x 2 columns]"
      ]
     },
     "execution_count": 279,
     "metadata": {},
     "output_type": "execute_result"
    }
   ],
   "source": [
    "yhat_forward = ldpkl(os.path.join(processing_dir, \"yhat_forward.pkl\"))\n",
    "yhat_forward"
   ]
  },
  {
   "cell_type": "markdown",
   "id": "f184283c-5678-44aa-8f59-8b2be638e8ba",
   "metadata": {},
   "source": [
    "# Case 2: Transfer to new sites\n",
    "\n",
    "The second case we are going to look at in this tutorial is to use a trained model to make a transfer to new, unseen sites. \n",
    "The \n",
    "\n"
   ]
  },
  {
   "cell_type": "code",
   "execution_count": 223,
   "id": "9d626c71-b23d-48c7-ab4a-d034e4ac2ce1",
   "metadata": {
    "collapsed": true,
    "jupyter": {
     "outputs_hidden": true
    }
   },
   "outputs": [
    {
     "name": "stdout",
     "output_type": "stream",
     "text": [
      "Loading data ...\n",
      "Prediction by model  1 of 2\n"
     ]
    },
    {
     "ename": "ValueError",
     "evalue": "The 'batch_effect_0' variable already had 200 coord values defined for its datapoints dimension. With the new values this dimension changes to length 510, so new coord values for the datapoints dimension are required.",
     "output_type": "error",
     "traceback": [
      "\u001b[0;31m---------------------------------------------------------------------------\u001b[0m",
      "\u001b[0;31mValueError\u001b[0m                                Traceback (most recent call last)",
      "Cell \u001b[0;32mIn[223], line 1\u001b[0m\n\u001b[0;32m----> 1\u001b[0m \u001b[43mptk\u001b[49m\u001b[38;5;241;43m.\u001b[39;49m\u001b[43mnormative\u001b[49m\u001b[38;5;241;43m.\u001b[39;49m\u001b[43mpredict\u001b[49m\u001b[43m(\u001b[49m\u001b[38;5;66;43;03m#covfile=testcovfile_path,\u001b[39;49;00m\n\u001b[1;32m      2\u001b[0m \u001b[43m                      \u001b[49m\u001b[43mcovfile\u001b[49m\u001b[38;5;241;43m=\u001b[39;49m\u001b[43msynthetic_path\u001b[49m\u001b[43m,\u001b[49m\n\u001b[1;32m      3\u001b[0m \u001b[43m                      \u001b[49m\u001b[43minputsuffix\u001b[49m\u001b[38;5;241;43m=\u001b[39;49m\u001b[38;5;124;43m'\u001b[39;49m\u001b[38;5;124;43m_estimate\u001b[39;49m\u001b[38;5;124;43m'\u001b[39;49m\u001b[43m,\u001b[49m\n\u001b[1;32m      4\u001b[0m \u001b[43m                      \u001b[49m\u001b[43mrespfile\u001b[49m\u001b[38;5;241;43m=\u001b[39;49m\u001b[38;5;28;43;01mNone\u001b[39;49;00m\u001b[43m,\u001b[49m\n\u001b[1;32m      5\u001b[0m \u001b[43m                      \u001b[49m\u001b[43mtsbefile\u001b[49m\u001b[38;5;241;43m=\u001b[39;49m\u001b[43mtsbefile\u001b[49m\u001b[43m,\u001b[49m\n\u001b[1;32m      6\u001b[0m \u001b[43m                      \u001b[49m\u001b[43mtrbefile\u001b[49m\u001b[38;5;241;43m=\u001b[39;49m\u001b[43mtrbefile\u001b[49m\u001b[43m,\u001b[49m\n\u001b[1;32m      7\u001b[0m \u001b[43m                      \u001b[49m\u001b[43mmodel_path\u001b[49m\u001b[38;5;241;43m=\u001b[39;49m\u001b[43moutput_path\u001b[49m\u001b[43m,\u001b[49m\n\u001b[1;32m      8\u001b[0m \u001b[43m                      \u001b[49m\u001b[43malg\u001b[49m\u001b[38;5;241;43m=\u001b[39;49m\u001b[38;5;124;43m'\u001b[39;49m\u001b[38;5;124;43mhbr\u001b[39;49m\u001b[38;5;124;43m'\u001b[39;49m\u001b[43m,\u001b[49m\n\u001b[1;32m      9\u001b[0m \u001b[43m                      \u001b[49m\u001b[43moutputsuffix\u001b[49m\u001b[38;5;241;43m=\u001b[39;49m\u001b[38;5;124;43m'\u001b[39;49m\u001b[38;5;124;43m_predict\u001b[39;49m\u001b[38;5;124;43m'\u001b[39;49m\u001b[43m)\u001b[49m\n",
      "File \u001b[0;32m~/anaconda3/envs/SHASH/lib/python3.11/site-packages/pcntoolkit/normative.py:830\u001b[0m, in \u001b[0;36mpredict\u001b[0;34m(covfile, respfile, maskfile, **kwargs)\u001b[0m\n\u001b[1;32m    827\u001b[0m nm \u001b[38;5;241m=\u001b[39m nm\u001b[38;5;241m.\u001b[39mload(os\u001b[38;5;241m.\u001b[39mpath\u001b[38;5;241m.\u001b[39mjoin(model_path, \u001b[38;5;124m'\u001b[39m\u001b[38;5;124mNM_\u001b[39m\u001b[38;5;124m'\u001b[39m \u001b[38;5;241m+\u001b[39m \u001b[38;5;28mstr\u001b[39m(fold) \u001b[38;5;241m+\u001b[39m \u001b[38;5;124m'\u001b[39m\u001b[38;5;124m_\u001b[39m\u001b[38;5;124m'\u001b[39m \u001b[38;5;241m+\u001b[39m\n\u001b[1;32m    828\u001b[0m                           \u001b[38;5;28mstr\u001b[39m(m) \u001b[38;5;241m+\u001b[39m inputsuffix \u001b[38;5;241m+\u001b[39m \u001b[38;5;124m'\u001b[39m\u001b[38;5;124m.pkl\u001b[39m\u001b[38;5;124m'\u001b[39m))\n\u001b[1;32m    829\u001b[0m \u001b[38;5;28;01mif\u001b[39;00m (alg \u001b[38;5;241m!=\u001b[39m \u001b[38;5;124m'\u001b[39m\u001b[38;5;124mhbr\u001b[39m\u001b[38;5;124m'\u001b[39m \u001b[38;5;129;01mor\u001b[39;00m nm\u001b[38;5;241m.\u001b[39mconfigs[\u001b[38;5;124m'\u001b[39m\u001b[38;5;124mtransferred\u001b[39m\u001b[38;5;124m'\u001b[39m] \u001b[38;5;241m==\u001b[39m \u001b[38;5;28;01mFalse\u001b[39;00m):\n\u001b[0;32m--> 830\u001b[0m     yhat, s2 \u001b[38;5;241m=\u001b[39m \u001b[43mnm\u001b[49m\u001b[38;5;241;43m.\u001b[39;49m\u001b[43mpredict\u001b[49m\u001b[43m(\u001b[49m\u001b[43mXz\u001b[49m\u001b[43m,\u001b[49m\u001b[43m \u001b[49m\u001b[38;5;241;43m*\u001b[39;49m\u001b[38;5;241;43m*\u001b[39;49m\u001b[43mkwargs\u001b[49m\u001b[43m)\u001b[49m\n\u001b[1;32m    831\u001b[0m \u001b[38;5;28;01melse\u001b[39;00m:\n\u001b[1;32m    832\u001b[0m     tsbefile \u001b[38;5;241m=\u001b[39m kwargs\u001b[38;5;241m.\u001b[39mget(\u001b[38;5;124m'\u001b[39m\u001b[38;5;124mtsbefile\u001b[39m\u001b[38;5;124m'\u001b[39m)\n",
      "File \u001b[0;32m~/anaconda3/envs/SHASH/lib/python3.11/site-packages/pcntoolkit/normative_model/norm_hbr.py:316\u001b[0m, in \u001b[0;36mNormHBR.predict\u001b[0;34m(self, Xs, X, Y, **kwargs)\u001b[0m\n\u001b[1;32m    313\u001b[0m pred_type \u001b[38;5;241m=\u001b[39m \u001b[38;5;28mself\u001b[39m\u001b[38;5;241m.\u001b[39mconfigs[\u001b[38;5;124m\"\u001b[39m\u001b[38;5;124mpred_type\u001b[39m\u001b[38;5;124m\"\u001b[39m]\n\u001b[1;32m    315\u001b[0m \u001b[38;5;28;01mif\u001b[39;00m \u001b[38;5;28mself\u001b[39m\u001b[38;5;241m.\u001b[39mconfigs[\u001b[38;5;124m\"\u001b[39m\u001b[38;5;124mtransferred\u001b[39m\u001b[38;5;124m\"\u001b[39m] \u001b[38;5;241m==\u001b[39m \u001b[38;5;28;01mFalse\u001b[39;00m:\n\u001b[0;32m--> 316\u001b[0m     yhat, s2 \u001b[38;5;241m=\u001b[39m \u001b[38;5;28;43mself\u001b[39;49m\u001b[38;5;241;43m.\u001b[39;49m\u001b[43mhbr\u001b[49m\u001b[38;5;241;43m.\u001b[39;49m\u001b[43mpredict\u001b[49m\u001b[43m(\u001b[49m\n\u001b[1;32m    317\u001b[0m \u001b[43m        \u001b[49m\u001b[43mX\u001b[49m\u001b[38;5;241;43m=\u001b[39;49m\u001b[43mXs\u001b[49m\u001b[43m,\u001b[49m\n\u001b[1;32m    318\u001b[0m \u001b[43m        \u001b[49m\u001b[43mbatch_effects\u001b[49m\u001b[38;5;241;43m=\u001b[39;49m\u001b[43mbatch_effects_test\u001b[49m\u001b[43m,\u001b[49m\n\u001b[1;32m    319\u001b[0m \u001b[43m        \u001b[49m\u001b[43mbatch_effects_maps\u001b[49m\u001b[38;5;241;43m=\u001b[39;49m\u001b[38;5;28;43mself\u001b[39;49m\u001b[38;5;241;43m.\u001b[39;49m\u001b[43mbatch_effects_maps\u001b[49m\u001b[43m,\u001b[49m\n\u001b[1;32m    320\u001b[0m \u001b[43m        \u001b[49m\u001b[43mpred\u001b[49m\u001b[38;5;241;43m=\u001b[39;49m\u001b[43mpred_type\u001b[49m\u001b[43m,\u001b[49m\n\u001b[1;32m    321\u001b[0m \u001b[43m        \u001b[49m\u001b[38;5;241;43m*\u001b[39;49m\u001b[38;5;241;43m*\u001b[39;49m\u001b[43mkwargs\u001b[49m\u001b[43m,\u001b[49m\n\u001b[1;32m    322\u001b[0m \u001b[43m    \u001b[49m\u001b[43m)\u001b[49m\n\u001b[1;32m    323\u001b[0m \u001b[38;5;28;01melse\u001b[39;00m:\n\u001b[1;32m    324\u001b[0m     \u001b[38;5;28;01mraise\u001b[39;00m \u001b[38;5;167;01mValueError\u001b[39;00m(\n\u001b[1;32m    325\u001b[0m         \u001b[38;5;124m\"\u001b[39m\u001b[38;5;124mThis is a transferred model. Please use predict_on_new_sites function.\u001b[39m\u001b[38;5;124m\"\u001b[39m\n\u001b[1;32m    326\u001b[0m     )\n",
      "File \u001b[0;32m~/anaconda3/envs/SHASH/lib/python3.11/site-packages/pcntoolkit/model/hbr.py:523\u001b[0m, in \u001b[0;36mHBR.predict\u001b[0;34m(self, X, batch_effects, batch_effects_maps, pred, var_names, **kwargs)\u001b[0m\n\u001b[1;32m    521\u001b[0m         indices \u001b[38;5;241m=\u001b[39m \u001b[38;5;28mlist\u001b[39m(\u001b[38;5;28mmap\u001b[39m(\u001b[38;5;28;01mlambda\u001b[39;00m x: valmap[x], batch_effects[:, i]))\n\u001b[1;32m    522\u001b[0m         \u001b[38;5;66;03m# Those indices need to be used by the model\u001b[39;00m\n\u001b[0;32m--> 523\u001b[0m         \u001b[43mpm\u001b[49m\u001b[38;5;241;43m.\u001b[39;49m\u001b[43mset_data\u001b[49m\u001b[43m(\u001b[49m\u001b[43m{\u001b[49m\u001b[38;5;124;43mf\u001b[39;49m\u001b[38;5;124;43m\"\u001b[39;49m\u001b[38;5;124;43mbatch_effect_\u001b[39;49m\u001b[38;5;132;43;01m{\u001b[39;49;00m\u001b[43mi\u001b[49m\u001b[38;5;132;43;01m}\u001b[39;49;00m\u001b[38;5;124;43m\"\u001b[39;49m\u001b[43m:\u001b[49m\u001b[43m \u001b[49m\u001b[43mindices\u001b[49m\u001b[43m}\u001b[49m\u001b[43m)\u001b[49m\n\u001b[1;32m    525\u001b[0m     \u001b[38;5;28mself\u001b[39m\u001b[38;5;241m.\u001b[39midata \u001b[38;5;241m=\u001b[39m pm\u001b[38;5;241m.\u001b[39msample_posterior_predictive(\n\u001b[1;32m    526\u001b[0m         trace\u001b[38;5;241m=\u001b[39m\u001b[38;5;28mself\u001b[39m\u001b[38;5;241m.\u001b[39midata,\n\u001b[1;32m    527\u001b[0m         extend_inferencedata\u001b[38;5;241m=\u001b[39m\u001b[38;5;28;01mTrue\u001b[39;00m,\n\u001b[1;32m    528\u001b[0m         progressbar\u001b[38;5;241m=\u001b[39m\u001b[38;5;28;01mTrue\u001b[39;00m,\n\u001b[1;32m    529\u001b[0m         var_names\u001b[38;5;241m=\u001b[39mvar_names,\n\u001b[1;32m    530\u001b[0m     )\n\u001b[1;32m    531\u001b[0m pred_mean \u001b[38;5;241m=\u001b[39m \u001b[38;5;28mself\u001b[39m\u001b[38;5;241m.\u001b[39midata\u001b[38;5;241m.\u001b[39mposterior_predictive[\u001b[38;5;124m\"\u001b[39m\u001b[38;5;124my_like\u001b[39m\u001b[38;5;124m\"\u001b[39m]\u001b[38;5;241m.\u001b[39mto_numpy()\u001b[38;5;241m.\u001b[39mmean(\n\u001b[1;32m    532\u001b[0m     axis\u001b[38;5;241m=\u001b[39m(\u001b[38;5;241m0\u001b[39m, \u001b[38;5;241m1\u001b[39m))\n",
      "File \u001b[0;32m~/anaconda3/envs/SHASH/lib/python3.11/site-packages/pymc/model.py:1972\u001b[0m, in \u001b[0;36mset_data\u001b[0;34m(new_data, model, coords)\u001b[0m\n\u001b[1;32m   1969\u001b[0m model \u001b[38;5;241m=\u001b[39m modelcontext(model)\n\u001b[1;32m   1971\u001b[0m \u001b[38;5;28;01mfor\u001b[39;00m variable_name, new_value \u001b[38;5;129;01min\u001b[39;00m new_data\u001b[38;5;241m.\u001b[39mitems():\n\u001b[0;32m-> 1972\u001b[0m     \u001b[43mmodel\u001b[49m\u001b[38;5;241;43m.\u001b[39;49m\u001b[43mset_data\u001b[49m\u001b[43m(\u001b[49m\u001b[43mvariable_name\u001b[49m\u001b[43m,\u001b[49m\u001b[43m \u001b[49m\u001b[43mnew_value\u001b[49m\u001b[43m,\u001b[49m\u001b[43m \u001b[49m\u001b[43mcoords\u001b[49m\u001b[38;5;241;43m=\u001b[39;49m\u001b[43mcoords\u001b[49m\u001b[43m)\u001b[49m\n",
      "File \u001b[0;32m~/anaconda3/envs/SHASH/lib/python3.11/site-packages/pymc/model.py:1167\u001b[0m, in \u001b[0;36mModel.set_data\u001b[0;34m(self, name, values, coords)\u001b[0m\n\u001b[1;32m   1165\u001b[0m \u001b[38;5;28;01mif\u001b[39;00m original_coords \u001b[38;5;129;01mis\u001b[39;00m \u001b[38;5;129;01mnot\u001b[39;00m \u001b[38;5;28;01mNone\u001b[39;00m:\n\u001b[1;32m   1166\u001b[0m     \u001b[38;5;28;01mif\u001b[39;00m new_coords \u001b[38;5;129;01mis\u001b[39;00m \u001b[38;5;28;01mNone\u001b[39;00m:\n\u001b[0;32m-> 1167\u001b[0m         \u001b[38;5;28;01mraise\u001b[39;00m \u001b[38;5;167;01mValueError\u001b[39;00m(\n\u001b[1;32m   1168\u001b[0m             \u001b[38;5;124mf\u001b[39m\u001b[38;5;124m\"\u001b[39m\u001b[38;5;124mThe \u001b[39m\u001b[38;5;124m'\u001b[39m\u001b[38;5;132;01m{\u001b[39;00mname\u001b[38;5;132;01m}\u001b[39;00m\u001b[38;5;124m'\u001b[39m\u001b[38;5;124m variable already had \u001b[39m\u001b[38;5;132;01m{\u001b[39;00m\u001b[38;5;28mlen\u001b[39m(original_coords)\u001b[38;5;132;01m}\u001b[39;00m\u001b[38;5;124m coord values defined for \u001b[39m\u001b[38;5;124m\"\u001b[39m\n\u001b[1;32m   1169\u001b[0m             \u001b[38;5;124mf\u001b[39m\u001b[38;5;124m\"\u001b[39m\u001b[38;5;124mits \u001b[39m\u001b[38;5;132;01m{\u001b[39;00mdname\u001b[38;5;132;01m}\u001b[39;00m\u001b[38;5;124m dimension. With the new values this dimension changes to length \u001b[39m\u001b[38;5;124m\"\u001b[39m\n\u001b[1;32m   1170\u001b[0m             \u001b[38;5;124mf\u001b[39m\u001b[38;5;124m\"\u001b[39m\u001b[38;5;132;01m{\u001b[39;00mnew_length\u001b[38;5;132;01m}\u001b[39;00m\u001b[38;5;124m, so new coord values for the \u001b[39m\u001b[38;5;132;01m{\u001b[39;00mdname\u001b[38;5;132;01m}\u001b[39;00m\u001b[38;5;124m dimension are required.\u001b[39m\u001b[38;5;124m\"\u001b[39m\n\u001b[1;32m   1171\u001b[0m         )\n\u001b[1;32m   1172\u001b[0m \u001b[38;5;28;01mif\u001b[39;00m \u001b[38;5;28misinstance\u001b[39m(length_tensor, TensorConstant):\n\u001b[1;32m   1173\u001b[0m     \u001b[38;5;66;03m# The dimension was fixed in length.\u001b[39;00m\n\u001b[1;32m   1174\u001b[0m     \u001b[38;5;66;03m# Resizing a data variable in this dimension would\u001b[39;00m\n\u001b[1;32m   1175\u001b[0m     \u001b[38;5;66;03m# definitely lead to shape problems.\u001b[39;00m\n\u001b[1;32m   1176\u001b[0m     \u001b[38;5;28;01mraise\u001b[39;00m ShapeError(\n\u001b[1;32m   1177\u001b[0m         \u001b[38;5;124mf\u001b[39m\u001b[38;5;124m\"\u001b[39m\u001b[38;5;124mResizing dimension \u001b[39m\u001b[38;5;124m'\u001b[39m\u001b[38;5;132;01m{\u001b[39;00mdname\u001b[38;5;132;01m}\u001b[39;00m\u001b[38;5;124m'\u001b[39m\u001b[38;5;124m is impossible, because \u001b[39m\u001b[38;5;124m\"\u001b[39m\n\u001b[1;32m   1178\u001b[0m         \u001b[38;5;124m\"\u001b[39m\u001b[38;5;124ma `TensorConstant` stores its length. To be able \u001b[39m\u001b[38;5;124m\"\u001b[39m\n\u001b[0;32m   (...)\u001b[0m\n\u001b[1;32m   1181\u001b[0m         \u001b[38;5;124m\"\u001b[39m\u001b[38;5;124mor define it via a `pm.MutableData` variable.\u001b[39m\u001b[38;5;124m\"\u001b[39m\n\u001b[1;32m   1182\u001b[0m     )\n",
      "\u001b[0;31mValueError\u001b[0m: The 'batch_effect_0' variable already had 200 coord values defined for its datapoints dimension. With the new values this dimension changes to length 510, so new coord values for the datapoints dimension are required."
     ]
    }
   ],
   "source": [
    "ptk.normative.transfer(covfile=testcovfile_path,\n",
    "                      #covfile=synthetic_path,\n",
    "                      inputsuffix='_estimate',\n",
    "                      respfile=None,\n",
    "                      tsbefile=tsbefile,\n",
    "                      trbefile=trbefile,\n",
    "                      model_path=output_path,\n",
    "                      alg='hbr',\n",
    "                      outputsuffix='_transfer')"
   ]
  },
  {
   "cell_type": "code",
   "execution_count": null,
   "id": "d421144e-c766-47cb-b7e1-1b809394b63b",
   "metadata": {
    "collapsed": true,
    "jupyter": {
     "outputs_hidden": true
    }
   },
   "outputs": [],
   "source": []
  }
 ],
 "metadata": {
  "kernelspec": {
   "display_name": "Python 3 (ipykernel)",
   "language": "python",
   "name": "python3"
  },
  "language_info": {
   "codemirror_mode": {
    "name": "ipython",
    "version": 3
   },
   "file_extension": ".py",
   "mimetype": "text/x-python",
   "name": "python",
   "nbconvert_exporter": "python",
   "pygments_lexer": "ipython3",
   "version": "3.11.5"
  }
 },
 "nbformat": 4,
 "nbformat_minor": 5
}
