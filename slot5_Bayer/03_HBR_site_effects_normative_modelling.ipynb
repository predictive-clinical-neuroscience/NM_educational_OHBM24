{
 "cells": [
  {
   "cell_type": "markdown",
   "id": "8d09a59a-310b-4565-95f5-1f3e9721fdec",
   "metadata": {},
   "source": [
    "# Normative modelling as a site effect correction tool\n",
    "\n",
    "This tutorial will walk you through the application of normative modelling as a site effect correction tool.\n",
    "\n",
    "You will learn:\n",
    "- How to fit a normative model to data from different sites.\n",
    "- Choices that can be made about a normative model in a site effect context.\n",
    "- How to transfer data from one site into another.\n",
    "- How to make predictions for unseen sites and the rationale behind it."
   ]
  },
  {
   "cell_type": "markdown",
   "id": "7aaac9b3-3ad6-47ee-a06f-528f7a0c0aae",
   "metadata": {},
   "source": [
    "# Quick recap: normative modelling using the pcn toolkit\n",
    "A normative model requires three input variables:\n",
    "- covariates (the X axis, ususally age)\n",
    "- response variables (usually one or several brain feature measurements)\n",
    "- a batch effect file. Batch effects can be anything that interferes with the covrariate (sex, site)\n",
    "\n",
    "While the Bayesian Linear Model (blr) requires input of the batch effects via a design matrix, the implementation of the hierarchical Bayesian model (HBR) only requires a text file."
   ]
  },
  {
   "cell_type": "code",
   "execution_count": null,
   "id": "dc0364e4-ac5b-4f19-8aef-3c7b5b7d7077",
   "metadata": {
    "collapsed": true,
    "jupyter": {
     "outputs_hidden": true
    }
   },
   "outputs": [],
   "source": [
    "# Install the toolkit\n",
    "!pip install pcntoolkit"
   ]
  },
  {
   "cell_type": "code",
   "execution_count": 1,
   "id": "c5248840-9b00-4820-8593-85d9d7ad4513",
   "metadata": {
    "collapsed": true,
    "jupyter": {
     "outputs_hidden": true
    }
   },
   "outputs": [],
   "source": [
    "# Import relevant libraries\n",
    "import os\n",
    "import pandas as pd\n",
    "import pcntoolkit as ptk\n",
    "import numpy as np\n",
    "import pickle\n",
    "from matplotlib import pyplot as plt\n",
    "from sklearn.model_selection import train_test_split\n",
    "import seaborn as sns\n",
    "from pcntoolkit.util.utils import compute_MSLL, create_design_matrix\n",
    "import pdb"
   ]
  },
  {
   "cell_type": "code",
   "execution_count": 2,
   "id": "bd2530d9-bb2a-48b6-ad79-fc01842953db",
   "metadata": {
    "collapsed": true,
    "jupyter": {
     "outputs_hidden": true
    }
   },
   "outputs": [],
   "source": [
    "# a simple function to quickly load pickle files\n",
    "def ldpkl(filename: str):\n",
    "    with open(filename, 'rb') as f:\n",
    "        return pickle.load(f)"
   ]
  },
  {
   "cell_type": "code",
   "execution_count": 2,
   "id": "f9c07f21-42ea-4645-b701-ef9c028098c6",
   "metadata": {
    "collapsed": true,
    "jupyter": {
     "outputs_hidden": true
    },
    "scrolled": true
   },
   "outputs": [
    {
     "name": "stdout",
     "output_type": "stream",
     "text": [
      "/Users/johbay/Dropbox/OHBM2024/educational-course\n"
     ]
    }
   ],
   "source": [
    "# Quick check wehere you are in your directory.\n",
    "!pwd"
   ]
  },
  {
   "cell_type": "code",
   "execution_count": 3,
   "id": "103186c8-97aa-49e4-a6d1-72daac14d89c",
   "metadata": {
    "collapsed": true,
    "jupyter": {
     "outputs_hidden": true
    }
   },
   "outputs": [],
   "source": [
    "# create working dir\n",
    "root_dir = os.getcwd()"
   ]
  },
  {
   "cell_type": "code",
   "execution_count": 106,
   "id": "1c8f2874-4006-4703-ad49-17ff3f0c20b1",
   "metadata": {
    "collapsed": true,
    "jupyter": {
     "outputs_hidden": true
    }
   },
   "outputs": [
    {
     "name": "stdout",
     "output_type": "stream",
     "text": [
      "/Users/johbay/Dropbox/OHBM2024/educational-course\n"
     ]
    }
   ],
   "source": [
    "print(root_dir)"
   ]
  },
  {
   "cell_type": "code",
   "execution_count": 4,
   "id": "3ae41f1b-5a89-4e6a-b65f-38f09510cd0d",
   "metadata": {
    "collapsed": true,
    "jupyter": {
     "outputs_hidden": true
    }
   },
   "outputs": [],
   "source": [
    "processing_folder = \"Site_effect_tutorial/\""
   ]
  },
  {
   "cell_type": "code",
   "execution_count": null,
   "id": "6a33d09a-63f4-48b0-b609-ecdbbccba52f",
   "metadata": {
    "collapsed": true,
    "jupyter": {
     "outputs_hidden": true
    }
   },
   "outputs": [],
   "source": [
    "if not os.path.isdir(processing_folder):\n",
    "    os.makedirs(processing_folder)"
   ]
  },
  {
   "cell_type": "code",
   "execution_count": 104,
   "id": "77debe6f-3a1f-4f8f-9d99-99a6dba6718c",
   "metadata": {
    "collapsed": true,
    "jupyter": {
     "outputs_hidden": true
    }
   },
   "outputs": [
    {
     "name": "stdout",
     "output_type": "stream",
     "text": [
      "The processing directory is: /Users/johbay/Dropbox/OHBM2024/educational-course/Site_effect_tutorial/Site_effect_tutorial\n"
     ]
    }
   ],
   "source": [
    "os.chdir(processing_folder)\n",
    "processing_dir = os.getcwd()\n",
    "print(f\"The processing directory is: {processing_dir}\")"
   ]
  },
  {
   "cell_type": "markdown",
   "id": "4639454a-4bc9-4b23-bed1-7baadfb9f3b5",
   "metadata": {},
   "source": [
    "# 01. Data pre-processing.\n",
    "\n",
    "### Load the data\n",
    "\n",
    "For this tutorial, we use publicly availabe data that has been pooled from various data sets."
   ]
  },
  {
   "cell_type": "code",
   "execution_count": null,
   "id": "b08aa693-1a88-416e-8012-ce3d1ca008dc",
   "metadata": {
    "collapsed": true,
    "jupyter": {
     "outputs_hidden": true
    }
   },
   "outputs": [],
   "source": [
    "# Load the data\n",
    "!wget -nc https://raw.githubusercontent.com/saigerutherford/CPC_ML_tutorial/master/data/fcon1000_tr.csv\n",
    "!wget -nc https://raw.githubusercontent.com/saigerutherford/CPC_ML_tutorial/master/data/fcon1000_te.csv"
   ]
  },
  {
   "cell_type": "code",
   "execution_count": 63,
   "id": "19c3837b-b424-48a2-8416-1505f50c845b",
   "metadata": {
    "collapsed": true,
    "jupyter": {
     "outputs_hidden": true
    }
   },
   "outputs": [],
   "source": [
    "# Load the test data into the notebook\n",
    "test_data = os.path.join(processing_dir, 'fcon1000_te.csv')\n",
    "df_te = pd.read_csv(test_data, index_col=0)\n",
    "\n",
    "# extract a list of unique site ids from the test set\n",
    "site_ids_te =  sorted(set(df_te['site'].to_list()))"
   ]
  },
  {
   "cell_type": "code",
   "execution_count": 65,
   "id": "179a2cc6-721d-4a41-b5c7-6577715ab522",
   "metadata": {
    "collapsed": true,
    "jupyter": {
     "outputs_hidden": true
    }
   },
   "outputs": [],
   "source": [
    "# Load the training data into the notebook\n",
    "train_data = os.path.join(processing_dir, 'fcon1000_tr.csv')\n",
    "\n",
    "df_tr = pd.read_csv(train_data, index_col=0)\n",
    "\n",
    "# extract a list of unique site ids from the test set\n",
    "site_ids_ad =  sorted(set(df_tr['site'].to_list()))\n",
    "\n",
    "if not all(elem in site_ids_ad for elem in site_ids_te):\n",
    "    print('Warning: some of the testing sites are not in the adaptation data')"
   ]
  },
  {
   "cell_type": "markdown",
   "id": "ce0374f4-58a1-41ee-b8fc-9a8202152b5c",
   "metadata": {},
   "source": [
    "### Visual inspection of data."
   ]
  },
  {
   "cell_type": "code",
   "execution_count": 66,
   "id": "37856974-a5c2-4e9c-abd2-aab2338071c2",
   "metadata": {
    "collapsed": true,
    "jupyter": {
     "outputs_hidden": true
    }
   },
   "outputs": [
    {
     "data": {
      "image/png": "[encoded data removed]",
      "text/plain": [
       "<Figure size 600x600 with 25 Axes>"
      ]
     },
     "metadata": {},
     "output_type": "display_data"
    }
   ],
   "source": [
    "# Make a quick and dirty plot of the age distibution per site.\n",
    "axes = df_tr.hist(['age'], by='site', layout=(5,5),\n",
    "                  legend=True, yrot=90,sharex=True,sharey=True, \n",
    "                  figsize=(6,6))\n",
    "\n",
    "for ax in axes.flatten():\n",
    "    ax.set_xlabel('age')\n",
    "    ax.set_ylabel('distribution')\n",
    "    ax.set_ylim(bottom=1,top=25)"
   ]
  },
  {
   "cell_type": "markdown",
   "id": "f9e5085f-977d-4739-ab27-c8856da0037e",
   "metadata": {},
   "source": [
    "We see that we have 22 sites (ids: 0-21) in the data set. \n",
    "Additionally, let's now print the number of subjects per site for the training and the test set."
   ]
  },
  {
   "cell_type": "code",
   "execution_count": 67,
   "id": "7f08ae6f-90c2-4bba-9d81-4c46c1486be7",
   "metadata": {
    "collapsed": true,
    "jupyter": {
     "outputs_hidden": true
    }
   },
   "outputs": [
    {
     "name": "stdout",
     "output_type": "stream",
     "text": [
      "sample size check\n",
      "0 AnnArbor_a 13 11\n",
      "1 AnnArbor_b 20 12\n",
      "2 Atlanta 11 17\n",
      "3 Baltimore 12 11\n",
      "4 Bangor 10 10\n",
      "5 Beijing_Zang 100 98\n",
      "6 Berlin_Margulies 15 11\n",
      "7 Cambridge_Buckner 94 104\n",
      "8 Cleveland 11 20\n",
      "9 ICBM 47 38\n",
      "10 Leiden_2180 6 6\n",
      "11 Leiden_2200 9 10\n",
      "12 Milwaukee_b 26 20\n",
      "13 NewYork_a 36 47\n",
      "14 NewYork_a_ADHD 7 18\n",
      "15 Newark 12 7\n",
      "16 Oulu 60 42\n",
      "17 Oxford 10 12\n",
      "18 PaloAlto 7 9\n",
      "19 Queensland 12 7\n",
      "20 SaintLouis 18 13\n",
      "21 COBRE 20 126\n"
     ]
    }
   ],
   "source": [
    "sites = df_tr['site'].unique()\n",
    "\n",
    "print('sample size check')\n",
    "for i,s in enumerate(sites):\n",
    "    idx = df_tr['site'] == s\n",
    "    idxte = df_te['site'] == s\n",
    "    print(i,s, sum(idx), sum(idxte))"
   ]
  },
  {
   "cell_type": "code",
   "execution_count": 68,
   "id": "4d410c87-a944-4294-bada-39db20a6a92a",
   "metadata": {
    "collapsed": true,
    "jupyter": {
     "outputs_hidden": true
    }
   },
   "outputs": [
    {
     "name": "stdout",
     "output_type": "stream",
     "text": [
      "site AnnArbor_a 13\n",
      "site AnnArbor_b 20\n",
      "site Atlanta 11\n",
      "site Baltimore 12\n",
      "site Bangor 10\n",
      "site Beijing_Zang 100\n",
      "site Berlin_Margulies 15\n",
      "site Cambridge_Buckner 94\n",
      "site Cleveland 11\n",
      "site ICBM 47\n",
      "site Leiden_2180 6\n",
      "site Leiden_2200 9\n",
      "site Milwaukee_b 26\n",
      "site NewYork_a 36\n",
      "site NewYork_a_ADHD 7\n",
      "site Newark 12\n",
      "site Oulu 60\n",
      "site Oxford 10\n",
      "site PaloAlto 7\n",
      "site Queensland 12\n",
      "site SaintLouis 18\n",
      "site COBRE 20\n"
     ]
    },
    {
     "name": "stderr",
     "output_type": "stream",
     "text": [
      "/var/folders/lz/nf2fw8cn0738fszl47qsj5fc0000gp/T/ipykernel_95488/1108558262.py:4: SettingWithCopyWarning: \n",
      "A value is trying to be set on a copy of a slice from a DataFrame\n",
      "\n",
      "See the caveats in the documentation: https://pandas.pydata.org/pandas-docs/stable/user_guide/indexing.html#returning-a-view-versus-a-copy\n",
      "  df_tr['sitenum'].loc[idx] = i\n",
      "/var/folders/lz/nf2fw8cn0738fszl47qsj5fc0000gp/T/ipykernel_95488/1108558262.py:4: SettingWithCopyWarning: \n",
      "A value is trying to be set on a copy of a slice from a DataFrame\n",
      "\n",
      "See the caveats in the documentation: https://pandas.pydata.org/pandas-docs/stable/user_guide/indexing.html#returning-a-view-versus-a-copy\n",
      "  df_tr['sitenum'].loc[idx] = i\n",
      "/var/folders/lz/nf2fw8cn0738fszl47qsj5fc0000gp/T/ipykernel_95488/1108558262.py:4: SettingWithCopyWarning: \n",
      "A value is trying to be set on a copy of a slice from a DataFrame\n",
      "\n",
      "See the caveats in the documentation: https://pandas.pydata.org/pandas-docs/stable/user_guide/indexing.html#returning-a-view-versus-a-copy\n",
      "  df_tr['sitenum'].loc[idx] = i\n",
      "/var/folders/lz/nf2fw8cn0738fszl47qsj5fc0000gp/T/ipykernel_95488/1108558262.py:4: SettingWithCopyWarning: \n",
      "A value is trying to be set on a copy of a slice from a DataFrame\n",
      "\n",
      "See the caveats in the documentation: https://pandas.pydata.org/pandas-docs/stable/user_guide/indexing.html#returning-a-view-versus-a-copy\n",
      "  df_tr['sitenum'].loc[idx] = i\n",
      "/var/folders/lz/nf2fw8cn0738fszl47qsj5fc0000gp/T/ipykernel_95488/1108558262.py:4: SettingWithCopyWarning: \n",
      "A value is trying to be set on a copy of a slice from a DataFrame\n",
      "\n",
      "See the caveats in the documentation: https://pandas.pydata.org/pandas-docs/stable/user_guide/indexing.html#returning-a-view-versus-a-copy\n",
      "  df_tr['sitenum'].loc[idx] = i\n",
      "/var/folders/lz/nf2fw8cn0738fszl47qsj5fc0000gp/T/ipykernel_95488/1108558262.py:4: SettingWithCopyWarning: \n",
      "A value is trying to be set on a copy of a slice from a DataFrame\n",
      "\n",
      "See the caveats in the documentation: https://pandas.pydata.org/pandas-docs/stable/user_guide/indexing.html#returning-a-view-versus-a-copy\n",
      "  df_tr['sitenum'].loc[idx] = i\n",
      "/var/folders/lz/nf2fw8cn0738fszl47qsj5fc0000gp/T/ipykernel_95488/1108558262.py:4: SettingWithCopyWarning: \n",
      "A value is trying to be set on a copy of a slice from a DataFrame\n",
      "\n",
      "See the caveats in the documentation: https://pandas.pydata.org/pandas-docs/stable/user_guide/indexing.html#returning-a-view-versus-a-copy\n",
      "  df_tr['sitenum'].loc[idx] = i\n",
      "/var/folders/lz/nf2fw8cn0738fszl47qsj5fc0000gp/T/ipykernel_95488/1108558262.py:4: SettingWithCopyWarning: \n",
      "A value is trying to be set on a copy of a slice from a DataFrame\n",
      "\n",
      "See the caveats in the documentation: https://pandas.pydata.org/pandas-docs/stable/user_guide/indexing.html#returning-a-view-versus-a-copy\n",
      "  df_tr['sitenum'].loc[idx] = i\n",
      "/var/folders/lz/nf2fw8cn0738fszl47qsj5fc0000gp/T/ipykernel_95488/1108558262.py:4: SettingWithCopyWarning: \n",
      "A value is trying to be set on a copy of a slice from a DataFrame\n",
      "\n",
      "See the caveats in the documentation: https://pandas.pydata.org/pandas-docs/stable/user_guide/indexing.html#returning-a-view-versus-a-copy\n",
      "  df_tr['sitenum'].loc[idx] = i\n",
      "/var/folders/lz/nf2fw8cn0738fszl47qsj5fc0000gp/T/ipykernel_95488/1108558262.py:4: SettingWithCopyWarning: \n",
      "A value is trying to be set on a copy of a slice from a DataFrame\n",
      "\n",
      "See the caveats in the documentation: https://pandas.pydata.org/pandas-docs/stable/user_guide/indexing.html#returning-a-view-versus-a-copy\n",
      "  df_tr['sitenum'].loc[idx] = i\n",
      "/var/folders/lz/nf2fw8cn0738fszl47qsj5fc0000gp/T/ipykernel_95488/1108558262.py:4: SettingWithCopyWarning: \n",
      "A value is trying to be set on a copy of a slice from a DataFrame\n",
      "\n",
      "See the caveats in the documentation: https://pandas.pydata.org/pandas-docs/stable/user_guide/indexing.html#returning-a-view-versus-a-copy\n",
      "  df_tr['sitenum'].loc[idx] = i\n",
      "/var/folders/lz/nf2fw8cn0738fszl47qsj5fc0000gp/T/ipykernel_95488/1108558262.py:4: SettingWithCopyWarning: \n",
      "A value is trying to be set on a copy of a slice from a DataFrame\n",
      "\n",
      "See the caveats in the documentation: https://pandas.pydata.org/pandas-docs/stable/user_guide/indexing.html#returning-a-view-versus-a-copy\n",
      "  df_tr['sitenum'].loc[idx] = i\n",
      "/var/folders/lz/nf2fw8cn0738fszl47qsj5fc0000gp/T/ipykernel_95488/1108558262.py:4: SettingWithCopyWarning: \n",
      "A value is trying to be set on a copy of a slice from a DataFrame\n",
      "\n",
      "See the caveats in the documentation: https://pandas.pydata.org/pandas-docs/stable/user_guide/indexing.html#returning-a-view-versus-a-copy\n",
      "  df_tr['sitenum'].loc[idx] = i\n",
      "/var/folders/lz/nf2fw8cn0738fszl47qsj5fc0000gp/T/ipykernel_95488/1108558262.py:4: SettingWithCopyWarning: \n",
      "A value is trying to be set on a copy of a slice from a DataFrame\n",
      "\n",
      "See the caveats in the documentation: https://pandas.pydata.org/pandas-docs/stable/user_guide/indexing.html#returning-a-view-versus-a-copy\n",
      "  df_tr['sitenum'].loc[idx] = i\n",
      "/var/folders/lz/nf2fw8cn0738fszl47qsj5fc0000gp/T/ipykernel_95488/1108558262.py:4: SettingWithCopyWarning: \n",
      "A value is trying to be set on a copy of a slice from a DataFrame\n",
      "\n",
      "See the caveats in the documentation: https://pandas.pydata.org/pandas-docs/stable/user_guide/indexing.html#returning-a-view-versus-a-copy\n",
      "  df_tr['sitenum'].loc[idx] = i\n",
      "/var/folders/lz/nf2fw8cn0738fszl47qsj5fc0000gp/T/ipykernel_95488/1108558262.py:4: SettingWithCopyWarning: \n",
      "A value is trying to be set on a copy of a slice from a DataFrame\n",
      "\n",
      "See the caveats in the documentation: https://pandas.pydata.org/pandas-docs/stable/user_guide/indexing.html#returning-a-view-versus-a-copy\n",
      "  df_tr['sitenum'].loc[idx] = i\n",
      "/var/folders/lz/nf2fw8cn0738fszl47qsj5fc0000gp/T/ipykernel_95488/1108558262.py:4: SettingWithCopyWarning: \n",
      "A value is trying to be set on a copy of a slice from a DataFrame\n",
      "\n",
      "See the caveats in the documentation: https://pandas.pydata.org/pandas-docs/stable/user_guide/indexing.html#returning-a-view-versus-a-copy\n",
      "  df_tr['sitenum'].loc[idx] = i\n",
      "/var/folders/lz/nf2fw8cn0738fszl47qsj5fc0000gp/T/ipykernel_95488/1108558262.py:4: SettingWithCopyWarning: \n",
      "A value is trying to be set on a copy of a slice from a DataFrame\n",
      "\n",
      "See the caveats in the documentation: https://pandas.pydata.org/pandas-docs/stable/user_guide/indexing.html#returning-a-view-versus-a-copy\n",
      "  df_tr['sitenum'].loc[idx] = i\n",
      "/var/folders/lz/nf2fw8cn0738fszl47qsj5fc0000gp/T/ipykernel_95488/1108558262.py:4: SettingWithCopyWarning: \n",
      "A value is trying to be set on a copy of a slice from a DataFrame\n",
      "\n",
      "See the caveats in the documentation: https://pandas.pydata.org/pandas-docs/stable/user_guide/indexing.html#returning-a-view-versus-a-copy\n",
      "  df_tr['sitenum'].loc[idx] = i\n",
      "/var/folders/lz/nf2fw8cn0738fszl47qsj5fc0000gp/T/ipykernel_95488/1108558262.py:4: SettingWithCopyWarning: \n",
      "A value is trying to be set on a copy of a slice from a DataFrame\n",
      "\n",
      "See the caveats in the documentation: https://pandas.pydata.org/pandas-docs/stable/user_guide/indexing.html#returning-a-view-versus-a-copy\n",
      "  df_tr['sitenum'].loc[idx] = i\n",
      "/var/folders/lz/nf2fw8cn0738fszl47qsj5fc0000gp/T/ipykernel_95488/1108558262.py:4: SettingWithCopyWarning: \n",
      "A value is trying to be set on a copy of a slice from a DataFrame\n",
      "\n",
      "See the caveats in the documentation: https://pandas.pydata.org/pandas-docs/stable/user_guide/indexing.html#returning-a-view-versus-a-copy\n",
      "  df_tr['sitenum'].loc[idx] = i\n",
      "/var/folders/lz/nf2fw8cn0738fszl47qsj5fc0000gp/T/ipykernel_95488/1108558262.py:4: SettingWithCopyWarning: \n",
      "A value is trying to be set on a copy of a slice from a DataFrame\n",
      "\n",
      "See the caveats in the documentation: https://pandas.pydata.org/pandas-docs/stable/user_guide/indexing.html#returning-a-view-versus-a-copy\n",
      "  df_tr['sitenum'].loc[idx] = i\n"
     ]
    }
   ],
   "source": [
    "df_tr['sitenum'] = 0\n",
    "for i,s in enumerate(sites):\n",
    "    idx = df_tr['site'] == s\n",
    "    df_tr['sitenum'].loc[idx] = i\n",
    "\n",
    "    print('site',s, sum(idx))"
   ]
  },
  {
   "cell_type": "code",
   "execution_count": 69,
   "id": "44d05f5c-a9c0-427a-a673-88e7f1d1435d",
   "metadata": {
    "collapsed": true,
    "jupyter": {
     "outputs_hidden": true
    }
   },
   "outputs": [
    {
     "name": "stdout",
     "output_type": "stream",
     "text": [
      "site AnnArbor_a 11\n",
      "site AnnArbor_b 12\n",
      "site Atlanta 17\n",
      "site Baltimore 11\n",
      "site Bangor 10\n",
      "site Beijing_Zang 98\n",
      "site Berlin_Margulies 11\n",
      "site Cambridge_Buckner 104\n",
      "site Cleveland 20\n",
      "site ICBM 38\n",
      "site Leiden_2180 6\n",
      "site Leiden_2200 10\n",
      "site Milwaukee_b 20\n",
      "site NewYork_a 47\n",
      "site NewYork_a_ADHD 18\n",
      "site Newark 7\n",
      "site Oulu 42\n",
      "site Oxford 12\n",
      "site PaloAlto 9\n",
      "site Queensland 7\n",
      "site SaintLouis 13\n",
      "site COBRE 126\n"
     ]
    },
    {
     "name": "stderr",
     "output_type": "stream",
     "text": [
      "/var/folders/lz/nf2fw8cn0738fszl47qsj5fc0000gp/T/ipykernel_95488/2191059795.py:4: SettingWithCopyWarning: \n",
      "A value is trying to be set on a copy of a slice from a DataFrame\n",
      "\n",
      "See the caveats in the documentation: https://pandas.pydata.org/pandas-docs/stable/user_guide/indexing.html#returning-a-view-versus-a-copy\n",
      "  df_te['sitenum'].loc[idx] = i\n",
      "/var/folders/lz/nf2fw8cn0738fszl47qsj5fc0000gp/T/ipykernel_95488/2191059795.py:4: SettingWithCopyWarning: \n",
      "A value is trying to be set on a copy of a slice from a DataFrame\n",
      "\n",
      "See the caveats in the documentation: https://pandas.pydata.org/pandas-docs/stable/user_guide/indexing.html#returning-a-view-versus-a-copy\n",
      "  df_te['sitenum'].loc[idx] = i\n",
      "/var/folders/lz/nf2fw8cn0738fszl47qsj5fc0000gp/T/ipykernel_95488/2191059795.py:4: SettingWithCopyWarning: \n",
      "A value is trying to be set on a copy of a slice from a DataFrame\n",
      "\n",
      "See the caveats in the documentation: https://pandas.pydata.org/pandas-docs/stable/user_guide/indexing.html#returning-a-view-versus-a-copy\n",
      "  df_te['sitenum'].loc[idx] = i\n",
      "/var/folders/lz/nf2fw8cn0738fszl47qsj5fc0000gp/T/ipykernel_95488/2191059795.py:4: SettingWithCopyWarning: \n",
      "A value is trying to be set on a copy of a slice from a DataFrame\n",
      "\n",
      "See the caveats in the documentation: https://pandas.pydata.org/pandas-docs/stable/user_guide/indexing.html#returning-a-view-versus-a-copy\n",
      "  df_te['sitenum'].loc[idx] = i\n",
      "/var/folders/lz/nf2fw8cn0738fszl47qsj5fc0000gp/T/ipykernel_95488/2191059795.py:4: SettingWithCopyWarning: \n",
      "A value is trying to be set on a copy of a slice from a DataFrame\n",
      "\n",
      "See the caveats in the documentation: https://pandas.pydata.org/pandas-docs/stable/user_guide/indexing.html#returning-a-view-versus-a-copy\n",
      "  df_te['sitenum'].loc[idx] = i\n",
      "/var/folders/lz/nf2fw8cn0738fszl47qsj5fc0000gp/T/ipykernel_95488/2191059795.py:4: SettingWithCopyWarning: \n",
      "A value is trying to be set on a copy of a slice from a DataFrame\n",
      "\n",
      "See the caveats in the documentation: https://pandas.pydata.org/pandas-docs/stable/user_guide/indexing.html#returning-a-view-versus-a-copy\n",
      "  df_te['sitenum'].loc[idx] = i\n",
      "/var/folders/lz/nf2fw8cn0738fszl47qsj5fc0000gp/T/ipykernel_95488/2191059795.py:4: SettingWithCopyWarning: \n",
      "A value is trying to be set on a copy of a slice from a DataFrame\n",
      "\n",
      "See the caveats in the documentation: https://pandas.pydata.org/pandas-docs/stable/user_guide/indexing.html#returning-a-view-versus-a-copy\n",
      "  df_te['sitenum'].loc[idx] = i\n",
      "/var/folders/lz/nf2fw8cn0738fszl47qsj5fc0000gp/T/ipykernel_95488/2191059795.py:4: SettingWithCopyWarning: \n",
      "A value is trying to be set on a copy of a slice from a DataFrame\n",
      "\n",
      "See the caveats in the documentation: https://pandas.pydata.org/pandas-docs/stable/user_guide/indexing.html#returning-a-view-versus-a-copy\n",
      "  df_te['sitenum'].loc[idx] = i\n",
      "/var/folders/lz/nf2fw8cn0738fszl47qsj5fc0000gp/T/ipykernel_95488/2191059795.py:4: SettingWithCopyWarning: \n",
      "A value is trying to be set on a copy of a slice from a DataFrame\n",
      "\n",
      "See the caveats in the documentation: https://pandas.pydata.org/pandas-docs/stable/user_guide/indexing.html#returning-a-view-versus-a-copy\n",
      "  df_te['sitenum'].loc[idx] = i\n",
      "/var/folders/lz/nf2fw8cn0738fszl47qsj5fc0000gp/T/ipykernel_95488/2191059795.py:4: SettingWithCopyWarning: \n",
      "A value is trying to be set on a copy of a slice from a DataFrame\n",
      "\n",
      "See the caveats in the documentation: https://pandas.pydata.org/pandas-docs/stable/user_guide/indexing.html#returning-a-view-versus-a-copy\n",
      "  df_te['sitenum'].loc[idx] = i\n",
      "/var/folders/lz/nf2fw8cn0738fszl47qsj5fc0000gp/T/ipykernel_95488/2191059795.py:4: SettingWithCopyWarning: \n",
      "A value is trying to be set on a copy of a slice from a DataFrame\n",
      "\n",
      "See the caveats in the documentation: https://pandas.pydata.org/pandas-docs/stable/user_guide/indexing.html#returning-a-view-versus-a-copy\n",
      "  df_te['sitenum'].loc[idx] = i\n",
      "/var/folders/lz/nf2fw8cn0738fszl47qsj5fc0000gp/T/ipykernel_95488/2191059795.py:4: SettingWithCopyWarning: \n",
      "A value is trying to be set on a copy of a slice from a DataFrame\n",
      "\n",
      "See the caveats in the documentation: https://pandas.pydata.org/pandas-docs/stable/user_guide/indexing.html#returning-a-view-versus-a-copy\n",
      "  df_te['sitenum'].loc[idx] = i\n",
      "/var/folders/lz/nf2fw8cn0738fszl47qsj5fc0000gp/T/ipykernel_95488/2191059795.py:4: SettingWithCopyWarning: \n",
      "A value is trying to be set on a copy of a slice from a DataFrame\n",
      "\n",
      "See the caveats in the documentation: https://pandas.pydata.org/pandas-docs/stable/user_guide/indexing.html#returning-a-view-versus-a-copy\n",
      "  df_te['sitenum'].loc[idx] = i\n",
      "/var/folders/lz/nf2fw8cn0738fszl47qsj5fc0000gp/T/ipykernel_95488/2191059795.py:4: SettingWithCopyWarning: \n",
      "A value is trying to be set on a copy of a slice from a DataFrame\n",
      "\n",
      "See the caveats in the documentation: https://pandas.pydata.org/pandas-docs/stable/user_guide/indexing.html#returning-a-view-versus-a-copy\n",
      "  df_te['sitenum'].loc[idx] = i\n",
      "/var/folders/lz/nf2fw8cn0738fszl47qsj5fc0000gp/T/ipykernel_95488/2191059795.py:4: SettingWithCopyWarning: \n",
      "A value is trying to be set on a copy of a slice from a DataFrame\n",
      "\n",
      "See the caveats in the documentation: https://pandas.pydata.org/pandas-docs/stable/user_guide/indexing.html#returning-a-view-versus-a-copy\n",
      "  df_te['sitenum'].loc[idx] = i\n",
      "/var/folders/lz/nf2fw8cn0738fszl47qsj5fc0000gp/T/ipykernel_95488/2191059795.py:4: SettingWithCopyWarning: \n",
      "A value is trying to be set on a copy of a slice from a DataFrame\n",
      "\n",
      "See the caveats in the documentation: https://pandas.pydata.org/pandas-docs/stable/user_guide/indexing.html#returning-a-view-versus-a-copy\n",
      "  df_te['sitenum'].loc[idx] = i\n",
      "/var/folders/lz/nf2fw8cn0738fszl47qsj5fc0000gp/T/ipykernel_95488/2191059795.py:4: SettingWithCopyWarning: \n",
      "A value is trying to be set on a copy of a slice from a DataFrame\n",
      "\n",
      "See the caveats in the documentation: https://pandas.pydata.org/pandas-docs/stable/user_guide/indexing.html#returning-a-view-versus-a-copy\n",
      "  df_te['sitenum'].loc[idx] = i\n",
      "/var/folders/lz/nf2fw8cn0738fszl47qsj5fc0000gp/T/ipykernel_95488/2191059795.py:4: SettingWithCopyWarning: \n",
      "A value is trying to be set on a copy of a slice from a DataFrame\n",
      "\n",
      "See the caveats in the documentation: https://pandas.pydata.org/pandas-docs/stable/user_guide/indexing.html#returning-a-view-versus-a-copy\n",
      "  df_te['sitenum'].loc[idx] = i\n",
      "/var/folders/lz/nf2fw8cn0738fszl47qsj5fc0000gp/T/ipykernel_95488/2191059795.py:4: SettingWithCopyWarning: \n",
      "A value is trying to be set on a copy of a slice from a DataFrame\n",
      "\n",
      "See the caveats in the documentation: https://pandas.pydata.org/pandas-docs/stable/user_guide/indexing.html#returning-a-view-versus-a-copy\n",
      "  df_te['sitenum'].loc[idx] = i\n",
      "/var/folders/lz/nf2fw8cn0738fszl47qsj5fc0000gp/T/ipykernel_95488/2191059795.py:4: SettingWithCopyWarning: \n",
      "A value is trying to be set on a copy of a slice from a DataFrame\n",
      "\n",
      "See the caveats in the documentation: https://pandas.pydata.org/pandas-docs/stable/user_guide/indexing.html#returning-a-view-versus-a-copy\n",
      "  df_te['sitenum'].loc[idx] = i\n",
      "/var/folders/lz/nf2fw8cn0738fszl47qsj5fc0000gp/T/ipykernel_95488/2191059795.py:4: SettingWithCopyWarning: \n",
      "A value is trying to be set on a copy of a slice from a DataFrame\n",
      "\n",
      "See the caveats in the documentation: https://pandas.pydata.org/pandas-docs/stable/user_guide/indexing.html#returning-a-view-versus-a-copy\n",
      "  df_te['sitenum'].loc[idx] = i\n",
      "/var/folders/lz/nf2fw8cn0738fszl47qsj5fc0000gp/T/ipykernel_95488/2191059795.py:4: SettingWithCopyWarning: \n",
      "A value is trying to be set on a copy of a slice from a DataFrame\n",
      "\n",
      "See the caveats in the documentation: https://pandas.pydata.org/pandas-docs/stable/user_guide/indexing.html#returning-a-view-versus-a-copy\n",
      "  df_te['sitenum'].loc[idx] = i\n"
     ]
    }
   ],
   "source": [
    "df_te['sitenum'] = 0\n",
    "for i,s in enumerate(sites):\n",
    "    idx = df_te['site'] == s\n",
    "    df_te['sitenum'].loc[idx] = i\n",
    "\n",
    "    print('site',s, sum(idx))"
   ]
  },
  {
   "cell_type": "markdown",
   "id": "21e32cf1-b2c0-4fea-beec-d3034d933086",
   "metadata": {},
   "source": [
    "### Set aside hold-out transfer sites.\n",
    "For our site transfer later we want to exclude some sites from the training and test set for later. We choose the SaintLois and the COBRE site and remove them from the training and test set. We summarize those sites in a `new_sites_tr` and `new_sites_te` variable."
   ]
  },
  {
   "cell_type": "code",
   "execution_count": 70,
   "id": "102a0979-6606-47b4-aebd-c6e16516f14f",
   "metadata": {
    "collapsed": true,
    "jupyter": {
     "outputs_hidden": true
    }
   },
   "outputs": [],
   "source": [
    "# Save some sites for later, these are going to be my new sites\n",
    "new_sites_tr = df_tr[(df_tr['site']== 'SaintLouis')| (df_tr['site']=='COBRE')]\n",
    "new_sites_te = df_te[(df_te['site']== 'SaintLouis')| (df_te['site']=='COBRE')]"
   ]
  },
  {
   "cell_type": "code",
   "execution_count": 71,
   "id": "7472388f-fa1c-4c14-a712-7d935ad3ef9d",
   "metadata": {
    "collapsed": true,
    "jupyter": {
     "outputs_hidden": true
    }
   },
   "outputs": [
    {
     "data": {
      "text/plain": [
       "(139, 223)"
      ]
     },
     "execution_count": 71,
     "metadata": {},
     "output_type": "execute_result"
    }
   ],
   "source": [
    "# Let's have a quick look at the shape of the held out data:\n",
    "new_sites_te.shape"
   ]
  },
  {
   "cell_type": "code",
   "execution_count": 72,
   "id": "e55a4ccb-5d2e-40c4-8c84-8c1c926bb105",
   "metadata": {
    "collapsed": true,
    "jupyter": {
     "outputs_hidden": true
    }
   },
   "outputs": [
    {
     "data": {
      "text/plain": [
       "20"
      ]
     },
     "execution_count": 72,
     "metadata": {},
     "output_type": "execute_result"
    }
   ],
   "source": [
    "# Remove those sites from the training and test sets\n",
    "df_tr = df_tr[df_tr.site != 'SaintLouis']\n",
    "df_tr = df_tr[df_tr.site != 'COBRE']\n",
    "df_te = df_te[df_te.site != 'SaintLouis']\n",
    "df_te = df_te[df_te.site != 'COBRE']\n",
    "# make sure we have only those 20 intended sites in the training set:\n",
    "len(df_tr[\"site\"].unique())"
   ]
  },
  {
   "cell_type": "markdown",
   "id": "b3dce878-c4bb-4855-b4d0-40c28a95ee8c",
   "metadata": {},
   "source": [
    "# Selecting brain variables (independently derived phenotypes, IDPs).\n",
    "\n",
    "Our data set contains 223 columns (phenotypes). We select two phenotypes for modelling. "
   ]
  },
  {
   "cell_type": "code",
   "execution_count": 73,
   "id": "195228da-3046-411d-872b-a0f6e2b2fa65",
   "metadata": {
    "collapsed": true,
    "jupyter": {
     "outputs_hidden": true
    }
   },
   "outputs": [],
   "source": [
    "# Select the IDPs (columns) of interest from the data frame\n",
    "idps = ['lh_G&S_frontomargin_thickness','rh_G&S_frontomargin_thickness']"
   ]
  },
  {
   "cell_type": "code",
   "execution_count": 74,
   "id": "24a59ef4-3a45-4467-88ba-c8cd87e034c1",
   "metadata": {
    "collapsed": true,
    "jupyter": {
     "outputs_hidden": true
    }
   },
   "outputs": [],
   "source": [
    "# Prepare the data frames for training and testing\n",
    "\n",
    "X_train = (df_tr['age']/100).to_numpy(dtype=float) # we rescale age to range between [0,1]\n",
    "Y_train = df_tr[idps].to_numpy(dtype=float)\n",
    "batch_effects_train = df_tr[['sitenum', 'sex']].to_numpy(dtype=int)\n",
    "\n",
    "# save data\n",
    "with open('X_train.pkl', 'wb') as file:\n",
    "    pickle.dump(pd.DataFrame(X_train), file)\n",
    "with open('Y_train.pkl', 'wb') as file:\n",
    "    pickle.dump(pd.DataFrame(Y_train), file)\n",
    "with open('trbefile.pkl', 'wb') as file:\n",
    "    pickle.dump(pd.DataFrame(batch_effects_train), file)\n",
    "\n",
    "\n",
    "X_test = (df_te['age']/100).to_numpy(dtype=float)\n",
    "Y_test = df_te[idps].to_numpy(dtype=float)\n",
    "batch_effects_test = df_te[['sitenum', 'sex']].to_numpy(dtype=int)\n",
    "\n",
    "#save data\n",
    "with open('X_test.pkl', 'wb') as file:\n",
    "    pickle.dump(pd.DataFrame(X_test), file)\n",
    "with open('Y_test.pkl', 'wb') as file:\n",
    "    pickle.dump(pd.DataFrame(Y_test), file)\n",
    "with open('tsbefile.pkl', 'wb') as file:\n",
    "    pickle.dump(pd.DataFrame(batch_effects_test), file)"
   ]
  },
  {
   "cell_type": "code",
   "execution_count": 75,
   "id": "6dafbcac-9518-4a0b-8efb-85c8be440328",
   "metadata": {
    "collapsed": true,
    "jupyter": {
     "outputs_hidden": true
    }
   },
   "outputs": [],
   "source": [
    "# The model requires the paths to the data. We reate them here.\n",
    "\n",
    "respfile = os.path.join(processing_dir, 'Y_train.pkl')       # measurements  (eg cortical thickness) of the training samples (columns: the various features/ROIs, rows: observations or subjects)\n",
    "covfile = os.path.join(processing_dir, 'X_train.pkl')        # covariates (eg age) the training samples (columns: covariates, rows: observations or subjects)\n",
    "\n",
    "testrespfile_path = os.path.join(processing_dir, 'Y_test.pkl')       # measurements  for the testing samples\n",
    "testcovfile_path = os.path.join(processing_dir, 'X_test.pkl')        # covariate file for the testing samples\n",
    "\n",
    "trbefile = os.path.join(processing_dir, 'trbefile.pkl')      # training batch effects file (eg scanner_id, gender)  (columns: the various batch effects, rows: observations or subjects)\n",
    "tsbefile = os.path.join(processing_dir, 'tsbefile.pkl')      # testing batch effects file\n",
    "\n",
    "output_path = os.path.join(processing_dir, 'Models/')    #  output path, where the models will be written\n",
    "log_dir = os.path.join(processing_dir, 'log/')           # log path\n",
    "if not os.path.isdir(output_path):\n",
    "    os.mkdir(output_path)\n",
    "if not os.path.isdir(log_dir):\n",
    "    os.mkdir(log_dir)\n",
    "\n",
    "outputsuffix = 'estimate'      # a string to name the output files, of use only to you, so adapt it for your needs."
   ]
  },
  {
   "attachments": {},
   "cell_type": "markdown",
   "id": "bcff7978-0dbf-41b8-8b83-fa17eed41e55",
   "metadata": {},
   "source": [
    "# 02. Normative modelling\n",
    "\n",
    "\n",
    "## Case 1: Training a normative model on different sites to make predictions on the same sites (equal distribution of sites in training and test data)\n",
    "\n",
    "\n",
    "Use: Hierarchical Bayesian model (HBR)\n",
    "\n",
    "HBR multi-batch normative modelling class. By default, this function\n",
    "        estimates a linear model with random intercept, random slope, and random homoscedastic noise.\n",
    "   \n",
    "    :param X: [N×P] array of clinical covariates\n",
    "    :param y: [N×1] array of neuroimaging measures\n",
    "    :param trbefile: the address to the batch effects file for the training set.\n",
    "        the batch effect array should be a [N×M] array where M is the number of\n",
    "        the type of batch effects. For example when the site and gender is modeled\n",
    "        as batch effects M=2. Each column in the batch effect array contains the\n",
    "        batch ID (starting from 0) for each sample. If not specified (default=None)\n",
    "        then all samples assumed to be from the same batch (i.e., the batch effect\n",
    "                                                           is not modelled).\n",
    "    :param tsbefile: Similar to trbefile for the test set.\n",
    "    :param model_type: Specifies the type of the model from 'linear', 'plynomial',\n",
    "          and 'bspline' (defauls is 'linear').\n",
    "    :param likelihood: specifies the type of likelihood among 'Normal' 'SHASHb','SHASHo',\n",
    "       and 'SHASHo2' (defauls is normal).\n",
    "    :param linear_mu: Boolean (default='True') to decide whether the mean (mu) is\n",
    "        parametrized on a linear function (thus changes with covariates) or it is fixed.\n",
    "    :param linear_sigma: Boolean (default='False') to decide whether the variance (sigma) is\n",
    "        parametrized on a linear function (heteroscedastic noise) or it is fixed for\n",
    "        each batch (homoscedastic noise).\n",
    "    :param linear_epsilon: Boolean (default='False') to decide the parametrization\n",
    "        of epsilon for the SHASH likelihood that controls its skewness.\n",
    "        If True, epsilon is  parametrized on a linear function\n",
    "       (thus changes with covariates) otherwise it is fixed for each batch.\n",
    "    :param linear_delta: Boolean (default='False') to decide the parametrization\n",
    "        of delta for the SHASH likelihood that controls its kurtosis.\n",
    "        If True, delta is  parametrized on a linear function\n",
    "        (thus changes with covariates) otherwise it is fixed for each batch.\n",
    "    :param random_intercept_{parameter}: if parameters mu (default='True'),\n",
    "        sigma (default='False'), epsilon (default='False'), and delta (default='False')\n",
    "        are parametrized on a linear function, then this boolean decides\n",
    "        whether the intercept can vary across batches.\n",
    "    :param random_slope_{parameter}: if parameters mu (default='True'),\n",
    "        sigma (default='False'), epsilon (default='False'), and delta (default='False')\n",
    "        are parametrized on a linear function, then this boolean decides\n",
    "        whether the slope can vary across batches.\n",
    "    :param centered_intercept_{parameter}: if parameters mu (default='False'),\n",
    "        sigma (default='False'), epsilon (default='False'), and delta (default='False')\n",
    "        are parametrized on a linear function, then this boolean decides\n",
    "        whether the parameters of intercept are estimated in a centered or\n",
    "        non-centered manner (default). While centered estimation runs faster\n",
    "        it may cause some problems for the sampler (the funnel of hell).\n",
    "    :param centered_slope_{parameter}: if parameters mu (default='False'),\n",
    "        sigma (default='False'), epsilon (default='False'), and delta (default='False')\n",
    "        are parametrized on a linear function, then this boolean decides\n",
    "        whether the parameters of slope are estimated in a centered or\n",
    "        non-centered manner (default). While centered estimation runs faster\n",
    "        it may cause some problems for the sampler (the funnel of hell).\n",
    "    :param sampler: specifies the type of PyMC sampler (Defauls is 'NUTS').\n",
    "    :param n_samples: The number of samples to draw (Default is '1000'). Please\n",
    "        note that this parameter must be specified in a string fromat ('1000' and\n",
    "                                                                      not 1000).\n",
    "\n"
   ]
  },
  {
   "cell_type": "markdown",
   "id": "78fa3835-d8f5-41f8-afe9-e548e3e963c5",
   "metadata": {},
   "source": [
    "# Selecting the model\n",
    "\n",
    "The model framework for this tutorial is the hierarchial Bayesian model (hbr).\n",
    "\n",
    "We decide for our model that we want the mean and the variance to vary with the covariate (linear_mu and linear_sigma, respectively). We choose a non-linear function for $\\phi$ given the non-linear change of age with some brain variables. We choose a b-splibe basis expansion.\n",
    "\n",
    "However, given that our dataset is quite small, we decide to use a model with a normal likelihood (the default). An example of a more complex likelihod and its application can be found [here](https://github.com/predictive-clinical-neuroscience/PCNtoolkit-demo/blob/main/tutorials/HBR_SHASH/HBR_Tutorial.ipynb).\n",
    "\n",
    "Given the many sites in the model, we want the model to be rather flexible. We choose a random intercept for $\\mu$ allowing for offests between sites. We also allow the width of the centiles to vary between sites \n",
    "\n",
    "The default version of the model always trains the model on a training set, and then makes predictions on a test set.\n",
    "\n",
    "Hence we need: (covariates, responses, batch effects) and test set (covariates, responses, batch effects). \n",
    "\n",
    "All batch effects are distributes equally across training and test set."
   ]
  },
  {
   "cell_type": "code",
   "execution_count": 103,
   "id": "1aff2cc7-8102-4157-be8f-b915da827955",
   "metadata": {
    "collapsed": true,
    "jupyter": {
     "outputs_hidden": true
    }
   },
   "outputs": [
    {
     "name": "stdout",
     "output_type": "stream",
     "text": [
      "Processing data in /Users/johbay/Dropbox/OHBM2024/educational-course/Site_effect_tutorial/Y_train.pkl\n"
     ]
    },
    {
     "ename": "ValueError",
     "evalue": "all the input array dimensions except for the concatenation axis must match exactly, but along dimension 1, the array at index 0 has size 2 and the array at index 1 has size 1",
     "output_type": "error",
     "traceback": [
      "\u001b[0;31m---------------------------------------------------------------------------\u001b[0m",
      "\u001b[0;31mValueError\u001b[0m                                Traceback (most recent call last)",
      "Cell \u001b[0;32mIn[103], line 3\u001b[0m\n\u001b[1;32m      1\u001b[0m \u001b[38;5;66;03m# train the model\u001b[39;00m\n\u001b[0;32m----> 3\u001b[0m \u001b[43mptk\u001b[49m\u001b[38;5;241;43m.\u001b[39;49m\u001b[43mnormative\u001b[49m\u001b[38;5;241;43m.\u001b[39;49m\u001b[43mestimate\u001b[49m\u001b[43m(\u001b[49m\u001b[43mcovfile\u001b[49m\u001b[38;5;241;43m=\u001b[39;49m\u001b[43mcovfile\u001b[49m\u001b[43m,\u001b[49m\u001b[43m \u001b[49m\n\u001b[1;32m      4\u001b[0m \u001b[43m                       \u001b[49m\u001b[43mrespfile\u001b[49m\u001b[38;5;241;43m=\u001b[39;49m\u001b[43mrespfile\u001b[49m\u001b[43m,\u001b[49m\n\u001b[1;32m      5\u001b[0m \u001b[43m                       \u001b[49m\u001b[43mtsbefile\u001b[49m\u001b[38;5;241;43m=\u001b[39;49m\u001b[43mtsbefile\u001b[49m\u001b[43m,\u001b[49m\u001b[43m \u001b[49m\n\u001b[1;32m      6\u001b[0m \u001b[43m                        \u001b[49m\u001b[43mmodel_type\u001b[49m\u001b[38;5;241;43m=\u001b[39;49m\u001b[38;5;124;43m'\u001b[39;49m\u001b[38;5;124;43mbspline\u001b[39;49m\u001b[38;5;124;43m'\u001b[39;49m\u001b[43m,\u001b[49m\n\u001b[1;32m      7\u001b[0m \u001b[43m                       \u001b[49m\u001b[43mlinear_mu\u001b[49m\u001b[38;5;241;43m=\u001b[39;49m\u001b[38;5;124;43m'\u001b[39;49m\u001b[38;5;124;43mTrue\u001b[39;49m\u001b[38;5;124;43m'\u001b[39;49m\u001b[43m,\u001b[49m\n\u001b[1;32m      8\u001b[0m \u001b[43m                       \u001b[49m\u001b[43mlinear_sigma\u001b[49m\u001b[43m \u001b[49m\u001b[38;5;241;43m=\u001b[39;49m\u001b[43m \u001b[49m\u001b[38;5;124;43m'\u001b[39;49m\u001b[38;5;124;43mTrue\u001b[39;49m\u001b[38;5;124;43m'\u001b[39;49m\u001b[43m,\u001b[49m\n\u001b[1;32m      9\u001b[0m \u001b[43m                       \u001b[49m\u001b[43mrandom_intercept_sigma\u001b[49m\u001b[43m \u001b[49m\u001b[38;5;241;43m=\u001b[39;49m\u001b[43m \u001b[49m\u001b[38;5;124;43m'\u001b[39;49m\u001b[38;5;124;43mTrue\u001b[39;49m\u001b[38;5;124;43m'\u001b[39;49m\u001b[43m,\u001b[49m\n\u001b[1;32m     10\u001b[0m \u001b[43m                       \u001b[49m\u001b[43mrandom_slope_sigma\u001b[49m\u001b[43m \u001b[49m\u001b[38;5;241;43m=\u001b[39;49m\u001b[43m \u001b[49m\u001b[38;5;124;43m'\u001b[39;49m\u001b[38;5;124;43mTrue\u001b[39;49m\u001b[38;5;124;43m'\u001b[39;49m\u001b[43m,\u001b[49m\n\u001b[1;32m     11\u001b[0m \u001b[43m                       \u001b[49m\u001b[43mrandom_intercept_mu\u001b[49m\u001b[38;5;241;43m=\u001b[39;49m\u001b[38;5;124;43m'\u001b[39;49m\u001b[38;5;124;43mTrue\u001b[39;49m\u001b[38;5;124;43m'\u001b[39;49m\u001b[43m,\u001b[49m\n\u001b[1;32m     12\u001b[0m \u001b[43m                       \u001b[49m\u001b[43mrandom_slope_mu\u001b[49m\u001b[38;5;241;43m=\u001b[39;49m\u001b[38;5;124;43m'\u001b[39;49m\u001b[38;5;124;43mTrue\u001b[39;49m\u001b[38;5;124;43m'\u001b[39;49m\u001b[43m,\u001b[49m\n\u001b[1;32m     13\u001b[0m \u001b[43m                       \u001b[49m\u001b[43malg\u001b[49m\u001b[38;5;241;43m=\u001b[39;49m\u001b[38;5;124;43m'\u001b[39;49m\u001b[38;5;124;43mhbr\u001b[39;49m\u001b[38;5;124;43m'\u001b[39;49m\u001b[43m,\u001b[49m\u001b[43m \u001b[49m\n\u001b[1;32m     14\u001b[0m \u001b[43m                       \u001b[49m\u001b[43mlog_path\u001b[49m\u001b[38;5;241;43m=\u001b[39;49m\u001b[43mlog_dir\u001b[49m\u001b[43m,\u001b[49m\u001b[43m \u001b[49m\n\u001b[1;32m     15\u001b[0m \u001b[43m                       \u001b[49m\u001b[43mbinary\u001b[49m\u001b[38;5;241;43m=\u001b[39;49m\u001b[38;5;28;43;01mTrue\u001b[39;49;00m\u001b[43m,\u001b[49m\n\u001b[1;32m     16\u001b[0m \u001b[43m                       \u001b[49m\u001b[43moutput_path\u001b[49m\u001b[38;5;241;43m=\u001b[39;49m\u001b[43moutput_path\u001b[49m\u001b[43m,\u001b[49m\u001b[43m \u001b[49m\n\u001b[1;32m     17\u001b[0m \u001b[43m                       \u001b[49m\u001b[43mtestcov\u001b[49m\u001b[38;5;241;43m=\u001b[39;49m\u001b[43m \u001b[49m\u001b[43mtestcovfile_path\u001b[49m\u001b[43m,\u001b[49m\n\u001b[1;32m     18\u001b[0m \u001b[43m                       \u001b[49m\u001b[43mtestresp\u001b[49m\u001b[43m \u001b[49m\u001b[38;5;241;43m=\u001b[39;49m\u001b[43m \u001b[49m\u001b[43mtestrespfile_path\u001b[49m\u001b[43m,\u001b[49m\n\u001b[1;32m     19\u001b[0m \u001b[43m                       \u001b[49m\u001b[43mtrbefile\u001b[49m\u001b[38;5;241;43m=\u001b[39;49m\u001b[43mtrbefile\u001b[49m\u001b[43m,\u001b[49m\n\u001b[1;32m     20\u001b[0m \u001b[43m                       \u001b[49m\u001b[43moutputsuffix\u001b[49m\u001b[38;5;241;43m=\u001b[39;49m\u001b[43moutputsuffix\u001b[49m\u001b[43m,\u001b[49m\u001b[43m \u001b[49m\n\u001b[1;32m     21\u001b[0m \u001b[43m                       \u001b[49m\u001b[43msavemodel\u001b[49m\u001b[38;5;241;43m=\u001b[39;49m\u001b[38;5;28;43;01mTrue\u001b[39;49;00m\u001b[43m)\u001b[49m\n",
      "File \u001b[0;32m~/anaconda3/envs/SHASH/lib/python3.11/site-packages/pcntoolkit/normative.py:418\u001b[0m, in \u001b[0;36mestimate\u001b[0;34m(covfile, respfile, **kwargs)\u001b[0m\n\u001b[1;32m    415\u001b[0m     testids \u001b[38;5;241m=\u001b[39m \u001b[38;5;28mrange\u001b[39m(X\u001b[38;5;241m.\u001b[39mshape[\u001b[38;5;241m0\u001b[39m], X\u001b[38;5;241m.\u001b[39mshape[\u001b[38;5;241m0\u001b[39m]\u001b[38;5;241m+\u001b[39mXte\u001b[38;5;241m.\u001b[39mshape[\u001b[38;5;241m0\u001b[39m])\n\u001b[1;32m    416\u001b[0m     splits \u001b[38;5;241m=\u001b[39m CustomCV((\u001b[38;5;28mrange\u001b[39m(\u001b[38;5;241m0\u001b[39m, X\u001b[38;5;241m.\u001b[39mshape[\u001b[38;5;241m0\u001b[39m]),), (testids,))\n\u001b[0;32m--> 418\u001b[0m     Y \u001b[38;5;241m=\u001b[39m \u001b[43mnp\u001b[49m\u001b[38;5;241;43m.\u001b[39;49m\u001b[43mconcatenate\u001b[49m\u001b[43m(\u001b[49m\u001b[43m(\u001b[49m\u001b[43mY\u001b[49m\u001b[43m,\u001b[49m\u001b[43m \u001b[49m\u001b[43mYte\u001b[49m\u001b[43m)\u001b[49m\u001b[43m,\u001b[49m\u001b[43m \u001b[49m\u001b[43maxis\u001b[49m\u001b[38;5;241;43m=\u001b[39;49m\u001b[38;5;241;43m0\u001b[39;49m\u001b[43m)\u001b[49m\n\u001b[1;32m    419\u001b[0m     X \u001b[38;5;241m=\u001b[39m np\u001b[38;5;241m.\u001b[39mconcatenate((X, Xte), axis\u001b[38;5;241m=\u001b[39m\u001b[38;5;241m0\u001b[39m)\n\u001b[1;32m    421\u001b[0m \u001b[38;5;28;01melse\u001b[39;00m:\n",
      "\u001b[0;31mValueError\u001b[0m: all the input array dimensions except for the concatenation axis must match exactly, but along dimension 1, the array at index 0 has size 2 and the array at index 1 has size 1"
     ]
    }
   ],
   "source": [
    "# train the model\n",
    "\n",
    "ptk.normative.estimate(covfile=covfile, \n",
    "                       respfile=respfile,\n",
    "                       tsbefile=tsbefile, \n",
    "                        model_type='bspline',\n",
    "                       linear_mu='True',\n",
    "                       linear_sigma = 'True',\n",
    "                       random_intercept_sigma = 'True',\n",
    "                       random_slope_sigma = 'True',\n",
    "                       random_intercept_mu='True',\n",
    "                       random_slope_mu='True',\n",
    "                       alg='hbr', \n",
    "                       log_path=log_dir, \n",
    "                       binary=True,\n",
    "                       output_path=output_path, \n",
    "                       testcov= testcovfile_path,\n",
    "                       testresp = testrespfile_path,\n",
    "                       trbefile=trbefile,\n",
    "                       outputsuffix=outputsuffix, \n",
    "                       savemodel=True)"
   ]
  },
  {
   "cell_type": "markdown",
   "id": "d20e6828-de3e-4f9b-b9ee-254fcf9e3d15",
   "metadata": {},
   "source": [
    "## Case 1: Results"
   ]
  },
  {
   "cell_type": "code",
   "execution_count": 108,
   "id": "6b94234b-fc23-4c6c-89f0-add4a1f54cc2",
   "metadata": {
    "collapsed": true,
    "jupyter": {
     "outputs_hidden": true
    }
   },
   "outputs": [],
   "source": [
    "# load the estimated model for the first IDP (column). \n",
    "model1_estimate = ldpkl(os.path.join(processing_dir, \"Models/NM_0_0_estimate.pkl\"))"
   ]
  },
  {
   "cell_type": "code",
   "execution_count": 79,
   "id": "f00434b7-b388-4019-aa4f-1dd7f0fb2eec",
   "metadata": {
    "collapsed": true,
    "jupyter": {
     "outputs_hidden": true
    }
   },
   "outputs": [
    {
     "name": "stdout",
     "output_type": "stream",
     "text": [
      "Help on NormHBR in module pcntoolkit.normative_model.norm_hbr object:\n",
      "\n",
      "class NormHBR(pcntoolkit.normative_model.norm_base.NormBase)\n",
      " |  NormHBR(**kwargs)\n",
      " |  \n",
      " |  HBR multi-batch normative modelling class. By default, this function\n",
      " |  estimates a linear model with random intercept, random slope, and random\n",
      " |  homoscedastic noise.\n",
      " |  \n",
      " |  :param X: [N×P] array of clinical covariates\n",
      " |  :param y: [N×1] array of neuroimaging measures\n",
      " |  :param trbefile: the address to the batch effects file for the training set.\n",
      " |      the batch effect array should be a [N×M] array where M is the number of\n",
      " |      the type of batch effects. For example when the site and gender is modeled\n",
      " |      as batch effects M=2. Each column in the batch effect array contains the\n",
      " |      batch ID (starting from 0) for each sample. If not specified (default=None)\n",
      " |      then all samples assumed to be from the same batch (i.e., the batch effect\n",
      " |                                                          is not modelled).\n",
      " |  :param tsbefile: Similar to trbefile for the test set.\n",
      " |  :param model_type: Specifies the type of the model from 'linear', 'plynomial',\n",
      " |      and 'bspline' (defauls is 'linear').\n",
      " |  :param likelihood: specifies the type of likelihood among 'Normal' 'SHASHb','SHASHo',\n",
      " |      and 'SHASHo2' (defauls is normal).\n",
      " |  :param linear_mu: Boolean (default='True') to decide whether the mean (mu) is\n",
      " |      parametrized on a linear function (thus changes with covariates) or it is fixed.\n",
      " |  :param linear_sigma: Boolean (default='False') to decide whether the variance (sigma) is\n",
      " |      parametrized on a linear function (heteroscedastic noise) or it is fixed for\n",
      " |      each batch (homoscedastic noise).\n",
      " |  :param linear_epsilon: Boolean (default='False') to decide the parametrization\n",
      " |      of epsilon for the SHASH likelihood that controls its skewness.\n",
      " |      If True, epsilon is  parametrized on a linear function\n",
      " |      (thus changes with covariates) otherwise it is fixed for each batch.\n",
      " |  :param linear_delta: Boolean (default='False') to decide the parametrization\n",
      " |      of delta for the SHASH likelihood that controls its kurtosis.\n",
      " |      If True, delta is  parametrized on a linear function\n",
      " |      (thus changes with covariates) otherwise it is fixed for each batch.\n",
      " |  :param random_intercept_{parameter}: if parameters mu (default='True'),\n",
      " |      sigma (default='False'), epsilon (default='False'), and delta (default='False')\n",
      " |      are parametrized on a linear function, then this boolean decides\n",
      " |      whether the intercept can vary across batches.\n",
      " |  :param random_slope_{parameter}: if parameters mu (default='True'),\n",
      " |      sigma (default='False'), epsilon (default='False'), and delta (default='False')\n",
      " |      are parametrized on a linear function, then this boolean decides\n",
      " |      whether the slope can vary across batches.\n",
      " |  :param centered_intercept_{parameter}: if parameters mu (default='False'),\n",
      " |      sigma (default='False'), epsilon (default='False'), and delta (default='False')\n",
      " |      are parametrized on a linear function, then this boolean decides\n",
      " |      whether the parameters of intercept are estimated in a centered or\n",
      " |      non-centered manner (default). While centered estimation runs faster\n",
      " |      it may cause some problems for the sampler (the funnel of hell).\n",
      " |  :param centered_slope_{parameter}: if parameters mu (default='False'),\n",
      " |      sigma (default='False'), epsilon (default='False'), and delta (default='False')\n",
      " |      are parametrized on a linear function, then this boolean decides\n",
      " |      whether the parameters of slope are estimated in a centered or\n",
      " |      non-centered manner (default). While centered estimation runs faster\n",
      " |      it may cause some problems for the sampler (the funnel of hell).\n",
      " |  :param sampler: specifies the type of PyMC sampler (Defauls is 'NUTS').\n",
      " |  :param n_samples: The number of samples to draw (Default is '1000'). Please\n",
      " |      note that this parameter must be specified in a string fromat ('1000' and\n",
      " |                                                                     not 1000).\n",
      " |  :param n_tuning: String that specifies the number of iterations to adjust\n",
      " |      the samplers's step sizes, scalings or similar (defauls is '500').\n",
      " |  :param n_chains: String that specifies the number of chains to sample. Defauls\n",
      " |      is '1' for faster estimation, but note that sampling independent chains\n",
      " |      is important for some convergence checks.\n",
      " |  :param cores: String that specifies the number of chains to run in parallel.\n",
      " |      (defauls is '1').\n",
      " |  :param init: Initialization method to use for auto-assigned NUTS samplers. The\n",
      " |      defauls is 'jitter+adapt_diag' that starts with a identity mass matrix\n",
      " |      and then adapt a diagonal based on the variance of the tuning samples\n",
      " |      while adding a uniform jitter in [-1, 1] to the starting point in each chain.\n",
      " |  :param target_accept: String that of a float in [0, 1] that regulates the\n",
      " |      step size such that we approximate this acceptance rate. The defauls is '0.8'\n",
      " |      but higher values like 0.9 or 0.95 often work better for problematic posteriors.\n",
      " |  :param order: String that defines the order of bspline or polynomial model.\n",
      " |      The defauls is '3'.\n",
      " |  :param nknots: String that defines the numbers of knots for the bspline model.\n",
      " |      The defauls is '5'. Higher values increase the model complexity with negative\n",
      " |      effect on the spped of estimations.\n",
      " |  :param nn_hidden_layers_num: String the specifies the number of hidden layers\n",
      " |      in neural network model. It can be either '1' or '2'. The default is set to '2'.\n",
      " |  :param nn_hidden_neuron_num: String that specifies the number of neurons in\n",
      " |      the hidden layers. The defauls is set to  '2'.\n",
      " |  \n",
      " |  Written by S.de Boer and S.M. Kia\n",
      " |  \n",
      " |  Method resolution order:\n",
      " |      NormHBR\n",
      " |      pcntoolkit.normative_model.norm_base.NormBase\n",
      " |      builtins.object\n",
      " |  \n",
      " |  Methods defined here:\n",
      " |  \n",
      " |  __init__(self, **kwargs)\n",
      " |      Initialize self.  See help(type(self)) for accurate signature.\n",
      " |  \n",
      " |  estimate(self, X, y, **kwargs)\n",
      " |      Sample from the posterior of the Hierarchical Bayesian Regression model.\n",
      " |      \n",
      " |      This function samples from the posterior distribution of the Hierarchical Bayesian Regression (HBR) model given the data matrix 'X' and target 'y'. \n",
      " |      If 'trbefile' is provided in kwargs, it is used as batch effects for the training data. \n",
      " |      Otherwise, the batch effects are initialized as zeros.\n",
      " |      \n",
      " |      :param X: Data matrix.\n",
      " |      :param y: Target values.\n",
      " |      :param kwargs: Keyword arguments which may include:\n",
      " |          - 'trbefile': File containing the batch effects for the training data. Optional.\n",
      " |      :return: The instance of the NormHBR object.\n",
      " |  \n",
      " |  estimate_on_new_sites(self, X, y, batch_effects)\n",
      " |      Samples from the posterior of the Hierarchical Bayesian Regression model.\n",
      " |      \n",
      " |      This function samples from the posterior of the Hierarchical Bayesian Regression (HBR) model given the data matrix 'X' and target 'y'. The posterior samples from the previous iteration are used to construct the priors for this one.  \n",
      " |      If 'trbefile' is provided in kwargs, it is used as batch effects for the training data. \n",
      " |      Otherwise, the batch effects are initialized as zeros.\n",
      " |      \n",
      " |      :param X: Data matrix.\n",
      " |      :param y: Target values.\n",
      " |      :param kwargs: Keyword arguments which may include:\n",
      " |          - 'trbefile': File containing the batch effects for the training data. Optional.\n",
      " |      :return: The instance of the NormHBR object.\n",
      " |  \n",
      " |  extend(self, X, y, batch_effects, X_dummy_ranges=[[0.1, 0.9, 0.01]], merge_batch_dim=0, samples=10, informative_prior=False)\n",
      " |      Extend the Hierarchical Bayesian Regression model using data sampled from the posterior predictive distribution.\n",
      " |      \n",
      " |      This function extends the Hierarchical Bayesian Regression (HBR) model, given the data matrix 'X' and target 'y'. \n",
      " |      It also generates data from the posterior predictive distribution and merges it with the new data before estimation. \n",
      " |      If 'informative_prior' is True, it uses the adapt method for estimation. Otherwise, it uses the estimate method.\n",
      " |      \n",
      " |      :param X: Data matrix for the new sites.\n",
      " |      :param y: Target values for the new sites.\n",
      " |      :param batch_effects: Batch effects for the new sites.\n",
      " |      :param X_dummy_ranges: Ranges for generating the dummy data. Default is [[0.1, 0.9, 0.01]].\n",
      " |      :param merge_batch_dim: Dimension for merging the batch effects. Default is 0.\n",
      " |      :param samples: Number of samples to generate for the dummy data. Default is 10.\n",
      " |      :param informative_prior: Whether to use the adapt method for estimation. Default is False.\n",
      " |      :return: The instance of the NormHBR object.\n",
      " |  \n",
      " |  generate(self, X, batch_effects, samples=10)\n",
      " |  \n",
      " |  get_mcmc_quantiles(self, X, batch_effects=None, z_scores=None)\n",
      " |      Computes quantiles of an estimated normative model.\n",
      " |      \n",
      " |      Args:\n",
      " |          X ([N*p]ndarray): covariates for which the quantiles are computed (must be scaled if scaler is set)\n",
      " |          batch_effects (ndarray): the batch effects corresponding to X\n",
      " |          z_scores (ndarray): Use this to determine which quantiles will be computed. The resulting quantiles will have the z-scores given in this list.\n",
      " |  \n",
      " |  get_mcmc_zscores(self, X, y, **kwargs)\n",
      " |      Computes zscores of data given an estimated model\n",
      " |      \n",
      " |      Args:\n",
      " |          X ([N*p]ndarray): covariates\n",
      " |          y ([N*1]ndarray): response variables\n",
      " |  \n",
      " |  merge(self, nm, X_dummy_ranges=[[0.1, 0.9, 0.01]], merge_batch_dim=0, samples=10)\n",
      " |      Samples from the posterior predictive distribitions of two models, merges them, and estimates a model on the merged data.\n",
      " |      \n",
      " |      This function samples from the posterior predictive distribitions of two models, merges them, and estimates a model on the merged data.\n",
      " |      \n",
      " |      :param nm: The other NormHBR object.\n",
      " |      :param X_dummy_ranges: Ranges for generating the dummy data. Default is [[0.1, 0.9, 0.01]].\n",
      " |      :param merge_batch_dim: Dimension for merging the batch effects. Default is 0.\n",
      " |      :param samples: Number of samples to generate for the dummy data. Default is 10.\n",
      " |  \n",
      " |  predict(self, Xs, X=None, Y=None, **kwargs)\n",
      " |      Predict the target values for the given test data.\n",
      " |      \n",
      " |      This function predicts the target values for the given test data 'Xs' using the Hierarchical Bayesian Regression (HBR) model. \n",
      " |      If 'X' and 'Y' are provided, they are used to update the model before prediction. \n",
      " |      If 'tsbefile' is provided in kwargs, it is used to as batch effects for the test data. \n",
      " |      Otherwise, the batch effects are initialized as zeros.\n",
      " |      \n",
      " |      :param Xs: Test data matrix.\n",
      " |      :param X: Training data matrix. Optional.\n",
      " |      :param Y: Training target values. Optional.\n",
      " |      :param kwargs: Keyword arguments which may include:\n",
      " |          - 'tsbefile': File containing the batch effects for the test data. Optional.\n",
      " |      :return: A tuple containing the predicted target values and the marginal variances for the test data.\n",
      " |      :raises ValueError: If the model is a transferred model. In this case, use the predict_on_new_sites function.\n",
      " |  \n",
      " |  predict_on_new_sites(self, X, batch_effects)\n",
      " |      Predict the target values for the given test data on new sites.\n",
      " |      \n",
      " |      This function predicts the target values for the given test data 'X' on new sites using the Hierarchical Bayesian Regression (HBR) model. \n",
      " |      The batch effects for the new sites must be provided.\n",
      " |      \n",
      " |      :param X: Test data matrix for the new sites.\n",
      " |      :param batch_effects: Batch effects for the new sites.\n",
      " |      :return: A tuple containing the predicted target values and the marginal variances for the test data on the new sites.\n",
      " |  \n",
      " |  tune(self, X, y, batch_effects, X_dummy_ranges=[[0.1, 0.9, 0.01]], merge_batch_dim=0, samples=10, informative_prior=False)\n",
      " |  \n",
      " |  ----------------------------------------------------------------------\n",
      " |  Readonly properties defined here:\n",
      " |  \n",
      " |  n_params\n",
      " |      Report the number of parameters required by the model\n",
      " |  \n",
      " |  neg_log_lik\n",
      " |  \n",
      " |  ----------------------------------------------------------------------\n",
      " |  Data and other attributes defined here:\n",
      " |  \n",
      " |  __abstractmethods__ = frozenset()\n",
      " |  \n",
      " |  __slotnames__ = []\n",
      " |  \n",
      " |  ----------------------------------------------------------------------\n",
      " |  Methods inherited from pcntoolkit.normative_model.norm_base.NormBase:\n",
      " |  \n",
      " |  load(self, load_path)\n",
      " |  \n",
      " |  save(self, save_path)\n",
      " |  \n",
      " |  ----------------------------------------------------------------------\n",
      " |  Data descriptors inherited from pcntoolkit.normative_model.norm_base.NormBase:\n",
      " |  \n",
      " |  __dict__\n",
      " |      dictionary for instance variables (if defined)\n",
      " |  \n",
      " |  __weakref__\n",
      " |      list of weak references to the object (if defined)\n",
      "\n"
     ]
    }
   ],
   "source": [
    "# we can always have a display of all available methods using the help call:\n",
    "help(model1_estimate)"
   ]
  },
  {
   "cell_type": "markdown",
   "id": "9995b7e7-4a8d-43d2-a81c-7cab230b8c0e",
   "metadata": {},
   "source": [
    "## Case 1a: Plot the results for one site.\n",
    "\n",
    "The results yield predictions for all 20 sites. However, let's plot just now the results and centiles for site id 8 (Cleveland).\n",
    "\n",
    "We can use the get_mcmc_quantiles function inherent in the normative model object for that.\n",
    "This function requires:\n",
    "- a desired range of z-scores that the quantiles should cover\n",
    "- a desired X-axis vector (for example, from 20 years - 80 years)\n",
    "- a batch effect vector containing the desired batch effects to plot\n"
   ]
  },
  {
   "cell_type": "code",
   "execution_count": 118,
   "id": "fb7585f5-200e-4481-94dd-d793b78bd409",
   "metadata": {
    "collapsed": true,
    "jupyter": {
     "outputs_hidden": true
    }
   },
   "outputs": [],
   "source": [
    "# create dummy zscores\n",
    "zscores = np.arange(-3,4)[:,np.newaxis]\n",
    "\n",
    "# We need to provide a matrix of shape [N,d]. In this case d=1, so we need to expand this matrix with a single 'empty' dimension.\n",
    "# We can do this by using the np.newaxis in this way.\n",
    "# Create sythetic X achsis\n",
    "n_synthetic_samples = 200\n",
    "synthetic_X = np.linspace(0.15, 0.85, n_synthetic_samples)[:,np.newaxis]\n",
    "# choose type of site effect by cerating intercept offset (or not). We choose gender 0 and site 8.\n",
    "be = np.zeros((n_synthetic_samples,2))\n",
    "sevens = np.ones((n_synthetic_samples,1))*8\n",
    "be[:,0] = sevens[:,0]\n",
    "be=be.astype(int)"
   ]
  },
  {
   "cell_type": "markdown",
   "id": "0b9edc17-37c0-4012-8622-2f2a3319c19e",
   "metadata": {},
   "source": [
    "Get the quantiles."
   ]
  },
  {
   "cell_type": "code",
   "execution_count": 119,
   "id": "84fdf51d-7074-49c6-8aa2-f44a585e0e84",
   "metadata": {
    "collapsed": true,
    "jupyter": {
     "outputs_hidden": true
    }
   },
   "outputs": [
    {
     "name": "stderr",
     "output_type": "stream",
     "text": [
      "Sampling: [y_like]\n"
     ]
    },
    {
     "data": {
      "text/html": [
       "\n",
       "    <div>\n",
       "        <style>\n",
       "            /* Turns off some styling */\n",
       "            progress {\n",
       "                /* gets rid of default border in Firefox and Opera. */\n",
       "                border: none;\n",
       "                /* Needs to be in here for Safari polyfill so background images work as expected. */\n",
       "                background-size: auto;\n",
       "            }\n",
       "            .progress-bar-interrupted, .progress-bar-interrupted::-webkit-progress-bar {\n",
       "                background: #F44336;\n",
       "            }\n",
       "        </style>\n",
       "      <progress value='1000' class='' max='1000' style='width:300px; height:20px; vertical-align: middle;'></progress>\n",
       "      100.00% [1000/1000 00:00<00:00]\n",
       "    </div>\n",
       "    "
      ],
      "text/plain": [
       "<IPython.core.display.HTML object>"
      ]
     },
     "metadata": {},
     "output_type": "display_data"
    }
   ],
   "source": [
    "# get quantiles based on x achsis, batch effetcs be and zscore range\n",
    "q = model1_estimate.get_mcmc_quantiles(synthetic_X, be, zscores)"
   ]
  },
  {
   "cell_type": "code",
   "execution_count": 120,
   "id": "2086050b-27e1-49d6-9385-a3ada654be82",
   "metadata": {
    "collapsed": true,
    "jupyter": {
     "outputs_hidden": true
    }
   },
   "outputs": [
    {
     "data": {
      "text/plain": [
       "Text(0.5, 1.0, 'site [8 0]')"
      ]
     },
     "execution_count": 120,
     "metadata": {},
     "output_type": "execute_result"
    },
    {
     "data": {
      "image/png": "[encoded data removed]",
      "text/plain": [
       "<Figure size 640x480 with 1 Axes>"
      ]
     },
     "metadata": {},
     "output_type": "display_data"
    }
   ],
   "source": [
    "# Plot the original training set data points (site 0) into the centiles\n",
    "plt.scatter(X_test[batch_effects_test[:,0]==8], Y_test[batch_effects_test[:,0]==8, 0])\n",
    "# Note: for illustrative reasons, we plot both gender 0 and 1 onto the centiles for gender 0. In a real analysis, one would probably \n",
    "# make one plot per gender.\n",
    "for i, v in enumerate(zscores):\n",
    "    thickness = 1\n",
    "    linestyle = \"-\"\n",
    "    if v == 0:\n",
    "        thickness = 2\n",
    "    if abs(v) > 2:\n",
    "        linestyle = \"--\"\n",
    "    plt.plot(synthetic_X, q[i], linewidth = thickness, linestyle = linestyle, color = 'black', alpha = 0.7)\n",
    "\n",
    "plt.title('site ' + str(be[0,0]))"
   ]
  },
  {
   "cell_type": "markdown",
   "id": "496923cb-72d2-4fa9-8122-d02693e91b05",
   "metadata": {},
   "source": [
    "## Case 1b: Add data points from site 7 (Cambridge_Buckner) into the quantile plot of site 8 (Cleveland).\n",
    "\n",
    "1. Create a forward prediction for the covariate combination of each individual of site 7 for site 8.\n",
    "2. Use yhat and s2 to invert z score for those individuals.\n",
    "\n",
    "Rationale:\n",
    "\n",
    "The zscores that the model produces are normalized for site. Hence, the z-socres are comparable in z-score space.\n",
    "In order to convert the data points back into different site spaces, we need to revert the z-score transformation.\n",
    "\n",
    "$z_{s1,7} = z_8$\n",
    "\n",
    "$z_7 = \\frac{\\hat{y}_8 - y}{s_8}$\n",
    "\n",
    "$z_7 * s_8 - \\hat{y_8} = -y$"
   ]
  },
  {
   "cell_type": "code",
   "execution_count": 121,
   "id": "14a893a6-4b23-4cf9-b1ab-141587abe169",
   "metadata": {
    "collapsed": true,
    "jupyter": {
     "outputs_hidden": true
    }
   },
   "outputs": [],
   "source": [
    "# Select individuals from site 7\n",
    "X_test_7=X_test[batch_effects_test[:,0]==7]\n",
    "n_synthetic_samples = sum(batch_effects_test[:,0]==7)\n",
    "\n",
    "# Create a batch effect file for forward predictions in site 8. We hence select 8 as batch effect ID. \n",
    "# We choose gender 0 and site 8.\n",
    "be = np.zeros((n_synthetic_samples,2))\n",
    "eights = np.ones((n_synthetic_samples,1))*8\n",
    "be[:,0] = eights[:,0]\n",
    "be=be.astype(int)\n",
    "\n",
    "# save individuals and create path\n",
    "with open('X_test_7_in_8.pkl', 'wb') as file:\n",
    "    pickle.dump(pd.DataFrame(X_test_7), file)\n",
    "    \n",
    "X_test_7_path = os.path.join(processing_dir, 'X_test_7_in_8.pkl')\n",
    "\n",
    "#save batch effect and create path\n",
    "with open('be_8.pkl', 'wb') as file:\n",
    "    pickle.dump(pd.DataFrame(be), file)\n",
    "    \n",
    "be_8_path = os.path.join(processing_dir, 'be_8.pkl')"
   ]
  },
  {
   "cell_type": "code",
   "execution_count": 122,
   "id": "4d7169a1-0ede-41c4-82ed-4dc722c5411c",
   "metadata": {
    "collapsed": true,
    "jupyter": {
     "outputs_hidden": true
    }
   },
   "outputs": [
    {
     "name": "stderr",
     "output_type": "stream",
     "text": [
      "Sampling: [y_like]\n"
     ]
    },
    {
     "name": "stdout",
     "output_type": "stream",
     "text": [
      "Loading data ...\n",
      "Prediction by model  1 of 2\n"
     ]
    },
    {
     "data": {
      "text/html": [
       "\n",
       "    <div>\n",
       "        <style>\n",
       "            /* Turns off some styling */\n",
       "            progress {\n",
       "                /* gets rid of default border in Firefox and Opera. */\n",
       "                border: none;\n",
       "                /* Needs to be in here for Safari polyfill so background images work as expected. */\n",
       "                background-size: auto;\n",
       "            }\n",
       "            .progress-bar-interrupted, .progress-bar-interrupted::-webkit-progress-bar {\n",
       "                background: #F44336;\n",
       "            }\n",
       "        </style>\n",
       "      <progress value='1000' class='' max='1000' style='width:300px; height:20px; vertical-align: middle;'></progress>\n",
       "      100.00% [1000/1000 00:00<00:00]\n",
       "    </div>\n",
       "    "
      ],
      "text/plain": [
       "<IPython.core.display.HTML object>"
      ]
     },
     "metadata": {},
     "output_type": "display_data"
    },
    {
     "name": "stdout",
     "output_type": "stream",
     "text": [
      "Prediction by model  2 of 2\n"
     ]
    },
    {
     "name": "stderr",
     "output_type": "stream",
     "text": [
      "Sampling: [y_like]\n"
     ]
    },
    {
     "data": {
      "text/html": [
       "\n",
       "    <div>\n",
       "        <style>\n",
       "            /* Turns off some styling */\n",
       "            progress {\n",
       "                /* gets rid of default border in Firefox and Opera. */\n",
       "                border: none;\n",
       "                /* Needs to be in here for Safari polyfill so background images work as expected. */\n",
       "                background-size: auto;\n",
       "            }\n",
       "            .progress-bar-interrupted, .progress-bar-interrupted::-webkit-progress-bar {\n",
       "                background: #F44336;\n",
       "            }\n",
       "        </style>\n",
       "      <progress value='1000' class='' max='1000' style='width:300px; height:20px; vertical-align: middle;'></progress>\n",
       "      100.00% [1000/1000 00:00<00:00]\n",
       "    </div>\n",
       "    "
      ],
      "text/plain": [
       "<IPython.core.display.HTML object>"
      ]
     },
     "metadata": {},
     "output_type": "display_data"
    },
    {
     "name": "stdout",
     "output_type": "stream",
     "text": [
      "Writing outputs ...\n"
     ]
    },
    {
     "data": {
      "text/plain": [
       "(array([[2.25812954, 2.30332616],\n",
       "        [2.23754369, 2.29253215],\n",
       "        [2.30527172, 2.31456951],\n",
       "        [2.2965296 , 2.30842664],\n",
       "        [2.25110689, 2.30110895],\n",
       "        [2.22541214, 2.27265781],\n",
       "        [2.26914887, 2.28871873],\n",
       "        [2.29791483, 2.31357786],\n",
       "        [2.21771249, 2.25578611],\n",
       "        [2.22198345, 2.25216021],\n",
       "        [2.2505011 , 2.28682286],\n",
       "        [2.28196213, 2.3010481 ],\n",
       "        [2.32700974, 2.32189826],\n",
       "        [2.29991866, 2.31308942],\n",
       "        [2.3349002 , 2.3272996 ],\n",
       "        [2.31363576, 2.3184422 ],\n",
       "        [2.27033549, 2.29423769],\n",
       "        [2.28929865, 2.30865357],\n",
       "        [2.2780752 , 2.30122206],\n",
       "        [2.28791912, 2.30360812],\n",
       "        [2.25139902, 2.28830602],\n",
       "        [2.28120245, 2.31690432],\n",
       "        [2.24667299, 2.283399  ],\n",
       "        [2.28040303, 2.28929172],\n",
       "        [2.28213847, 2.30294554],\n",
       "        [2.24949742, 2.28779399],\n",
       "        [2.28153181, 2.29944024],\n",
       "        [2.2658997 , 2.29449103],\n",
       "        [2.25327657, 2.2964995 ],\n",
       "        [2.30625615, 2.3254802 ],\n",
       "        [2.25775078, 2.29857268],\n",
       "        [2.22863838, 2.28087027],\n",
       "        [2.25975906, 2.28117307],\n",
       "        [2.26622605, 2.29544696],\n",
       "        [2.27299996, 2.30137824],\n",
       "        [2.2108797 , 2.2586784 ],\n",
       "        [2.31179377, 2.31174346],\n",
       "        [2.25503636, 2.29401827],\n",
       "        [2.29907533, 2.3236527 ],\n",
       "        [2.22721642, 2.26772882],\n",
       "        [2.25211628, 2.28319018],\n",
       "        [2.28490118, 2.30686257],\n",
       "        [2.27242534, 2.30921323],\n",
       "        [2.25490524, 2.29731254],\n",
       "        [2.27003143, 2.29881149],\n",
       "        [2.30220643, 2.32412775],\n",
       "        [2.25490677, 2.29094114],\n",
       "        [2.25590962, 2.28703153],\n",
       "        [2.29294194, 2.31174212],\n",
       "        [2.30805532, 2.32480127],\n",
       "        [2.28182362, 2.29460906],\n",
       "        [2.31950997, 2.33175918],\n",
       "        [2.2566895 , 2.28668576],\n",
       "        [2.24885013, 2.28749677],\n",
       "        [2.32282798, 2.32392959],\n",
       "        [2.25193697, 2.28975221],\n",
       "        [2.23886073, 2.2710738 ],\n",
       "        [2.31055714, 2.31454467],\n",
       "        [2.27209727, 2.29573157],\n",
       "        [2.27095932, 2.30071911],\n",
       "        [2.24284058, 2.28553018],\n",
       "        [2.27875717, 2.30651502],\n",
       "        [2.28934053, 2.3117339 ],\n",
       "        [2.25415851, 2.29529096],\n",
       "        [2.22642049, 2.26871036],\n",
       "        [2.29014251, 2.30331377],\n",
       "        [2.29119059, 2.30409226],\n",
       "        [2.25170254, 2.29665956],\n",
       "        [2.28281963, 2.31013212],\n",
       "        [2.3195425 , 2.33223796],\n",
       "        [2.22219027, 2.28073914],\n",
       "        [2.24757558, 2.2845531 ],\n",
       "        [2.28272081, 2.30363694],\n",
       "        [2.27178748, 2.29852449],\n",
       "        [2.28850422, 2.29949854],\n",
       "        [2.28212716, 2.30588967],\n",
       "        [2.27895216, 2.31024337],\n",
       "        [2.32257221, 2.33319981],\n",
       "        [2.25989409, 2.28915182],\n",
       "        [2.3016035 , 2.31831794],\n",
       "        [2.24813932, 2.29071402],\n",
       "        [2.29714541, 2.3145849 ],\n",
       "        [2.29779113, 2.31556079],\n",
       "        [2.27983131, 2.31024205],\n",
       "        [2.26329601, 2.2911821 ],\n",
       "        [2.23592792, 2.28248332],\n",
       "        [2.29447744, 2.31928162],\n",
       "        [2.29326374, 2.30653726],\n",
       "        [2.26261686, 2.29557714],\n",
       "        [2.32862478, 2.32051847],\n",
       "        [2.28383773, 2.31485611],\n",
       "        [2.32853806, 2.33290473],\n",
       "        [2.30387377, 2.31879525],\n",
       "        [2.25386589, 2.29550444],\n",
       "        [2.22797787, 2.26198399],\n",
       "        [2.26264804, 2.29036656],\n",
       "        [2.27450222, 2.30144111],\n",
       "        [2.26786454, 2.2946669 ],\n",
       "        [2.28281336, 2.30925414],\n",
       "        [2.28757467, 2.30532384],\n",
       "        [2.27889317, 2.304078  ],\n",
       "        [2.30633437, 2.31642015],\n",
       "        [2.27224759, 2.30347422],\n",
       "        [2.32535365, 2.31733587]]),\n",
       " array([[0.03032625, 0.03487624],\n",
       "        [0.02962434, 0.03550424],\n",
       "        [0.03391162, 0.041371  ],\n",
       "        [0.03226443, 0.03808093],\n",
       "        [0.02923625, 0.03292025],\n",
       "        [0.02642804, 0.0323052 ],\n",
       "        [0.03056959, 0.03316812],\n",
       "        [0.03465066, 0.03930689],\n",
       "        [0.02648259, 0.03321012],\n",
       "        [0.02653773, 0.03063417],\n",
       "        [0.03118836, 0.03217396],\n",
       "        [0.03450841, 0.03956897],\n",
       "        [0.03591197, 0.04096254],\n",
       "        [0.03484512, 0.04201289],\n",
       "        [0.035854  , 0.03678322],\n",
       "        [0.03441412, 0.03915791],\n",
       "        [0.03107666, 0.03274182],\n",
       "        [0.03467848, 0.03164346],\n",
       "        [0.0317476 , 0.03523203],\n",
       "        [0.03206517, 0.03541257],\n",
       "        [0.03070948, 0.02907045],\n",
       "        [0.033842  , 0.03794838],\n",
       "        [0.02975928, 0.03150694],\n",
       "        [0.03025932, 0.03455973],\n",
       "        [0.03466947, 0.03696604],\n",
       "        [0.03168756, 0.03098305],\n",
       "        [0.03210679, 0.03438065],\n",
       "        [0.03163763, 0.03340238],\n",
       "        [0.03061297, 0.03092935],\n",
       "        [0.03663359, 0.04101882],\n",
       "        [0.03262769, 0.03219339],\n",
       "        [0.0275854 , 0.03064178],\n",
       "        [0.03028769, 0.03129837],\n",
       "        [0.02811481, 0.03440299],\n",
       "        [0.03135553, 0.03256791],\n",
       "        [0.0277293 , 0.03281803],\n",
       "        [0.03293609, 0.03813414],\n",
       "        [0.03017043, 0.0333914 ],\n",
       "        [0.03402505, 0.03914429],\n",
       "        [0.02696201, 0.03247347],\n",
       "        [0.03044314, 0.03168465],\n",
       "        [0.03464055, 0.03677197],\n",
       "        [0.03067543, 0.03855438],\n",
       "        [0.0279762 , 0.03330865],\n",
       "        [0.03101093, 0.03112718],\n",
       "        [0.03451176, 0.03892735],\n",
       "        [0.02833455, 0.03305119],\n",
       "        [0.03139982, 0.0338638 ],\n",
       "        [0.03070354, 0.03828153],\n",
       "        [0.0330764 , 0.03795343],\n",
       "        [0.03175246, 0.03618641],\n",
       "        [0.0351313 , 0.03856031],\n",
       "        [0.02920981, 0.03299605],\n",
       "        [0.0297043 , 0.03580408],\n",
       "        [0.03640849, 0.04365485],\n",
       "        [0.02872829, 0.03430375],\n",
       "        [0.02930814, 0.03352877],\n",
       "        [0.03595752, 0.03781663],\n",
       "        [0.02987159, 0.03555645],\n",
       "        [0.03041036, 0.0370509 ],\n",
       "        [0.02792076, 0.03156358],\n",
       "        [0.03295882, 0.03823233],\n",
       "        [0.0325725 , 0.03678126],\n",
       "        [0.02942197, 0.03286046],\n",
       "        [0.0279732 , 0.03210548],\n",
       "        [0.03262869, 0.03612357],\n",
       "        [0.03504994, 0.03720416],\n",
       "        [0.03003766, 0.03245285],\n",
       "        [0.03227917, 0.03901029],\n",
       "        [0.03484682, 0.03815686],\n",
       "        [0.02745543, 0.03202011],\n",
       "        [0.0290987 , 0.02958466],\n",
       "        [0.03146104, 0.03890968],\n",
       "        [0.03336358, 0.03625116],\n",
       "        [0.03089194, 0.03666348],\n",
       "        [0.03243638, 0.03669793],\n",
       "        [0.03393691, 0.03702365],\n",
       "        [0.0373947 , 0.0383044 ],\n",
       "        [0.03050051, 0.03417159],\n",
       "        [0.03422559, 0.03725111],\n",
       "        [0.03207186, 0.03315791],\n",
       "        [0.03319246, 0.04071478],\n",
       "        [0.03212068, 0.03879601],\n",
       "        [0.03389098, 0.0354184 ],\n",
       "        [0.03255985, 0.03275836],\n",
       "        [0.02916136, 0.03162062],\n",
       "        [0.03208479, 0.03467738],\n",
       "        [0.03357765, 0.03665062],\n",
       "        [0.03365472, 0.03465576],\n",
       "        [0.03430986, 0.04065707],\n",
       "        [0.03352298, 0.03628055],\n",
       "        [0.03718612, 0.04134387],\n",
       "        [0.03198626, 0.04159136],\n",
       "        [0.02982242, 0.0358214 ],\n",
       "        [0.02727365, 0.03221932],\n",
       "        [0.02947437, 0.03558461],\n",
       "        [0.03195306, 0.03683317],\n",
       "        [0.02991393, 0.03476172],\n",
       "        [0.03070712, 0.03970876],\n",
       "        [0.03276889, 0.03690407],\n",
       "        [0.03277617, 0.0347103 ],\n",
       "        [0.0347508 , 0.03695673],\n",
       "        [0.03067614, 0.03504574],\n",
       "        [0.03551582, 0.0428764 ]]))"
      ]
     },
     "execution_count": 122,
     "metadata": {},
     "output_type": "execute_result"
    }
   ],
   "source": [
    "## Make a forward prediction for the individuals in site 7 for the batch effect of site 8.\n",
    "\n",
    "ptk.normative.predict(covfile=X_test_7_path,\n",
    "                      inputsuffix='_estimate',\n",
    "                      respfile=None,\n",
    "                      tsbefile=be_8_path,\n",
    "                      model_path=output_path,\n",
    "                      alg='hbr',\n",
    "                      outputsuffix='_X_test_7_in_8')"
   ]
  },
  {
   "cell_type": "markdown",
   "id": "f8852011-2688-4e90-bf5b-1f6bdf6aeda3",
   "metadata": {
    "collapsed": true,
    "jupyter": {
     "outputs_hidden": true
    }
   },
   "source": [
    "### Load the yhat and s2 for subjects from site 7 for site 8.\n",
    "\n",
    "Now we load the data we have just created."
   ]
  },
  {
   "cell_type": "code",
   "execution_count": 85,
   "id": "91d28ae8-d537-4489-815f-c09924beb68e",
   "metadata": {
    "collapsed": true,
    "jupyter": {
     "outputs_hidden": true
    }
   },
   "outputs": [],
   "source": [
    "yhat_Xtest7in8 = ldpkl(os.path.join(processing_dir, \"yhat_Xtest7in8.pkl\"))\n",
    "ys2_Xtest7in8 = ldpkl(os.path.join(processing_dir, \"ys2_Xtest7in8.pkl\"))"
   ]
  },
  {
   "cell_type": "code",
   "execution_count": 86,
   "id": "9e9cf6f0-b37e-48ab-a6c6-5e746c33fd9e",
   "metadata": {
    "collapsed": true,
    "jupyter": {
     "outputs_hidden": true
    }
   },
   "outputs": [],
   "source": [
    "# We also load the original z-scores.\n",
    "z_scores = ldpkl(os.path.join(processing_dir, \"Z_estimate.pkl\"))"
   ]
  },
  {
   "cell_type": "code",
   "execution_count": 87,
   "id": "dc45afe6-3ad4-460a-8b75-3f38aaf05f67",
   "metadata": {
    "collapsed": true,
    "jupyter": {
     "outputs_hidden": true
    }
   },
   "outputs": [
    {
     "data": {
      "text/plain": [
       "0      0.031685\n",
       "1      0.027932\n",
       "2      0.032142\n",
       "3      0.029461\n",
       "4      0.030474\n",
       "         ...   \n",
       "99     0.035928\n",
       "100    0.033593\n",
       "101    0.032988\n",
       "102    0.030945\n",
       "103    0.035352\n",
       "Name: 0, Length: 104, dtype: float64"
      ]
     },
     "execution_count": 87,
     "metadata": {},
     "output_type": "execute_result"
    }
   ],
   "source": [
    "# Look at the data. We only select the first IDP.\n",
    "\n",
    "yhat_Xtest7in8[0]\n",
    "ys2_Xtest7in8[0]"
   ]
  },
  {
   "cell_type": "code",
   "execution_count": 88,
   "id": "66f5c7cf-e3e8-4c91-a022-bdab3e9ded20",
   "metadata": {
    "collapsed": true,
    "jupyter": {
     "outputs_hidden": true
    }
   },
   "outputs": [],
   "source": [
    "# Make the back transformation\n",
    "y_adj = z_scores[batch_effects_test[:,0]==7][0].to_numpy() * ys2_Xtest7in8[0].to_numpy() - yhat_Xtest7in8[0].to_numpy()"
   ]
  },
  {
   "cell_type": "code",
   "execution_count": 89,
   "id": "4b93c234-f73f-4069-b988-3a1c264efe68",
   "metadata": {},
   "outputs": [],
   "source": [
    "y_adj = y_adj * (-1)"
   ]
  },
  {
   "cell_type": "markdown",
   "id": "7c32be6f-4b12-475a-a33d-28a7bb77d4ce",
   "metadata": {},
   "source": [
    "We now create a plot that contains the transfromed data from site 7, the original data from site 8 and the centiles from site 8."
   ]
  },
  {
   "cell_type": "code",
   "execution_count": 90,
   "id": "b9f978c0-1e2a-48fb-907f-be63e4683d4f",
   "metadata": {
    "collapsed": true,
    "jupyter": {
     "outputs_hidden": true
    }
   },
   "outputs": [
    {
     "data": {
      "text/plain": [
       "Text(0.5, 1.0, 'site [8 0]')"
      ]
     },
     "execution_count": 90,
     "metadata": {},
     "output_type": "execute_result"
    },
    {
     "data": {
      "image/png": "[encoded data removed]",
      "text/plain": [
       "<Figure size 640x480 with 1 Axes>"
      ]
     },
     "metadata": {},
     "output_type": "display_data"
    }
   ],
   "source": [
    "# Plot the transformed data from site 7,  the original data from site 8 and the centiles from site 8.\n",
    "\n",
    "plt.scatter(X_test[batch_effects_test[:,0]==8], Y_test[batch_effects_test[:,0]==8, 0])\n",
    "plt.scatter(X_test[batch_effects_test[:,0]==7], y_adj)\n",
    "# plot centiles\n",
    "for i, v in enumerate(zscores):\n",
    "    thickness = 1\n",
    "    linestyle = \"-\"\n",
    "    if v == 0:\n",
    "        thickness = 2\n",
    "    if abs(v) > 2:\n",
    "        linestyle = \"--\"\n",
    "    plt.plot(synthetic_X, q[i], linewidth = thickness, linestyle = linestyle, color = 'black', alpha = 0.7)\n",
    "\n",
    "plt.title('site ' + str(be[0]))"
   ]
  },
  {
   "cell_type": "markdown",
   "id": "aafb6a90-0f21-43d2-a2c5-cdbb83bf0b84",
   "metadata": {
    "collapsed": true,
    "jupyter": {
     "outputs_hidden": true
    }
   },
   "source": [
    "## Case 2: Transter model: Make predictions/adjustments for unseen sites.\n",
    "\n",
    "The transfer requires an adaptation (training) and a test data set. We are going to use the held-out training data set for that.\n",
    "\n",
    "The trainsfer model works in two stages: \n",
    "1. The adaptation data set is used to refit the model with priors derived from the previous model\n",
    "2. Predictions and evalations are made for the hold-out test data."
   ]
  },
  {
   "cell_type": "code",
   "execution_count": 91,
   "id": "99c9a0f7-3af0-4e0b-b293-db8c7a2c575d",
   "metadata": {
    "collapsed": true,
    "jupyter": {
     "outputs_hidden": true
    }
   },
   "outputs": [],
   "source": [
    "# Create a new folder for the transfer models and create directory.\n",
    "txfer_output_path = os.path.join(processing_dir,'Transfer')\n",
    "os.makedirs(txfer_output_path, exist_ok=True)"
   ]
  },
  {
   "cell_type": "code",
   "execution_count": 92,
   "id": "609143a4-402a-4e84-90e0-6747ce9e68ae",
   "metadata": {
    "collapsed": true,
    "jupyter": {
     "outputs_hidden": true
    }
   },
   "outputs": [],
   "source": [
    "# Load the hold out data.\n",
    "X_adapt = (new_sites_tr['age']/100).to_numpy(dtype=float)\n",
    "Y_adapt = new_sites_tr[idps].to_numpy(dtype=float)\n",
    "batch_effects_adapt = new_sites_tr[['sitenum','sex']].to_numpy(dtype=int)\n",
    "\n",
    "X_test_txfr = (new_sites_te['age']/100).to_numpy(dtype=float)\n",
    "Y_test_txfr = new_sites_te[idps].to_numpy(dtype=float)\n",
    "batch_effects_test_txfr = new_sites_te[['sitenum','sex']].to_numpy(dtype=int)"
   ]
  },
  {
   "cell_type": "code",
   "execution_count": 93,
   "id": "a585fae1-7172-495c-9eb1-e201d2cbe0be",
   "metadata": {
    "collapsed": true,
    "jupyter": {
     "outputs_hidden": true
    }
   },
   "outputs": [
    {
     "name": "stdout",
     "output_type": "stream",
     "text": [
      "(139, 2)\n",
      "(38, 2)\n",
      "(38,)\n",
      "(38, 2)\n"
     ]
    }
   ],
   "source": [
    "# Let's have a look at the holdout data.\n",
    "print(batch_effects_test_txfr.shape)\n",
    "print(batch_effects_adapt.shape)\n",
    "print(X_adapt.shape)\n",
    "print(Y_adapt.shape)"
   ]
  },
  {
   "cell_type": "code",
   "execution_count": 94,
   "id": "87fc13f1-22d5-4bbe-9334-79e02cec33bc",
   "metadata": {
    "collapsed": true,
    "jupyter": {
     "outputs_hidden": true
    }
   },
   "outputs": [],
   "source": [
    "# save the dataframes\n",
    "\n",
    "with open(os.path.join(processing_dir,'X_adaptation.pkl'), 'wb') as file:\n",
    "    pickle.dump(pd.DataFrame(X_adapt), file)\n",
    "with open(os.path.join(processing_dir,'Y_adaptation.pkl'), 'wb') as file:\n",
    "    pickle.dump(pd.DataFrame(Y_adapt), file) \n",
    "with open(os.path.join(processing_dir,'adbefile.pkl'), 'wb') as file:\n",
    "    pickle.dump(pd.DataFrame(batch_effects_adapt), file) \n",
    "\n",
    "# save the dataframes\n",
    "with open(os.path.join(processing_dir,'X_test_txfr.pkl'), 'wb') as file:\n",
    "    pickle.dump(pd.DataFrame(X_test_txfr), file)\n",
    "with open(os.path.join(processing_dir, 'Y_test_txfr.pkl'), 'wb') as file:\n",
    "    pickle.dump(pd.DataFrame(Y_test_txfr), file) \n",
    "with open(os.path.join(processing_dir, 'txbefile.pkl'), 'wb') as file:\n",
    "    pickle.dump(pd.DataFrame(batch_effects_test_txfr), file) \n"
   ]
  },
  {
   "cell_type": "code",
   "execution_count": 95,
   "id": "1c5beba3-80fd-4b75-b9f3-b270da84c04c",
   "metadata": {
    "collapsed": true,
    "jupyter": {
     "outputs_hidden": true
    }
   },
   "outputs": [
    {
     "data": {
      "text/plain": [
       "array([[20,  1],\n",
       "       [20,  0],\n",
       "       [20,  1],\n",
       "       [20,  1],\n",
       "       [20,  0],\n",
       "       [20,  0],\n",
       "       [20,  1],\n",
       "       [20,  1],\n",
       "       [20,  0],\n",
       "       [20,  0],\n",
       "       [20,  1],\n",
       "       [20,  0],\n",
       "       [20,  1],\n",
       "       [20,  0],\n",
       "       [20,  1],\n",
       "       [20,  1],\n",
       "       [20,  0],\n",
       "       [20,  0],\n",
       "       [21,  1],\n",
       "       [21,  1],\n",
       "       [21,  0],\n",
       "       [21,  1],\n",
       "       [21,  0],\n",
       "       [21,  1],\n",
       "       [21,  0],\n",
       "       [21,  1],\n",
       "       [21,  1],\n",
       "       [21,  0],\n",
       "       [21,  1],\n",
       "       [21,  1],\n",
       "       [21,  0],\n",
       "       [21,  1],\n",
       "       [21,  1],\n",
       "       [21,  1],\n",
       "       [21,  1],\n",
       "       [21,  1],\n",
       "       [21,  0],\n",
       "       [21,  0]])"
      ]
     },
     "execution_count": 95,
     "metadata": {},
     "output_type": "execute_result"
    }
   ],
   "source": [
    "# Let's have a look at the batch effect IDs.\n",
    "batch_effects_adapt"
   ]
  },
  {
   "cell_type": "code",
   "execution_count": null,
   "id": "4a17a10a-3ee0-4486-a596-950f6ddb2dfa",
   "metadata": {},
   "outputs": [],
   "source": [
    "## Run the transfer"
   ]
  },
  {
   "cell_type": "code",
   "execution_count": 96,
   "id": "36ffcc01-5eef-4339-ab75-4bb3427e4c2d",
   "metadata": {
    "collapsed": true,
    "jupyter": {
     "outputs_hidden": true
    }
   },
   "outputs": [
    {
     "name": "stdout",
     "output_type": "stream",
     "text": [
      "Loading data ...\n",
      "Using HBR transform...\n",
      "Transferring model  1 of 1\n"
     ]
    },
    {
     "name": "stderr",
     "output_type": "stream",
     "text": [
      "Auto-assigning NUTS sampler...\n",
      "Initializing NUTS using jitter+adapt_diag...\n",
      "Sequential sampling (1 chains in 1 job)\n",
      "NUTS: [slope_mu, mu_intercept_mu, sigma_intercept_mu, offset_intercept_mu, slope_sigma, intercept_sigma]\n"
     ]
    },
    {
     "data": {
      "text/html": [
       "\n",
       "    <div>\n",
       "        <style>\n",
       "            /* Turns off some styling */\n",
       "            progress {\n",
       "                /* gets rid of default border in Firefox and Opera. */\n",
       "                border: none;\n",
       "                /* Needs to be in here for Safari polyfill so background images work as expected. */\n",
       "                background-size: auto;\n",
       "            }\n",
       "            .progress-bar-interrupted, .progress-bar-interrupted::-webkit-progress-bar {\n",
       "                background: #F44336;\n",
       "            }\n",
       "        </style>\n",
       "      <progress value='1500' class='' max='1500' style='width:300px; height:20px; vertical-align: middle;'></progress>\n",
       "      100.00% [1500/1500 00:06<00:00 Sampling chain 0, 0 divergences]\n",
       "    </div>\n",
       "    "
      ],
      "text/plain": [
       "<IPython.core.display.HTML object>"
      ]
     },
     "metadata": {},
     "output_type": "display_data"
    },
    {
     "name": "stderr",
     "output_type": "stream",
     "text": [
      "Sampling 1 chain for 500 tune and 1_000 draw iterations (500 + 1_000 draws total) took 6 seconds.\n",
      "Only one chain was sampled, this makes it impossible to run some convergence checks\n",
      "Sampling: [y_like]\n"
     ]
    },
    {
     "data": {
      "text/html": [
       "\n",
       "    <div>\n",
       "        <style>\n",
       "            /* Turns off some styling */\n",
       "            progress {\n",
       "                /* gets rid of default border in Firefox and Opera. */\n",
       "                border: none;\n",
       "                /* Needs to be in here for Safari polyfill so background images work as expected. */\n",
       "                background-size: auto;\n",
       "            }\n",
       "            .progress-bar-interrupted, .progress-bar-interrupted::-webkit-progress-bar {\n",
       "                background: #F44336;\n",
       "            }\n",
       "        </style>\n",
       "      <progress value='1000' class='' max='1000' style='width:300px; height:20px; vertical-align: middle;'></progress>\n",
       "      100.00% [1000/1000 00:00<00:00]\n",
       "    </div>\n",
       "    "
      ],
      "text/plain": [
       "<IPython.core.display.HTML object>"
      ]
     },
     "metadata": {},
     "output_type": "display_data"
    },
    {
     "name": "stdout",
     "output_type": "stream",
     "text": [
      "Evaluating the model ...\n",
      "Writing outputs ...\n",
      "Loading data ...\n",
      "Using HBR transform...\n",
      "Transferring model  1 of 1\n"
     ]
    },
    {
     "name": "stderr",
     "output_type": "stream",
     "text": [
      "Auto-assigning NUTS sampler...\n",
      "Initializing NUTS using jitter+adapt_diag...\n",
      "Sequential sampling (1 chains in 1 job)\n",
      "NUTS: [slope_mu, mu_intercept_mu, sigma_intercept_mu, offset_intercept_mu, slope_sigma, intercept_sigma]\n"
     ]
    },
    {
     "data": {
      "text/html": [
       "\n",
       "    <div>\n",
       "        <style>\n",
       "            /* Turns off some styling */\n",
       "            progress {\n",
       "                /* gets rid of default border in Firefox and Opera. */\n",
       "                border: none;\n",
       "                /* Needs to be in here for Safari polyfill so background images work as expected. */\n",
       "                background-size: auto;\n",
       "            }\n",
       "            .progress-bar-interrupted, .progress-bar-interrupted::-webkit-progress-bar {\n",
       "                background: #F44336;\n",
       "            }\n",
       "        </style>\n",
       "      <progress value='1500' class='' max='1500' style='width:300px; height:20px; vertical-align: middle;'></progress>\n",
       "      100.00% [1500/1500 00:07<00:00 Sampling chain 0, 0 divergences]\n",
       "    </div>\n",
       "    "
      ],
      "text/plain": [
       "<IPython.core.display.HTML object>"
      ]
     },
     "metadata": {},
     "output_type": "display_data"
    },
    {
     "name": "stderr",
     "output_type": "stream",
     "text": [
      "Sampling 1 chain for 500 tune and 1_000 draw iterations (500 + 1_000 draws total) took 7 seconds.\n",
      "Only one chain was sampled, this makes it impossible to run some convergence checks\n",
      "Sampling: [y_like]\n"
     ]
    },
    {
     "data": {
      "text/html": [
       "\n",
       "    <div>\n",
       "        <style>\n",
       "            /* Turns off some styling */\n",
       "            progress {\n",
       "                /* gets rid of default border in Firefox and Opera. */\n",
       "                border: none;\n",
       "                /* Needs to be in here for Safari polyfill so background images work as expected. */\n",
       "                background-size: auto;\n",
       "            }\n",
       "            .progress-bar-interrupted, .progress-bar-interrupted::-webkit-progress-bar {\n",
       "                background: #F44336;\n",
       "            }\n",
       "        </style>\n",
       "      <progress value='1000' class='' max='1000' style='width:300px; height:20px; vertical-align: middle;'></progress>\n",
       "      100.00% [1000/1000 00:00<00:00]\n",
       "    </div>\n",
       "    "
      ],
      "text/plain": [
       "<IPython.core.display.HTML object>"
      ]
     },
     "metadata": {},
     "output_type": "display_data"
    },
    {
     "name": "stdout",
     "output_type": "stream",
     "text": [
      "Evaluating the model ...\n",
      "Writing outputs ...\n"
     ]
    }
   ],
   "source": [
    "# We have to do the transfer in a loop as we are going to loop over IDPs\n",
    "\n",
    "for idx, measure in enumerate(idps):\n",
    "\n",
    "    # save an individual Y_adaptation set file\n",
    "    Y_adaptation_onefeature = Y_adapt[:,idx]\n",
    "    with open(os.path.join(txfer_output_path,f'{idx+1}'+'_Y_adaptation_onefeature.pkl'), 'wb') as file:\n",
    "        pickle.dump(pd.DataFrame(Y_adaptation_onefeature), file)\n",
    " \n",
    "    Y_test_txfr_onefeature = Y_test_txfr[:,idx]\n",
    "    with open(os.path.join(txfer_output_path,f'{idx+1}'+'_Y_test_txfr_onefeature.pkl'), 'wb') as file:\n",
    "        pickle.dump(pd.DataFrame(Y_test_txfr_onefeature), file)\n",
    " \n",
    "           \n",
    "    respfile_path = os.path.join(txfer_output_path,f'{idx+1}'+'_Y_adaptation_onefeature.pkl')\n",
    "    covfile_path = os.path.join(processing_dir, 'X_adaptation.pkl')\n",
    "    adbefile = os.path.join(processing_dir, 'adbefile.pkl')\n",
    "    \n",
    "    testrespfile_path = os.path.join(txfer_output_path, f'{idx+1}'+'_Y_test_txfr_onefeature.pkl')\n",
    "    testcovfile_path = os.path.join(processing_dir,'X_test_txfr.pkl')\n",
    "    txbefile = os.path.join(processing_dir, 'txbefile.pkl')\n",
    "   \n",
    "    output_path = os.path.join(processing_dir, 'Models/') \n",
    "    log_dir = os.path.join(processing_dir, 'log/')\n",
    "    \n",
    "\n",
    "    transfer_suffix = '_transfer_'+f'{idx+1}'\n",
    "    ptk.normative.transfer(covfile=covfile_path, \n",
    "                           respfile=respfile_path,\n",
    "                           trbefile=adbefile,\n",
    "                           model_type='bspline',\n",
    "                           linear_sigma = 'True',\n",
    "                           random_intercept_sigma = 'True',\n",
    "                           random_slope_sigma = 'True',\n",
    "                           linear_mu='True',\n",
    "                           random_intercept_mu='True',\n",
    "                           random_slope_mu='True',\n",
    "                           alg='hbr', \n",
    "                           model_path = output_path,\n",
    "                           log_path=log_dir, \n",
    "                           binary=True,\n",
    "                           output_path=txfer_output_path, \n",
    "                           testcov=testcovfile_path,\n",
    "                           tsbefile=txbefile,\n",
    "                           #trbefile=trbefile,\n",
    "                           testresp = testrespfile_path,\n",
    "                           inputsuffix = \"_estimate\",\n",
    "                           outputsuffix=transfer_suffix, \n",
    "                           savemodel=True)"
   ]
  },
  {
   "cell_type": "code",
   "execution_count": 97,
   "id": "746bcaed-6b92-42c1-aafe-349d24a051d7",
   "metadata": {
    "collapsed": true,
    "jupyter": {
     "outputs_hidden": true
    }
   },
   "outputs": [
    {
     "data": {
      "text/html": [
       "<div>\n",
       "<style scoped>\n",
       "    .dataframe tbody tr th:only-of-type {\n",
       "        vertical-align: middle;\n",
       "    }\n",
       "\n",
       "    .dataframe tbody tr th {\n",
       "        vertical-align: top;\n",
       "    }\n",
       "\n",
       "    .dataframe thead th {\n",
       "        text-align: right;\n",
       "    }\n",
       "</style>\n",
       "<table border=\"1\" class=\"dataframe\">\n",
       "  <thead>\n",
       "    <tr style=\"text-align: right;\">\n",
       "      <th></th>\n",
       "      <th>0</th>\n",
       "    </tr>\n",
       "  </thead>\n",
       "  <tbody>\n",
       "    <tr>\n",
       "      <th>0</th>\n",
       "      <td>0.023756</td>\n",
       "    </tr>\n",
       "    <tr>\n",
       "      <th>1</th>\n",
       "      <td>0.024861</td>\n",
       "    </tr>\n",
       "    <tr>\n",
       "      <th>2</th>\n",
       "      <td>0.023116</td>\n",
       "    </tr>\n",
       "    <tr>\n",
       "      <th>3</th>\n",
       "      <td>0.022346</td>\n",
       "    </tr>\n",
       "    <tr>\n",
       "      <th>4</th>\n",
       "      <td>0.023854</td>\n",
       "    </tr>\n",
       "    <tr>\n",
       "      <th>...</th>\n",
       "      <td>...</td>\n",
       "    </tr>\n",
       "    <tr>\n",
       "      <th>134</th>\n",
       "      <td>0.032846</td>\n",
       "    </tr>\n",
       "    <tr>\n",
       "      <th>135</th>\n",
       "      <td>0.032924</td>\n",
       "    </tr>\n",
       "    <tr>\n",
       "      <th>136</th>\n",
       "      <td>0.032594</td>\n",
       "    </tr>\n",
       "    <tr>\n",
       "      <th>137</th>\n",
       "      <td>0.028081</td>\n",
       "    </tr>\n",
       "    <tr>\n",
       "      <th>138</th>\n",
       "      <td>0.022592</td>\n",
       "    </tr>\n",
       "  </tbody>\n",
       "</table>\n",
       "<p>139 rows × 1 columns</p>\n",
       "</div>"
      ],
      "text/plain": [
       "            0\n",
       "0    0.023756\n",
       "1    0.024861\n",
       "2    0.023116\n",
       "3    0.022346\n",
       "4    0.023854\n",
       "..        ...\n",
       "134  0.032846\n",
       "135  0.032924\n",
       "136  0.032594\n",
       "137  0.028081\n",
       "138  0.022592\n",
       "\n",
       "[139 rows x 1 columns]"
      ]
     },
     "execution_count": 97,
     "metadata": {},
     "output_type": "execute_result"
    }
   ],
   "source": [
    "# Load the transfer mean and variance.\n",
    "\n",
    "yhat_transfer = ldpkl(os.path.join(processing_dir, \"yhat_transfer1.pkl\"))\n",
    "ys2_transfer = ldpkl(os.path.join(processing_dir, \"ys2_transfer1.pkl\"))"
   ]
  },
  {
   "cell_type": "code",
   "execution_count": null,
   "id": "209e5dd3-d5ee-4b8f-8648-30aa92c42306",
   "metadata": {},
   "outputs": [],
   "source": [
    "Again, we create dummy data to use the get_mcmc_quantiles function."
   ]
  },
  {
   "cell_type": "code",
   "execution_count": 99,
   "id": "d421144e-c766-47cb-b7e1-1b809394b63b",
   "metadata": {
    "collapsed": true,
    "jupyter": {
     "outputs_hidden": true
    }
   },
   "outputs": [],
   "source": [
    "# create dummy zscores\n",
    "zscores = np.arange(-3,4)[:,np.newaxis]\n",
    "\n",
    "# We need to provide a matrix of shape [N,d]. In this case d=1, so we need to expand this matrix with a single 'empty' dimension.\n",
    "# We can do this by using the np.newaxis in this way.\n",
    "# Create sythetic X achsis\n",
    "n_synthetic_samples = 200\n",
    "synthetic_X = np.linspace(0.15, 0.85, n_synthetic_samples)[:,np.newaxis]\n",
    "# choose type of site effect by cerating intercept offset (or not).  We choose gender 0 and site 21.\n",
    "be = np.zeros((n_synthetic_samples,2))\n",
    "twenties = np.ones((n_synthetic_samples,1))*21\n",
    "be[:,0] = twenties[:,0]\n",
    "be=be.astype(int)"
   ]
  },
  {
   "cell_type": "code",
   "execution_count": 100,
   "id": "fb808c06-99e0-475f-9e63-09a4330a7e13",
   "metadata": {
    "collapsed": true,
    "jupyter": {
     "outputs_hidden": true
    }
   },
   "outputs": [],
   "source": [
    "nm_transfer1 = ldpkl(os.path.join(txfer_output_path, 'NM_0_0_transfer1.pkl'))"
   ]
  },
  {
   "cell_type": "code",
   "execution_count": 101,
   "id": "d986a111-1b52-44d1-85c4-a54478487bf1",
   "metadata": {
    "collapsed": true,
    "jupyter": {
     "outputs_hidden": true
    }
   },
   "outputs": [
    {
     "name": "stderr",
     "output_type": "stream",
     "text": [
      "Sampling: [y_like]\n"
     ]
    },
    {
     "data": {
      "text/html": [
       "\n",
       "    <div>\n",
       "        <style>\n",
       "            /* Turns off some styling */\n",
       "            progress {\n",
       "                /* gets rid of default border in Firefox and Opera. */\n",
       "                border: none;\n",
       "                /* Needs to be in here for Safari polyfill so background images work as expected. */\n",
       "                background-size: auto;\n",
       "            }\n",
       "            .progress-bar-interrupted, .progress-bar-interrupted::-webkit-progress-bar {\n",
       "                background: #F44336;\n",
       "            }\n",
       "        </style>\n",
       "      <progress value='1000' class='' max='1000' style='width:300px; height:20px; vertical-align: middle;'></progress>\n",
       "      100.00% [1000/1000 00:00<00:00]\n",
       "    </div>\n",
       "    "
      ],
      "text/plain": [
       "<IPython.core.display.HTML object>"
      ]
     },
     "metadata": {},
     "output_type": "display_data"
    }
   ],
   "source": [
    "# We generate an object to hold the quantiles\n",
    "q = nm_transfer1.get_mcmc_quantiles(synthetic_X, be,  zscores)"
   ]
  },
  {
   "cell_type": "code",
   "execution_count": 123,
   "id": "ab681fa9-913e-4a6e-8a46-46b4d55ff300",
   "metadata": {
    "collapsed": true,
    "jupyter": {
     "outputs_hidden": true
    }
   },
   "outputs": [
    {
     "data": {
      "text/plain": [
       "Text(0.5, 1.0, 'site 8')"
      ]
     },
     "execution_count": 123,
     "metadata": {},
     "output_type": "execute_result"
    },
    {
     "data": {
      "image/png": "[encoded data removed]",
      "text/plain": [
       "<Figure size 640x480 with 1 Axes>"
      ]
     },
     "metadata": {},
     "output_type": "display_data"
    }
   ],
   "source": [
    "# Plot the data onto the centiles obtained from the transfer model\n",
    "plt.scatter(X_test_txfr[batch_effects_test_txfr[:,0]==21], Y_test_txfr[(batch_effects_test_txfr[:,0]==21),0])\n",
    "# Note: we are again plotting both genders. In a real analysis example, one might want to create two plots, one for each gender.\n",
    "for i, v in enumerate(zscores):\n",
    "    thickness = 1\n",
    "    linestyle = \"-\"\n",
    "    if v == 0:\n",
    "        thickness = 2\n",
    "    if abs(v) > 2:\n",
    "        linestyle = \"--\"\n",
    "    plt.plot(synthetic_X, q[i], linewidth = thickness, linestyle = linestyle, color = 'black', alpha = 0.7)\n",
    "\n",
    "plt.title('site ' + str(be[0,0]))"
   ]
  },
  {
   "cell_type": "code",
   "execution_count": null,
   "id": "8fc9f9b0-f105-46ad-8059-383154fbd6e5",
   "metadata": {
    "collapsed": true,
    "jupyter": {
     "outputs_hidden": true
    }
   },
   "outputs": [],
   "source": []
  }
 ],
 "metadata": {
  "kernelspec": {
   "display_name": "Python 3 (ipykernel)",
   "language": "python",
   "name": "python3"
  },
  "language_info": {
   "codemirror_mode": {
    "name": "ipython",
    "version": 3
   },
   "file_extension": ".py",
   "mimetype": "text/x-python",
   "name": "python",
   "nbconvert_exporter": "python",
   "pygments_lexer": "ipython3",
   "version": "3.11.5"
  }
 },
 "nbformat": 4,
 "nbformat_minor": 5
}
