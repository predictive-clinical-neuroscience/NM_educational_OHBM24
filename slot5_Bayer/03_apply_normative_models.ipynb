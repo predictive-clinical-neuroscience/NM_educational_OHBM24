{
 "cells": [
  {
   "cell_type": "markdown",
   "id": "2d8fb4c8-4360-4fdc-b0a2-e1c2e22bd8f9",
   "metadata": {
    "id": "2d8fb4c8-4360-4fdc-b0a2-e1c2e22bd8f9"
   },
   "source": [
    "## Using lifespan models to make predictions on new data\n",
    "\n",
    "This notebook shows how to apply the coefficients from [pre-estimated normative models](https://www.biorxiv.org/content/10.1101/2021.08.08.455487v2) to new data. This can be done in two different ways: (i) using a new set of data derived from the same sites used to estimate the model and (ii) on a completely different set of sites. In the latter case, we also need to estimate the site effect, which requires some calibration/adaptation data. As an illustrative example, we use a dataset derived from the [1000 functional connectomes project](https://www.nitrc.org/forum/forum.php?thread_id=2907&forum_id=1383) and adapt the learned model to make predictions on these data.\n",
    "\n",
    "First, if necessary, we install PCNtoolkit (note: this tutorial requires at least version 0.20)"
   ]
  },
  {
   "cell_type": "code",
   "execution_count": 1,
   "id": "8d05182a-5346-49d2-bfbf-fd3769ecc061",
   "metadata": {
    "id": "8d05182a-5346-49d2-bfbf-fd3769ecc061"
   },
   "outputs": [],
   "source": [
    "# Install the toolkit - you should have done that by now\n",
    "#! pip install pcntoolkit"
   ]
  },
  {
   "cell_type": "code",
   "execution_count": 1,
   "id": "5V6JFzpdJ43R",
   "metadata": {
    "colab": {
     "base_uri": "https://localhost:8080/"
    },
    "id": "5V6JFzpdJ43R",
    "outputId": "48a1a928-4ba0-47d6-b0b9-c0aaeeb46e51"
   },
   "outputs": [
    {
     "name": "stdout",
     "output_type": "stream",
     "text": [
      "Cloning into 'braincharts'...\n",
      "remote: Enumerating objects: 4542, done.\u001b[K\n",
      "remote: Counting objects: 100% (289/289), done.\u001b[K\n",
      "remote: Compressing objects: 100% (195/195), done.\u001b[K\n",
      "remote: Total 4542 (delta 178), reused 190 (delta 93), pack-reused 4253\u001b[K\n",
      "Receiving objects: 100% (4542/4542), 78.64 MiB | 5.63 MiB/s, done.\n",
      "Resolving deltas: 100% (678/678), done.\n"
     ]
    }
   ],
   "source": [
    "! git clone https://github.com/predictive-clinical-neuroscience/braincharts.git"
   ]
  },
  {
   "cell_type": "code",
   "execution_count": 1,
   "id": "bec0bc09-bb8d-46f9-b8a5-f8767ed216fa",
   "metadata": {},
   "outputs": [],
   "source": [
    "import os\n",
    "base_dir = os.getcwd()"
   ]
  },
  {
   "cell_type": "code",
   "execution_count": 2,
   "id": "_5ZET1btKF6J",
   "metadata": {
    "id": "_5ZET1btKF6J"
   },
   "outputs": [],
   "source": [
    "# we need to be in the scripts folder when we import the libraries in the code block below,\n",
    "# because there is a function called nm_utils that is in the scripts folder that we need to import\n",
    "os.chdir(os.path.join(base_dir, 'braincharts/scripts/'))"
   ]
  },
  {
   "cell_type": "markdown",
   "id": "b2227bc7-e798-470a-99bc-33561ce4511b",
   "metadata": {
    "id": "b2227bc7-e798-470a-99bc-33561ce4511b"
   },
   "source": [
    "Now we import the required libraries"
   ]
  },
  {
   "cell_type": "code",
   "execution_count": 3,
   "id": "ff661cf2-7d80-46bb-bcfb-1650a93eed3d",
   "metadata": {
    "id": "ff661cf2-7d80-46bb-bcfb-1650a93eed3d"
   },
   "outputs": [],
   "source": [
    "import numpy as np\n",
    "import pandas as pd\n",
    "import pickle\n",
    "from matplotlib import pyplot as plt\n",
    "import seaborn as sns\n",
    "\n",
    "from pcntoolkit.normative import estimate, predict, evaluate\n",
    "from pcntoolkit.util.utils import compute_MSLL, create_design_matrix\n",
    "from nm_utils import remove_bad_subjects, load_2d"
   ]
  },
  {
   "cell_type": "markdown",
   "id": "TFxsGN-KgfE0",
   "metadata": {
    "id": "TFxsGN-KgfE0"
   },
   "source": [
    "We need to unzip the models."
   ]
  },
  {
   "cell_type": "code",
   "execution_count": 5,
   "id": "0OvpUTaIgekS",
   "metadata": {
    "id": "0OvpUTaIgekS"
   },
   "outputs": [],
   "source": [
    "os.chdir(os.path.join(base_dir, 'braincharts/models/'))"
   ]
  },
  {
   "cell_type": "code",
   "execution_count": 4,
   "id": "WBP9CEVcgsjT",
   "metadata": {
    "colab": {
     "base_uri": "https://localhost:8080/"
    },
    "id": "WBP9CEVcgsjT",
    "outputId": "f755dafe-aeeb-47de-cac2-fa2a14e76e25"
   },
   "outputs": [
    {
     "name": "stdout",
     "output_type": "stream",
     "text": [
      "README.md                            lifespan_sa_DK_46K_59sites.zip\n",
      "lifespan_12K_57sites_mqc2_train.zip  lifespan_smith10_17K_40sites.tar.gz\n",
      "lifespan_12K_59sites_mqc_train.zip   lifespan_smith10_22K_40sites.tar.gz\n",
      "lifespan_23K_57sites_mqc2.zip        lifespan_yeo17_17K_40sites.tar.gz\n",
      "lifespan_29K_82sites_train.zip       lifespan_yeo17_22K_40sites.tar.gz\n",
      "lifespan_57K_82sites.zip             surfacearea_20K_66sites_train.zip\n",
      "lifespan_DK_46K_59sites.zip          surfacearea_40K_66sites.tar.gz\n",
      "lifespan_DK_46K_59sites_train.zip    surfacearea_DK_46K_59sites.zip\n"
     ]
    }
   ],
   "source": [
    "ls"
   ]
  },
  {
   "cell_type": "code",
   "execution_count": 5,
   "id": "is47bTl_guD4",
   "metadata": {
    "id": "is47bTl_guD4"
   },
   "outputs": [
    {
     "name": "stdout",
     "output_type": "stream",
     "text": [
      "Archive:  lifespan_57K_82sites.zip\n",
      "   creating: lifespan_57K_82sites/\n",
      "   creating: lifespan_57K_82sites/Right-Pallidum/\n",
      "   creating: lifespan_57K_82sites/Right-Pallidum/Models/\n",
      "  inflating: lifespan_57K_82sites/Right-Pallidum/Models/meta_data.md  \n",
      "  inflating: lifespan_57K_82sites/Right-Pallidum/Models/NM_0_0_estimate.pkl  \n",
      "   creating: lifespan_57K_82sites/lh_S_oc-temp_lat_thickness/\n",
      "   creating: lifespan_57K_82sites/lh_S_oc-temp_lat_thickness/Models/\n",
      "  inflating: lifespan_57K_82sites/lh_S_oc-temp_lat_thickness/Models/meta_data.md  \n",
      "  inflating: lifespan_57K_82sites/lh_S_oc-temp_lat_thickness/Models/NM_0_0_estimate.pkl  \n",
      "   creating: lifespan_57K_82sites/Right-Cerebellum-White-Matter/\n",
      "   creating: lifespan_57K_82sites/Right-Cerebellum-White-Matter/Models/\n",
      "  inflating: lifespan_57K_82sites/Right-Cerebellum-White-Matter/Models/meta_data.md  \n",
      "  inflating: lifespan_57K_82sites/Right-Cerebellum-White-Matter/Models/NM_0_0_estimate.pkl  \n",
      "   creating: lifespan_57K_82sites/lh_G&S_cingul-Mid-Ant_thickness/\n",
      "   creating: lifespan_57K_82sites/lh_G&S_cingul-Mid-Ant_thickness/Models/\n",
      "  inflating: lifespan_57K_82sites/lh_G&S_cingul-Mid-Ant_thickness/Models/meta_data.md  \n",
      "  inflating: lifespan_57K_82sites/lh_G&S_cingul-Mid-Ant_thickness/Models/NM_0_0_estimate.pkl  \n",
      "   creating: lifespan_57K_82sites/Right-Inf-Lat-Vent/\n",
      "   creating: lifespan_57K_82sites/Right-Inf-Lat-Vent/Models/\n",
      "  inflating: lifespan_57K_82sites/Right-Inf-Lat-Vent/Models/meta_data.md  \n",
      "  inflating: lifespan_57K_82sites/Right-Inf-Lat-Vent/Models/NM_0_0_estimate.pkl  \n",
      "   creating: lifespan_57K_82sites/rh_S_occipital_ant_thickness/\n",
      "   creating: lifespan_57K_82sites/rh_S_occipital_ant_thickness/Models/\n",
      "  inflating: lifespan_57K_82sites/rh_S_occipital_ant_thickness/Models/meta_data.md  \n",
      "  inflating: lifespan_57K_82sites/rh_S_occipital_ant_thickness/Models/NM_0_0_estimate.pkl  \n",
      "   creating: lifespan_57K_82sites/lh_G_precuneus_thickness/\n",
      "   creating: lifespan_57K_82sites/lh_G_precuneus_thickness/Models/\n",
      "  inflating: lifespan_57K_82sites/lh_G_precuneus_thickness/Models/meta_data.md  \n",
      "  inflating: lifespan_57K_82sites/lh_G_precuneus_thickness/Models/NM_0_0_estimate.pkl  \n",
      "   creating: lifespan_57K_82sites/rh_S_calcarine_thickness/\n",
      "   creating: lifespan_57K_82sites/rh_S_calcarine_thickness/Models/\n",
      "  inflating: lifespan_57K_82sites/rh_S_calcarine_thickness/Models/meta_data.md  \n",
      "  inflating: lifespan_57K_82sites/rh_S_calcarine_thickness/Models/NM_0_0_estimate.pkl  \n",
      "   creating: lifespan_57K_82sites/lh_S_front_middle_thickness/\n",
      "   creating: lifespan_57K_82sites/lh_S_front_middle_thickness/Models/\n",
      "  inflating: lifespan_57K_82sites/lh_S_front_middle_thickness/Models/meta_data.md  \n",
      "  inflating: lifespan_57K_82sites/lh_S_front_middle_thickness/Models/NM_0_0_estimate.pkl  \n",
      "   creating: lifespan_57K_82sites/rh_G_oc-temp_lat-fusifor_thickness/\n",
      "   creating: lifespan_57K_82sites/rh_G_oc-temp_lat-fusifor_thickness/Models/\n",
      "  inflating: lifespan_57K_82sites/rh_G_oc-temp_lat-fusifor_thickness/Models/meta_data.md  \n",
      "  inflating: lifespan_57K_82sites/rh_G_oc-temp_lat-fusifor_thickness/Models/NM_0_0_estimate.pkl  \n",
      "   creating: lifespan_57K_82sites/Right-Lateral-Ventricle/\n",
      "   creating: lifespan_57K_82sites/Right-Lateral-Ventricle/Models/\n",
      "  inflating: lifespan_57K_82sites/Right-Lateral-Ventricle/Models/meta_data.md  \n",
      "  inflating: lifespan_57K_82sites/Right-Lateral-Ventricle/Models/NM_0_0_estimate.pkl  \n",
      "   creating: lifespan_57K_82sites/rh_G_Ins_lg&S_cent_ins_thickness/\n",
      "   creating: lifespan_57K_82sites/rh_G_Ins_lg&S_cent_ins_thickness/Models/\n",
      "  inflating: lifespan_57K_82sites/rh_G_Ins_lg&S_cent_ins_thickness/Models/meta_data.md  \n",
      "  inflating: lifespan_57K_82sites/rh_G_Ins_lg&S_cent_ins_thickness/Models/NM_0_0_estimate.pkl  \n",
      "   creating: lifespan_57K_82sites/Left-Hippocampus/\n",
      "   creating: lifespan_57K_82sites/Left-Hippocampus/Models/\n",
      "  inflating: lifespan_57K_82sites/Left-Hippocampus/Models/meta_data.md  \n",
      "  inflating: lifespan_57K_82sites/Left-Hippocampus/Models/NM_0_0_estimate.pkl  \n",
      "   creating: lifespan_57K_82sites/lh_G_front_inf-Opercular_thickness/\n",
      "   creating: lifespan_57K_82sites/lh_G_front_inf-Opercular_thickness/Models/\n",
      "  inflating: lifespan_57K_82sites/lh_G_front_inf-Opercular_thickness/Models/meta_data.md  \n",
      "  inflating: lifespan_57K_82sites/lh_G_front_inf-Opercular_thickness/Models/NM_0_0_estimate.pkl  \n",
      "   creating: lifespan_57K_82sites/rh_G_front_inf-Orbital_thickness/\n",
      "   creating: lifespan_57K_82sites/rh_G_front_inf-Orbital_thickness/Models/\n",
      "  inflating: lifespan_57K_82sites/rh_G_front_inf-Orbital_thickness/Models/meta_data.md  \n",
      "  inflating: lifespan_57K_82sites/rh_G_front_inf-Orbital_thickness/Models/NM_0_0_estimate.pkl  \n",
      "   creating: lifespan_57K_82sites/Left-Pallidum/\n",
      "   creating: lifespan_57K_82sites/Left-Pallidum/Models/\n",
      "  inflating: lifespan_57K_82sites/Left-Pallidum/Models/meta_data.md  \n",
      "  inflating: lifespan_57K_82sites/Left-Pallidum/Models/NM_0_0_estimate.pkl  \n",
      "   creating: lifespan_57K_82sites/SupraTentorialVol/\n",
      "   creating: lifespan_57K_82sites/SupraTentorialVol/Models/\n",
      "  inflating: lifespan_57K_82sites/SupraTentorialVol/Models/meta_data.md  \n",
      "  inflating: lifespan_57K_82sites/SupraTentorialVol/Models/NM_0_0_estimate.pkl  \n",
      "   creating: lifespan_57K_82sites/lh_G_oc-temp_med-Parahip_thickness/\n",
      "   creating: lifespan_57K_82sites/lh_G_oc-temp_med-Parahip_thickness/Models/\n",
      "  inflating: lifespan_57K_82sites/lh_G_oc-temp_med-Parahip_thickness/Models/meta_data.md  \n",
      "  inflating: lifespan_57K_82sites/lh_G_oc-temp_med-Parahip_thickness/Models/NM_0_0_estimate.pkl  \n",
      "   creating: lifespan_57K_82sites/lh_G_rectus_thickness/\n",
      "   creating: lifespan_57K_82sites/lh_G_rectus_thickness/Models/\n",
      "  inflating: lifespan_57K_82sites/lh_G_rectus_thickness/Models/meta_data.md  \n",
      "  inflating: lifespan_57K_82sites/lh_G_rectus_thickness/Models/NM_0_0_estimate.pkl  \n",
      "   creating: lifespan_57K_82sites/rh_S_precentral-sup-part_thickness/\n",
      "   creating: lifespan_57K_82sites/rh_S_precentral-sup-part_thickness/Models/\n",
      "  inflating: lifespan_57K_82sites/rh_S_precentral-sup-part_thickness/Models/meta_data.md  \n",
      "  inflating: lifespan_57K_82sites/rh_S_precentral-sup-part_thickness/Models/NM_0_0_estimate.pkl  \n",
      "   creating: lifespan_57K_82sites/rh_G_parietal_sup_thickness/\n",
      "   creating: lifespan_57K_82sites/rh_G_parietal_sup_thickness/Models/\n",
      "  inflating: lifespan_57K_82sites/rh_G_parietal_sup_thickness/Models/meta_data.md  \n",
      "  inflating: lifespan_57K_82sites/rh_G_parietal_sup_thickness/Models/NM_0_0_estimate.pkl  \n",
      "   creating: lifespan_57K_82sites/lh_S_circular_insula_ant_thickness/\n",
      "   creating: lifespan_57K_82sites/lh_S_circular_insula_ant_thickness/Models/\n",
      "  inflating: lifespan_57K_82sites/lh_S_circular_insula_ant_thickness/Models/meta_data.md  \n",
      "  inflating: lifespan_57K_82sites/lh_S_circular_insula_ant_thickness/Models/NM_0_0_estimate.pkl  \n",
      "   creating: lifespan_57K_82sites/lh_S_circular_insula_sup_thickness/\n",
      "   creating: lifespan_57K_82sites/lh_S_circular_insula_sup_thickness/Models/\n",
      "  inflating: lifespan_57K_82sites/lh_S_circular_insula_sup_thickness/Models/meta_data.md  \n",
      "  inflating: lifespan_57K_82sites/lh_S_circular_insula_sup_thickness/Models/NM_0_0_estimate.pkl  \n",
      "   creating: lifespan_57K_82sites/rh_S_intrapariet&P_trans_thickness/\n",
      "   creating: lifespan_57K_82sites/rh_S_intrapariet&P_trans_thickness/Models/\n",
      "  inflating: lifespan_57K_82sites/rh_S_intrapariet&P_trans_thickness/Models/meta_data.md  \n",
      "  inflating: lifespan_57K_82sites/rh_S_intrapariet&P_trans_thickness/Models/NM_0_0_estimate.pkl  \n",
      "   creating: lifespan_57K_82sites/rh_MeanThickness_thickness/\n",
      "   creating: lifespan_57K_82sites/rh_MeanThickness_thickness/Models/\n",
      "  inflating: lifespan_57K_82sites/rh_MeanThickness_thickness/Models/meta_data.md  \n",
      "  inflating: lifespan_57K_82sites/rh_MeanThickness_thickness/Models/NM_0_0_estimate.pkl  \n",
      "   creating: lifespan_57K_82sites/rh_S_cingul-Marginalis_thickness/\n",
      "   creating: lifespan_57K_82sites/rh_S_cingul-Marginalis_thickness/Models/\n",
      "  inflating: lifespan_57K_82sites/rh_S_cingul-Marginalis_thickness/Models/meta_data.md  \n",
      "  inflating: lifespan_57K_82sites/rh_S_cingul-Marginalis_thickness/Models/NM_0_0_estimate.pkl  \n",
      "   creating: lifespan_57K_82sites/lh_S_suborbital_thickness/\n",
      "   creating: lifespan_57K_82sites/lh_S_suborbital_thickness/Models/\n",
      "  inflating: lifespan_57K_82sites/lh_S_suborbital_thickness/Models/meta_data.md  \n",
      "  inflating: lifespan_57K_82sites/lh_S_suborbital_thickness/Models/NM_0_0_estimate.pkl  \n",
      "   creating: lifespan_57K_82sites/Right-Caudate/\n",
      "   creating: lifespan_57K_82sites/Right-Caudate/Models/\n",
      "  inflating: lifespan_57K_82sites/Right-Caudate/Models/meta_data.md  \n",
      "  inflating: lifespan_57K_82sites/Right-Caudate/Models/NM_0_0_estimate.pkl  \n",
      "   creating: lifespan_57K_82sites/rh_G&S_cingul-Mid-Post_thickness/\n",
      "   creating: lifespan_57K_82sites/rh_G&S_cingul-Mid-Post_thickness/Models/\n",
      "  inflating: lifespan_57K_82sites/rh_G&S_cingul-Mid-Post_thickness/Models/meta_data.md  \n",
      "  inflating: lifespan_57K_82sites/rh_G&S_cingul-Mid-Post_thickness/Models/NM_0_0_estimate.pkl  \n",
      "   creating: lifespan_57K_82sites/lh_G_pariet_inf-Supramar_thickness/\n",
      "   creating: lifespan_57K_82sites/lh_G_pariet_inf-Supramar_thickness/Models/\n",
      "  inflating: lifespan_57K_82sites/lh_G_pariet_inf-Supramar_thickness/Models/meta_data.md  \n",
      "  inflating: lifespan_57K_82sites/lh_G_pariet_inf-Supramar_thickness/Models/NM_0_0_estimate.pkl  \n",
      "   creating: lifespan_57K_82sites/EstimatedTotalIntraCranialVol/\n",
      "   creating: lifespan_57K_82sites/EstimatedTotalIntraCranialVol/Models/\n",
      "  inflating: lifespan_57K_82sites/EstimatedTotalIntraCranialVol/Models/meta_data.md  \n",
      "  inflating: lifespan_57K_82sites/EstimatedTotalIntraCranialVol/Models/NM_0_0_estimate.pkl  \n",
      "   creating: lifespan_57K_82sites/rh_S_suborbital_thickness/\n",
      "   creating: lifespan_57K_82sites/rh_S_suborbital_thickness/Models/\n",
      "  inflating: lifespan_57K_82sites/rh_S_suborbital_thickness/Models/meta_data.md  \n",
      "  inflating: lifespan_57K_82sites/rh_S_suborbital_thickness/Models/NM_0_0_estimate.pkl  \n",
      "   creating: lifespan_57K_82sites/lh_G_insular_short_thickness/\n",
      "   creating: lifespan_57K_82sites/lh_G_insular_short_thickness/Models/\n",
      "  inflating: lifespan_57K_82sites/lh_G_insular_short_thickness/Models/meta_data.md  \n",
      "  inflating: lifespan_57K_82sites/lh_G_insular_short_thickness/Models/NM_0_0_estimate.pkl  \n",
      "   creating: lifespan_57K_82sites/CSF/\n",
      "   creating: lifespan_57K_82sites/CSF/Models/\n",
      "  inflating: lifespan_57K_82sites/CSF/Models/meta_data.md  \n",
      "  inflating: lifespan_57K_82sites/CSF/Models/NM_0_0_estimate.pkl  \n",
      "   creating: lifespan_57K_82sites/lh_S_precentral-inf-part_thickness/\n",
      "   creating: lifespan_57K_82sites/lh_S_precentral-inf-part_thickness/Models/\n",
      "  inflating: lifespan_57K_82sites/lh_S_precentral-inf-part_thickness/Models/meta_data.md  \n",
      "  inflating: lifespan_57K_82sites/lh_S_precentral-inf-part_thickness/Models/NM_0_0_estimate.pkl  \n",
      "   creating: lifespan_57K_82sites/lh_Pole_occipital_thickness/\n",
      "   creating: lifespan_57K_82sites/lh_Pole_occipital_thickness/Models/\n",
      "  inflating: lifespan_57K_82sites/lh_Pole_occipital_thickness/Models/meta_data.md  \n",
      "  inflating: lifespan_57K_82sites/lh_Pole_occipital_thickness/Models/NM_0_0_estimate.pkl  \n",
      "   creating: lifespan_57K_82sites/Left-Caudate/\n",
      "   creating: lifespan_57K_82sites/Left-Caudate/Models/\n",
      "  inflating: lifespan_57K_82sites/Left-Caudate/Models/meta_data.md  \n",
      "  inflating: lifespan_57K_82sites/Left-Caudate/Models/NM_0_0_estimate.pkl  \n",
      "   creating: lifespan_57K_82sites/rh_S_temporal_inf_thickness/\n",
      "   creating: lifespan_57K_82sites/rh_S_temporal_inf_thickness/Models/\n",
      "  inflating: lifespan_57K_82sites/rh_S_temporal_inf_thickness/Models/meta_data.md  \n",
      "  inflating: lifespan_57K_82sites/rh_S_temporal_inf_thickness/Models/NM_0_0_estimate.pkl  \n",
      "   creating: lifespan_57K_82sites/lh_G_temp_sup-Plan_tempo_thickness/\n",
      "   creating: lifespan_57K_82sites/lh_G_temp_sup-Plan_tempo_thickness/Models/\n",
      "  inflating: lifespan_57K_82sites/lh_G_temp_sup-Plan_tempo_thickness/Models/meta_data.md  \n",
      "  inflating: lifespan_57K_82sites/lh_G_temp_sup-Plan_tempo_thickness/Models/NM_0_0_estimate.pkl  \n",
      "   creating: lifespan_57K_82sites/rh_S_front_inf_thickness/\n",
      "   creating: lifespan_57K_82sites/rh_S_front_inf_thickness/Models/\n",
      "  inflating: lifespan_57K_82sites/rh_S_front_inf_thickness/Models/meta_data.md  \n",
      "  inflating: lifespan_57K_82sites/rh_S_front_inf_thickness/Models/NM_0_0_estimate.pkl  \n",
      "   creating: lifespan_57K_82sites/Right-Cerebellum-Cortex/\n",
      "   creating: lifespan_57K_82sites/Right-Cerebellum-Cortex/Models/\n",
      "  inflating: lifespan_57K_82sites/Right-Cerebellum-Cortex/Models/meta_data.md  \n",
      "  inflating: lifespan_57K_82sites/Right-Cerebellum-Cortex/Models/NM_0_0_estimate.pkl  \n",
      "   creating: lifespan_57K_82sites/lh_S_front_sup_thickness/\n",
      "   creating: lifespan_57K_82sites/lh_S_front_sup_thickness/Models/\n",
      "  inflating: lifespan_57K_82sites/lh_S_front_sup_thickness/Models/meta_data.md  \n",
      "  inflating: lifespan_57K_82sites/lh_S_front_sup_thickness/Models/NM_0_0_estimate.pkl  \n",
      "   creating: lifespan_57K_82sites/lh_G_temp_sup-G_T_transv_thickness/\n",
      "   creating: lifespan_57K_82sites/lh_G_temp_sup-G_T_transv_thickness/Models/\n",
      "  inflating: lifespan_57K_82sites/lh_G_temp_sup-G_T_transv_thickness/Models/meta_data.md  \n",
      "  inflating: lifespan_57K_82sites/lh_G_temp_sup-G_T_transv_thickness/Models/NM_0_0_estimate.pkl  \n",
      "   creating: lifespan_57K_82sites/rh_G_orbital_thickness/\n",
      "   creating: lifespan_57K_82sites/rh_G_orbital_thickness/Models/\n",
      "  inflating: lifespan_57K_82sites/rh_G_orbital_thickness/Models/meta_data.md  \n",
      "  inflating: lifespan_57K_82sites/rh_G_orbital_thickness/Models/NM_0_0_estimate.pkl  \n",
      "   creating: lifespan_57K_82sites/Right-Hippocampus/\n",
      "   creating: lifespan_57K_82sites/Right-Hippocampus/Models/\n",
      "  inflating: lifespan_57K_82sites/Right-Hippocampus/Models/meta_data.md  \n",
      "  inflating: lifespan_57K_82sites/Right-Hippocampus/Models/NM_0_0_estimate.pkl  \n",
      "   creating: lifespan_57K_82sites/lh_G&S_frontomargin_thickness/\n",
      "   creating: lifespan_57K_82sites/lh_G&S_frontomargin_thickness/Models/\n",
      "  inflating: lifespan_57K_82sites/lh_G&S_frontomargin_thickness/Models/meta_data.md  \n",
      "  inflating: lifespan_57K_82sites/lh_G&S_frontomargin_thickness/Models/NM_0_0_estimate.pkl  \n",
      "   creating: lifespan_57K_82sites/rh_S_temporal_transverse_thickness/\n",
      "   creating: lifespan_57K_82sites/rh_S_temporal_transverse_thickness/Models/\n",
      "  inflating: lifespan_57K_82sites/rh_S_temporal_transverse_thickness/Models/meta_data.md  \n",
      "  inflating: lifespan_57K_82sites/rh_S_temporal_transverse_thickness/Models/NM_0_0_estimate.pkl  \n",
      "   creating: lifespan_57K_82sites/lh_G_parietal_sup_thickness/\n",
      "   creating: lifespan_57K_82sites/lh_G_parietal_sup_thickness/Models/\n",
      "  inflating: lifespan_57K_82sites/lh_G_parietal_sup_thickness/Models/meta_data.md  \n",
      "  inflating: lifespan_57K_82sites/lh_G_parietal_sup_thickness/Models/NM_0_0_estimate.pkl  \n",
      "   creating: lifespan_57K_82sites/Right-Accumbens-area/\n",
      "   creating: lifespan_57K_82sites/Right-Accumbens-area/Models/\n",
      "  inflating: lifespan_57K_82sites/Right-Accumbens-area/Models/meta_data.md  \n",
      "  inflating: lifespan_57K_82sites/Right-Accumbens-area/Models/NM_0_0_estimate.pkl  \n",
      "   creating: lifespan_57K_82sites/rh_Pole_temporal_thickness/\n",
      "   creating: lifespan_57K_82sites/rh_Pole_temporal_thickness/Models/\n",
      "  inflating: lifespan_57K_82sites/rh_Pole_temporal_thickness/Models/meta_data.md  \n",
      "  inflating: lifespan_57K_82sites/rh_Pole_temporal_thickness/Models/NM_0_0_estimate.pkl  \n",
      "   creating: lifespan_57K_82sites/Right-Thalamus-Proper/\n",
      "   creating: lifespan_57K_82sites/Right-Thalamus-Proper/Models/\n",
      "  inflating: lifespan_57K_82sites/Right-Thalamus-Proper/Models/meta_data.md  \n",
      "  inflating: lifespan_57K_82sites/Right-Thalamus-Proper/Models/NM_0_0_estimate.pkl  \n",
      "   creating: lifespan_57K_82sites/rh_Pole_occipital_thickness/\n",
      "   creating: lifespan_57K_82sites/rh_Pole_occipital_thickness/Models/\n",
      "  inflating: lifespan_57K_82sites/rh_Pole_occipital_thickness/Models/meta_data.md  \n",
      "  inflating: lifespan_57K_82sites/rh_Pole_occipital_thickness/Models/NM_0_0_estimate.pkl  \n",
      "   creating: lifespan_57K_82sites/lh_S_orbital-H_Shaped_thickness/\n",
      "   creating: lifespan_57K_82sites/lh_S_orbital-H_Shaped_thickness/Models/\n",
      "  inflating: lifespan_57K_82sites/lh_S_orbital-H_Shaped_thickness/Models/meta_data.md  \n",
      "  inflating: lifespan_57K_82sites/lh_S_orbital-H_Shaped_thickness/Models/NM_0_0_estimate.pkl  \n",
      "   creating: lifespan_57K_82sites/lh_G_temp_sup-Lateral_thickness/\n",
      "   creating: lifespan_57K_82sites/lh_G_temp_sup-Lateral_thickness/Models/\n",
      "  inflating: lifespan_57K_82sites/lh_G_temp_sup-Lateral_thickness/Models/meta_data.md  \n",
      "  inflating: lifespan_57K_82sites/lh_G_temp_sup-Lateral_thickness/Models/NM_0_0_estimate.pkl  \n",
      "   creating: lifespan_57K_82sites/lh_S_temporal_inf_thickness/\n",
      "   creating: lifespan_57K_82sites/lh_S_temporal_inf_thickness/Models/\n",
      "  inflating: lifespan_57K_82sites/lh_S_temporal_inf_thickness/Models/meta_data.md  \n",
      "  inflating: lifespan_57K_82sites/lh_S_temporal_inf_thickness/Models/NM_0_0_estimate.pkl  \n",
      "   creating: lifespan_57K_82sites/lh_G_cingul-Post-ventral_thickness/\n",
      "   creating: lifespan_57K_82sites/lh_G_cingul-Post-ventral_thickness/Models/\n",
      "  inflating: lifespan_57K_82sites/lh_G_cingul-Post-ventral_thickness/Models/meta_data.md  \n",
      "  inflating: lifespan_57K_82sites/lh_G_cingul-Post-ventral_thickness/Models/NM_0_0_estimate.pkl  \n",
      "   creating: lifespan_57K_82sites/Left-vessel/\n",
      "   creating: lifespan_57K_82sites/Left-vessel/Models/\n",
      "  inflating: lifespan_57K_82sites/Left-vessel/Models/meta_data.md  \n",
      "  inflating: lifespan_57K_82sites/Left-vessel/Models/NM_0_0_estimate.pkl  \n",
      "   creating: lifespan_57K_82sites/rh_G_postcentral_thickness/\n",
      "   creating: lifespan_57K_82sites/rh_G_postcentral_thickness/Models/\n",
      "  inflating: lifespan_57K_82sites/rh_G_postcentral_thickness/Models/meta_data.md  \n",
      "  inflating: lifespan_57K_82sites/rh_G_postcentral_thickness/Models/NM_0_0_estimate.pkl  \n",
      "   creating: lifespan_57K_82sites/lh_G_temp_sup-Plan_polar_thickness/\n",
      "   creating: lifespan_57K_82sites/lh_G_temp_sup-Plan_polar_thickness/Models/\n",
      "  inflating: lifespan_57K_82sites/lh_G_temp_sup-Plan_polar_thickness/Models/meta_data.md  \n",
      "  inflating: lifespan_57K_82sites/lh_G_temp_sup-Plan_polar_thickness/Models/NM_0_0_estimate.pkl  \n",
      "   creating: lifespan_57K_82sites/lh_S_orbital_lateral_thickness/\n",
      "   creating: lifespan_57K_82sites/lh_S_orbital_lateral_thickness/Models/\n",
      "  inflating: lifespan_57K_82sites/lh_S_orbital_lateral_thickness/Models/meta_data.md  \n",
      "  inflating: lifespan_57K_82sites/lh_S_orbital_lateral_thickness/Models/NM_0_0_estimate.pkl  \n",
      "   creating: lifespan_57K_82sites/rh_G_subcallosal_thickness/\n",
      "   creating: lifespan_57K_82sites/rh_G_subcallosal_thickness/Models/\n",
      "  inflating: lifespan_57K_82sites/rh_G_subcallosal_thickness/Models/meta_data.md  \n",
      "  inflating: lifespan_57K_82sites/rh_G_subcallosal_thickness/Models/NM_0_0_estimate.pkl  \n",
      "   creating: lifespan_57K_82sites/lh_G_occipital_middle_thickness/\n",
      "   creating: lifespan_57K_82sites/lh_G_occipital_middle_thickness/Models/\n",
      "  inflating: lifespan_57K_82sites/lh_G_occipital_middle_thickness/Models/meta_data.md  \n",
      "  inflating: lifespan_57K_82sites/lh_G_occipital_middle_thickness/Models/NM_0_0_estimate.pkl  \n",
      "   creating: lifespan_57K_82sites/lh_G&S_occipital_inf_thickness/\n",
      "   creating: lifespan_57K_82sites/lh_G&S_occipital_inf_thickness/Models/\n",
      "  inflating: lifespan_57K_82sites/lh_G&S_occipital_inf_thickness/Models/meta_data.md  \n",
      "  inflating: lifespan_57K_82sites/lh_G&S_occipital_inf_thickness/Models/NM_0_0_estimate.pkl  \n",
      "   creating: lifespan_57K_82sites/lh_G&S_transv_frontopol_thickness/\n",
      "   creating: lifespan_57K_82sites/lh_G&S_transv_frontopol_thickness/Models/\n",
      "  inflating: lifespan_57K_82sites/lh_G&S_transv_frontopol_thickness/Models/meta_data.md  \n",
      "  inflating: lifespan_57K_82sites/lh_G&S_transv_frontopol_thickness/Models/NM_0_0_estimate.pkl  \n",
      "   creating: lifespan_57K_82sites/rh_S_front_middle_thickness/\n",
      "   creating: lifespan_57K_82sites/rh_S_front_middle_thickness/Models/\n",
      "  inflating: lifespan_57K_82sites/rh_S_front_middle_thickness/Models/meta_data.md  \n",
      "  inflating: lifespan_57K_82sites/rh_S_front_middle_thickness/Models/NM_0_0_estimate.pkl  \n",
      "   creating: lifespan_57K_82sites/lh_G_occipital_sup_thickness/\n",
      "   creating: lifespan_57K_82sites/lh_G_occipital_sup_thickness/Models/\n",
      "  inflating: lifespan_57K_82sites/lh_G_occipital_sup_thickness/Models/meta_data.md  \n",
      "  inflating: lifespan_57K_82sites/lh_G_occipital_sup_thickness/Models/NM_0_0_estimate.pkl  \n",
      "   creating: lifespan_57K_82sites/rh_S_circular_insula_inf_thickness/\n",
      "   creating: lifespan_57K_82sites/rh_S_circular_insula_inf_thickness/Models/\n",
      "  inflating: lifespan_57K_82sites/rh_S_circular_insula_inf_thickness/Models/meta_data.md  \n",
      "  inflating: lifespan_57K_82sites/rh_S_circular_insula_inf_thickness/Models/NM_0_0_estimate.pkl  \n",
      "   creating: lifespan_57K_82sites/lh_G_front_sup_thickness/\n",
      "   creating: lifespan_57K_82sites/lh_G_front_sup_thickness/Models/\n",
      "  inflating: lifespan_57K_82sites/lh_G_front_sup_thickness/Models/meta_data.md  \n",
      "  inflating: lifespan_57K_82sites/lh_G_front_sup_thickness/Models/NM_0_0_estimate.pkl  \n",
      "   creating: lifespan_57K_82sites/rh_G&S_paracentral_thickness/\n",
      "   creating: lifespan_57K_82sites/rh_G&S_paracentral_thickness/Models/\n",
      "  inflating: lifespan_57K_82sites/rh_G&S_paracentral_thickness/Models/meta_data.md  \n",
      "  inflating: lifespan_57K_82sites/rh_G&S_paracentral_thickness/Models/NM_0_0_estimate.pkl  \n",
      "   creating: lifespan_57K_82sites/rh_S_parieto_occipital_thickness/\n",
      "   creating: lifespan_57K_82sites/rh_S_parieto_occipital_thickness/Models/\n",
      "  inflating: lifespan_57K_82sites/rh_S_parieto_occipital_thickness/Models/meta_data.md  \n",
      "  inflating: lifespan_57K_82sites/rh_S_parieto_occipital_thickness/Models/NM_0_0_estimate.pkl  \n",
      "   creating: lifespan_57K_82sites/lh_G_oc-temp_med-Lingual_thickness/\n",
      "   creating: lifespan_57K_82sites/lh_G_oc-temp_med-Lingual_thickness/Models/\n",
      "  inflating: lifespan_57K_82sites/lh_G_oc-temp_med-Lingual_thickness/Models/meta_data.md  \n",
      "  inflating: lifespan_57K_82sites/lh_G_oc-temp_med-Lingual_thickness/Models/NM_0_0_estimate.pkl  \n",
      "   creating: lifespan_57K_82sites/Left-Accumbens-area/\n",
      "   creating: lifespan_57K_82sites/Left-Accumbens-area/Models/\n",
      "  inflating: lifespan_57K_82sites/Left-Accumbens-area/Models/meta_data.md  \n",
      "  inflating: lifespan_57K_82sites/Left-Accumbens-area/Models/NM_0_0_estimate.pkl  \n",
      "   creating: lifespan_57K_82sites/lh_G_temporal_middle_thickness/\n",
      "   creating: lifespan_57K_82sites/lh_G_temporal_middle_thickness/Models/\n",
      "  inflating: lifespan_57K_82sites/lh_G_temporal_middle_thickness/Models/meta_data.md  \n",
      "  inflating: lifespan_57K_82sites/lh_G_temporal_middle_thickness/Models/NM_0_0_estimate.pkl  \n",
      "   creating: lifespan_57K_82sites/lh_G_orbital_thickness/\n",
      "   creating: lifespan_57K_82sites/lh_G_orbital_thickness/Models/\n",
      "  inflating: lifespan_57K_82sites/lh_G_orbital_thickness/Models/meta_data.md  \n",
      "  inflating: lifespan_57K_82sites/lh_G_orbital_thickness/Models/NM_0_0_estimate.pkl  \n",
      "   creating: lifespan_57K_82sites/lh_S_oc_middle&Lunatus_thickness/\n",
      "   creating: lifespan_57K_82sites/lh_S_oc_middle&Lunatus_thickness/Models/\n",
      "  inflating: lifespan_57K_82sites/lh_S_oc_middle&Lunatus_thickness/Models/meta_data.md  \n",
      "  inflating: lifespan_57K_82sites/lh_S_oc_middle&Lunatus_thickness/Models/NM_0_0_estimate.pkl  \n",
      "   creating: lifespan_57K_82sites/lh_S_oc-temp_med&Lingual_thickness/\n",
      "   creating: lifespan_57K_82sites/lh_S_oc-temp_med&Lingual_thickness/Models/\n",
      "  inflating: lifespan_57K_82sites/lh_S_oc-temp_med&Lingual_thickness/Models/meta_data.md  \n",
      "  inflating: lifespan_57K_82sites/lh_S_oc-temp_med&Lingual_thickness/Models/NM_0_0_estimate.pkl  \n",
      "   creating: lifespan_57K_82sites/lh_S_postcentral_thickness/\n",
      "   creating: lifespan_57K_82sites/lh_S_postcentral_thickness/Models/\n",
      "  inflating: lifespan_57K_82sites/lh_S_postcentral_thickness/Models/meta_data.md  \n",
      "  inflating: lifespan_57K_82sites/lh_S_postcentral_thickness/Models/NM_0_0_estimate.pkl  \n",
      "   creating: lifespan_57K_82sites/rh_G_rectus_thickness/\n",
      "   creating: lifespan_57K_82sites/rh_G_rectus_thickness/Models/\n",
      "  inflating: lifespan_57K_82sites/rh_G_rectus_thickness/Models/meta_data.md  \n",
      "  inflating: lifespan_57K_82sites/rh_G_rectus_thickness/Models/NM_0_0_estimate.pkl  \n",
      "   creating: lifespan_57K_82sites/lh_S_subparietal_thickness/\n",
      "   creating: lifespan_57K_82sites/lh_S_subparietal_thickness/Models/\n",
      "  inflating: lifespan_57K_82sites/lh_S_subparietal_thickness/Models/meta_data.md  \n",
      "  inflating: lifespan_57K_82sites/lh_S_subparietal_thickness/Models/NM_0_0_estimate.pkl  \n",
      "   creating: lifespan_57K_82sites/lh_S_collat_transv_ant_thickness/\n",
      "   creating: lifespan_57K_82sites/lh_S_collat_transv_ant_thickness/Models/\n",
      "  inflating: lifespan_57K_82sites/lh_S_collat_transv_ant_thickness/Models/meta_data.md  \n",
      "  inflating: lifespan_57K_82sites/lh_S_collat_transv_ant_thickness/Models/NM_0_0_estimate.pkl  \n",
      "   creating: lifespan_57K_82sites/rh_G&S_transv_frontopol_thickness/\n",
      "   creating: lifespan_57K_82sites/rh_G&S_transv_frontopol_thickness/Models/\n",
      "  inflating: lifespan_57K_82sites/rh_G&S_transv_frontopol_thickness/Models/meta_data.md  \n",
      "  inflating: lifespan_57K_82sites/rh_G&S_transv_frontopol_thickness/Models/NM_0_0_estimate.pkl  \n",
      "   creating: lifespan_57K_82sites/rh_S_pericallosal_thickness/\n",
      "   creating: lifespan_57K_82sites/rh_S_pericallosal_thickness/Models/\n",
      "  inflating: lifespan_57K_82sites/rh_S_pericallosal_thickness/Models/meta_data.md  \n",
      "  inflating: lifespan_57K_82sites/rh_S_pericallosal_thickness/Models/NM_0_0_estimate.pkl  \n",
      "   creating: lifespan_57K_82sites/Left-choroid-plexus/\n",
      "   creating: lifespan_57K_82sites/Left-choroid-plexus/Models/\n",
      "  inflating: lifespan_57K_82sites/Left-choroid-plexus/Models/meta_data.md  \n",
      "  inflating: lifespan_57K_82sites/Left-choroid-plexus/Models/NM_0_0_estimate.pkl  \n",
      "   creating: lifespan_57K_82sites/rh_G_precentral_thickness/\n",
      "   creating: lifespan_57K_82sites/rh_G_precentral_thickness/Models/\n",
      "  inflating: lifespan_57K_82sites/rh_G_precentral_thickness/Models/meta_data.md  \n",
      "  inflating: lifespan_57K_82sites/rh_G_precentral_thickness/Models/NM_0_0_estimate.pkl  \n",
      "   creating: lifespan_57K_82sites/rh_G_temporal_inf_thickness/\n",
      "   creating: lifespan_57K_82sites/rh_G_temporal_inf_thickness/Models/\n",
      "  inflating: lifespan_57K_82sites/rh_G_temporal_inf_thickness/Models/meta_data.md  \n",
      "  inflating: lifespan_57K_82sites/rh_G_temporal_inf_thickness/Models/NM_0_0_estimate.pkl  \n",
      "   creating: lifespan_57K_82sites/Right-VentralDC/\n",
      "   creating: lifespan_57K_82sites/Right-VentralDC/Models/\n",
      "  inflating: lifespan_57K_82sites/Right-VentralDC/Models/meta_data.md  \n",
      "  inflating: lifespan_57K_82sites/Right-VentralDC/Models/NM_0_0_estimate.pkl  \n",
      "   creating: lifespan_57K_82sites/lh_G&S_paracentral_thickness/\n",
      "   creating: lifespan_57K_82sites/lh_G&S_paracentral_thickness/Models/\n",
      "  inflating: lifespan_57K_82sites/lh_G&S_paracentral_thickness/Models/meta_data.md  \n",
      "  inflating: lifespan_57K_82sites/lh_G&S_paracentral_thickness/Models/NM_0_0_estimate.pkl  \n",
      "   creating: lifespan_57K_82sites/rh_G_cuneus_thickness/\n",
      "   creating: lifespan_57K_82sites/rh_G_cuneus_thickness/Models/\n",
      "  inflating: lifespan_57K_82sites/rh_G_cuneus_thickness/Models/meta_data.md  \n",
      "  inflating: lifespan_57K_82sites/rh_G_cuneus_thickness/Models/NM_0_0_estimate.pkl  \n",
      "   creating: lifespan_57K_82sites/lh_G_Ins_lg&S_cent_ins_thickness/\n",
      "   creating: lifespan_57K_82sites/lh_G_Ins_lg&S_cent_ins_thickness/Models/\n",
      "  inflating: lifespan_57K_82sites/lh_G_Ins_lg&S_cent_ins_thickness/Models/meta_data.md  \n",
      "  inflating: lifespan_57K_82sites/lh_G_Ins_lg&S_cent_ins_thickness/Models/NM_0_0_estimate.pkl  \n",
      "   creating: lifespan_57K_82sites/rh_G_occipital_sup_thickness/\n",
      "   creating: lifespan_57K_82sites/rh_G_occipital_sup_thickness/Models/\n",
      "  inflating: lifespan_57K_82sites/rh_G_occipital_sup_thickness/Models/meta_data.md  \n",
      "  inflating: lifespan_57K_82sites/rh_G_occipital_sup_thickness/Models/NM_0_0_estimate.pkl  \n",
      "   creating: lifespan_57K_82sites/TotalGrayVol/\n",
      "   creating: lifespan_57K_82sites/TotalGrayVol/Models/\n",
      "  inflating: lifespan_57K_82sites/TotalGrayVol/Models/meta_data.md  \n",
      "  inflating: lifespan_57K_82sites/TotalGrayVol/Models/NM_0_0_estimate.pkl  \n",
      "   creating: lifespan_57K_82sites/lh_S_front_inf_thickness/\n",
      "   creating: lifespan_57K_82sites/lh_S_front_inf_thickness/Models/\n",
      "  inflating: lifespan_57K_82sites/lh_S_front_inf_thickness/Models/meta_data.md  \n",
      "  inflating: lifespan_57K_82sites/lh_S_front_inf_thickness/Models/NM_0_0_estimate.pkl  \n",
      "   creating: lifespan_57K_82sites/rh_S_orbital_lateral_thickness/\n",
      "   creating: lifespan_57K_82sites/rh_S_orbital_lateral_thickness/Models/\n",
      "  inflating: lifespan_57K_82sites/rh_S_orbital_lateral_thickness/Models/meta_data.md  \n",
      "  inflating: lifespan_57K_82sites/rh_S_orbital_lateral_thickness/Models/NM_0_0_estimate.pkl  \n",
      "   creating: lifespan_57K_82sites/lh_S_interm_prim-Jensen_thickness/\n",
      "   creating: lifespan_57K_82sites/lh_S_interm_prim-Jensen_thickness/Models/\n",
      "  inflating: lifespan_57K_82sites/lh_S_interm_prim-Jensen_thickness/Models/meta_data.md  \n",
      "  inflating: lifespan_57K_82sites/lh_S_interm_prim-Jensen_thickness/Models/NM_0_0_estimate.pkl  \n",
      "   creating: lifespan_57K_82sites/lh_G_oc-temp_lat-fusifor_thickness/\n",
      "   creating: lifespan_57K_82sites/lh_G_oc-temp_lat-fusifor_thickness/Models/\n",
      "  inflating: lifespan_57K_82sites/lh_G_oc-temp_lat-fusifor_thickness/Models/meta_data.md  \n",
      "  inflating: lifespan_57K_82sites/lh_G_oc-temp_lat-fusifor_thickness/Models/NM_0_0_estimate.pkl  \n",
      "   creating: lifespan_57K_82sites/rh_G&S_frontomargin_thickness/\n",
      "   creating: lifespan_57K_82sites/rh_G&S_frontomargin_thickness/Models/\n",
      "  inflating: lifespan_57K_82sites/rh_G&S_frontomargin_thickness/Models/meta_data.md  \n",
      "  inflating: lifespan_57K_82sites/rh_G&S_frontomargin_thickness/Models/NM_0_0_estimate.pkl  \n",
      "   creating: lifespan_57K_82sites/rh_Lat_Fis-ant-Horizont_thickness/\n",
      "   creating: lifespan_57K_82sites/rh_Lat_Fis-ant-Horizont_thickness/Models/\n",
      "  inflating: lifespan_57K_82sites/rh_Lat_Fis-ant-Horizont_thickness/Models/meta_data.md  \n",
      "  inflating: lifespan_57K_82sites/rh_Lat_Fis-ant-Horizont_thickness/Models/NM_0_0_estimate.pkl  \n",
      "   creating: lifespan_57K_82sites/lh_G_front_inf-Orbital_thickness/\n",
      "   creating: lifespan_57K_82sites/lh_G_front_inf-Orbital_thickness/Models/\n",
      "  inflating: lifespan_57K_82sites/lh_G_front_inf-Orbital_thickness/Models/meta_data.md  \n",
      "  inflating: lifespan_57K_82sites/lh_G_front_inf-Orbital_thickness/Models/NM_0_0_estimate.pkl  \n",
      "   creating: lifespan_57K_82sites/rh_G_front_inf-Opercular_thickness/\n",
      "   creating: lifespan_57K_82sites/rh_G_front_inf-Opercular_thickness/Models/\n",
      "  inflating: lifespan_57K_82sites/rh_G_front_inf-Opercular_thickness/Models/meta_data.md  \n",
      "  inflating: lifespan_57K_82sites/rh_G_front_inf-Opercular_thickness/Models/NM_0_0_estimate.pkl  \n",
      "   creating: lifespan_57K_82sites/rh_G&S_cingul-Mid-Ant_thickness/\n",
      "   creating: lifespan_57K_82sites/rh_G&S_cingul-Mid-Ant_thickness/Models/\n",
      "  inflating: lifespan_57K_82sites/rh_G&S_cingul-Mid-Ant_thickness/Models/meta_data.md  \n",
      "  inflating: lifespan_57K_82sites/rh_G&S_cingul-Mid-Ant_thickness/Models/NM_0_0_estimate.pkl  \n",
      "   creating: lifespan_57K_82sites/lh_Lat_Fis-ant-Horizont_thickness/\n",
      "   creating: lifespan_57K_82sites/lh_Lat_Fis-ant-Horizont_thickness/Models/\n",
      "  inflating: lifespan_57K_82sites/lh_Lat_Fis-ant-Horizont_thickness/Models/meta_data.md  \n",
      "  inflating: lifespan_57K_82sites/lh_Lat_Fis-ant-Horizont_thickness/Models/NM_0_0_estimate.pkl  \n",
      "   creating: lifespan_57K_82sites/rh_S_postcentral_thickness/\n",
      "   creating: lifespan_57K_82sites/rh_S_postcentral_thickness/Models/\n",
      "  inflating: lifespan_57K_82sites/rh_S_postcentral_thickness/Models/meta_data.md  \n",
      "  inflating: lifespan_57K_82sites/rh_S_postcentral_thickness/Models/NM_0_0_estimate.pkl  \n",
      "   creating: lifespan_57K_82sites/lh_S_temporal_sup_thickness/\n",
      "   creating: lifespan_57K_82sites/lh_S_temporal_sup_thickness/Models/\n",
      "  inflating: lifespan_57K_82sites/lh_S_temporal_sup_thickness/Models/meta_data.md  \n",
      "  inflating: lifespan_57K_82sites/lh_S_temporal_sup_thickness/Models/NM_0_0_estimate.pkl  \n",
      "   creating: lifespan_57K_82sites/rh_G_oc-temp_med-Parahip_thickness/\n",
      "   creating: lifespan_57K_82sites/rh_G_oc-temp_med-Parahip_thickness/Models/\n",
      "  inflating: lifespan_57K_82sites/rh_G_oc-temp_med-Parahip_thickness/Models/meta_data.md  \n",
      "  inflating: lifespan_57K_82sites/rh_G_oc-temp_med-Parahip_thickness/Models/NM_0_0_estimate.pkl  \n",
      "   creating: lifespan_57K_82sites/rh_S_subparietal_thickness/\n",
      "   creating: lifespan_57K_82sites/rh_S_subparietal_thickness/Models/\n",
      "  inflating: lifespan_57K_82sites/rh_S_subparietal_thickness/Models/meta_data.md  \n",
      "  inflating: lifespan_57K_82sites/rh_S_subparietal_thickness/Models/NM_0_0_estimate.pkl  \n",
      "   creating: lifespan_57K_82sites/lh_G_precentral_thickness/\n",
      "   creating: lifespan_57K_82sites/lh_G_precentral_thickness/Models/\n",
      "  inflating: lifespan_57K_82sites/lh_G_precentral_thickness/Models/meta_data.md  \n",
      "  inflating: lifespan_57K_82sites/lh_G_precentral_thickness/Models/NM_0_0_estimate.pkl  \n",
      "   creating: lifespan_57K_82sites/rh_S_interm_prim-Jensen_thickness/\n",
      "   creating: lifespan_57K_82sites/rh_S_interm_prim-Jensen_thickness/Models/\n",
      "  inflating: lifespan_57K_82sites/rh_S_interm_prim-Jensen_thickness/Models/meta_data.md  \n",
      "  inflating: lifespan_57K_82sites/rh_S_interm_prim-Jensen_thickness/Models/NM_0_0_estimate.pkl  \n",
      "   creating: lifespan_57K_82sites/lh_S_collat_transv_post_thickness/\n",
      "   creating: lifespan_57K_82sites/lh_S_collat_transv_post_thickness/Models/\n",
      "  inflating: lifespan_57K_82sites/lh_S_collat_transv_post_thickness/Models/meta_data.md  \n",
      "  inflating: lifespan_57K_82sites/lh_S_collat_transv_post_thickness/Models/NM_0_0_estimate.pkl  \n",
      "   creating: lifespan_57K_82sites/rh_S_circular_insula_ant_thickness/\n",
      "   creating: lifespan_57K_82sites/rh_S_circular_insula_ant_thickness/Models/\n",
      "  inflating: lifespan_57K_82sites/rh_S_circular_insula_ant_thickness/Models/meta_data.md  \n",
      "  inflating: lifespan_57K_82sites/rh_S_circular_insula_ant_thickness/Models/NM_0_0_estimate.pkl  \n",
      "   creating: lifespan_57K_82sites/lh_S_orbital_med-olfact_thickness/\n",
      "   creating: lifespan_57K_82sites/lh_S_orbital_med-olfact_thickness/Models/\n",
      "  inflating: lifespan_57K_82sites/lh_S_orbital_med-olfact_thickness/Models/meta_data.md  \n",
      "  inflating: lifespan_57K_82sites/lh_S_orbital_med-olfact_thickness/Models/NM_0_0_estimate.pkl  \n",
      "   creating: lifespan_57K_82sites/lh_S_precentral-sup-part_thickness/\n",
      "   creating: lifespan_57K_82sites/lh_S_precentral-sup-part_thickness/Models/\n",
      "  inflating: lifespan_57K_82sites/lh_S_precentral-sup-part_thickness/Models/meta_data.md  \n",
      "  inflating: lifespan_57K_82sites/lh_S_precentral-sup-part_thickness/Models/NM_0_0_estimate.pkl  \n",
      "   creating: lifespan_57K_82sites/rh_Lat_Fis-ant-Vertical_thickness/\n",
      "   creating: lifespan_57K_82sites/rh_Lat_Fis-ant-Vertical_thickness/Models/\n",
      "  inflating: lifespan_57K_82sites/rh_Lat_Fis-ant-Vertical_thickness/Models/meta_data.md  \n",
      "  inflating: lifespan_57K_82sites/rh_Lat_Fis-ant-Vertical_thickness/Models/NM_0_0_estimate.pkl  \n",
      "   creating: lifespan_57K_82sites/3rd-Ventricle/\n",
      "   creating: lifespan_57K_82sites/3rd-Ventricle/Models/\n",
      "  inflating: lifespan_57K_82sites/3rd-Ventricle/Models/meta_data.md  \n",
      "  inflating: lifespan_57K_82sites/3rd-Ventricle/Models/NM_0_0_estimate.pkl  \n",
      "   creating: lifespan_57K_82sites/rh_G&S_cingul-Ant_thickness/\n",
      "   creating: lifespan_57K_82sites/rh_G&S_cingul-Ant_thickness/Models/\n",
      "  inflating: lifespan_57K_82sites/rh_G&S_cingul-Ant_thickness/Models/meta_data.md  \n",
      "  inflating: lifespan_57K_82sites/rh_G&S_cingul-Ant_thickness/Models/NM_0_0_estimate.pkl  \n",
      "   creating: lifespan_57K_82sites/rh_G_temporal_middle_thickness/\n",
      "   creating: lifespan_57K_82sites/rh_G_temporal_middle_thickness/Models/\n",
      "  inflating: lifespan_57K_82sites/rh_G_temporal_middle_thickness/Models/meta_data.md  \n",
      "  inflating: lifespan_57K_82sites/rh_G_temporal_middle_thickness/Models/NM_0_0_estimate.pkl  \n",
      "   creating: lifespan_57K_82sites/lh_G&S_subcentral_thickness/\n",
      "   creating: lifespan_57K_82sites/lh_G&S_subcentral_thickness/Models/\n",
      "  inflating: lifespan_57K_82sites/lh_G&S_subcentral_thickness/Models/meta_data.md  \n",
      "  inflating: lifespan_57K_82sites/lh_G&S_subcentral_thickness/Models/NM_0_0_estimate.pkl  \n",
      "   creating: lifespan_57K_82sites/avg_thickness/\n",
      "   creating: lifespan_57K_82sites/avg_thickness/Models/\n",
      "  inflating: lifespan_57K_82sites/avg_thickness/Models/meta_data.md  \n",
      "  inflating: lifespan_57K_82sites/avg_thickness/Models/NM_0_0_estimate.pkl  \n",
      "   creating: lifespan_57K_82sites/lh_S_intrapariet&P_trans_thickness/\n",
      "   creating: lifespan_57K_82sites/lh_S_intrapariet&P_trans_thickness/Models/\n",
      "  inflating: lifespan_57K_82sites/lh_S_intrapariet&P_trans_thickness/Models/meta_data.md  \n",
      "  inflating: lifespan_57K_82sites/lh_S_intrapariet&P_trans_thickness/Models/NM_0_0_estimate.pkl  \n",
      "   creating: lifespan_57K_82sites/rh_S_circular_insula_sup_thickness/\n",
      "   creating: lifespan_57K_82sites/rh_S_circular_insula_sup_thickness/Models/\n",
      "  inflating: lifespan_57K_82sites/rh_S_circular_insula_sup_thickness/Models/meta_data.md  \n",
      "  inflating: lifespan_57K_82sites/rh_S_circular_insula_sup_thickness/Models/NM_0_0_estimate.pkl  \n",
      "   creating: lifespan_57K_82sites/lh_Pole_temporal_thickness/\n",
      "   creating: lifespan_57K_82sites/lh_Pole_temporal_thickness/Models/\n",
      "  inflating: lifespan_57K_82sites/lh_Pole_temporal_thickness/Models/meta_data.md  \n",
      "  inflating: lifespan_57K_82sites/lh_Pole_temporal_thickness/Models/NM_0_0_estimate.pkl  \n",
      "   creating: lifespan_57K_82sites/lh_G_front_middle_thickness/\n",
      "   creating: lifespan_57K_82sites/lh_G_front_middle_thickness/Models/\n",
      "  inflating: lifespan_57K_82sites/lh_G_front_middle_thickness/Models/meta_data.md  \n",
      "  inflating: lifespan_57K_82sites/lh_G_front_middle_thickness/Models/NM_0_0_estimate.pkl  \n",
      "   creating: lifespan_57K_82sites/rh_G_precuneus_thickness/\n",
      "   creating: lifespan_57K_82sites/rh_G_precuneus_thickness/Models/\n",
      "  inflating: lifespan_57K_82sites/rh_G_precuneus_thickness/Models/meta_data.md  \n",
      "  inflating: lifespan_57K_82sites/rh_G_precuneus_thickness/Models/NM_0_0_estimate.pkl  \n",
      "   creating: lifespan_57K_82sites/lh_S_calcarine_thickness/\n",
      "   creating: lifespan_57K_82sites/lh_S_calcarine_thickness/Models/\n",
      "  inflating: lifespan_57K_82sites/lh_S_calcarine_thickness/Models/meta_data.md  \n",
      "  inflating: lifespan_57K_82sites/lh_S_calcarine_thickness/Models/NM_0_0_estimate.pkl  \n",
      "   creating: lifespan_57K_82sites/rh_S_precentral-inf-part_thickness/\n",
      "   creating: lifespan_57K_82sites/rh_S_precentral-inf-part_thickness/Models/\n",
      "  inflating: lifespan_57K_82sites/rh_S_precentral-inf-part_thickness/Models/meta_data.md  \n",
      "  inflating: lifespan_57K_82sites/rh_S_precentral-inf-part_thickness/Models/NM_0_0_estimate.pkl  \n",
      "   creating: lifespan_57K_82sites/Left-Inf-Lat-Vent/\n",
      "   creating: lifespan_57K_82sites/Left-Inf-Lat-Vent/Models/\n",
      "  inflating: lifespan_57K_82sites/Left-Inf-Lat-Vent/Models/meta_data.md  \n",
      "  inflating: lifespan_57K_82sites/Left-Inf-Lat-Vent/Models/NM_0_0_estimate.pkl  \n",
      "   creating: lifespan_57K_82sites/rh_G_pariet_inf-Supramar_thickness/\n",
      "   creating: lifespan_57K_82sites/rh_G_pariet_inf-Supramar_thickness/Models/\n",
      "  inflating: lifespan_57K_82sites/rh_G_pariet_inf-Supramar_thickness/Models/meta_data.md  \n",
      "  inflating: lifespan_57K_82sites/rh_G_pariet_inf-Supramar_thickness/Models/NM_0_0_estimate.pkl  \n",
      "   creating: lifespan_57K_82sites/rh_G_temp_sup-Plan_tempo_thickness/\n",
      "   creating: lifespan_57K_82sites/rh_G_temp_sup-Plan_tempo_thickness/Models/\n",
      "  inflating: lifespan_57K_82sites/rh_G_temp_sup-Plan_tempo_thickness/Models/meta_data.md  \n",
      "  inflating: lifespan_57K_82sites/rh_G_temp_sup-Plan_tempo_thickness/Models/NM_0_0_estimate.pkl  \n",
      "   creating: lifespan_57K_82sites/rh_S_orbital_med-olfact_thickness/\n",
      "   creating: lifespan_57K_82sites/rh_S_orbital_med-olfact_thickness/Models/\n",
      "  inflating: lifespan_57K_82sites/rh_S_orbital_med-olfact_thickness/Models/meta_data.md  \n",
      "  inflating: lifespan_57K_82sites/rh_S_orbital_med-olfact_thickness/Models/NM_0_0_estimate.pkl  \n",
      "   creating: lifespan_57K_82sites/lh_G&S_cingul-Mid-Post_thickness/\n",
      "   creating: lifespan_57K_82sites/lh_G&S_cingul-Mid-Post_thickness/Models/\n",
      "  inflating: lifespan_57K_82sites/lh_G&S_cingul-Mid-Post_thickness/Models/meta_data.md  \n",
      "  inflating: lifespan_57K_82sites/lh_G&S_cingul-Mid-Post_thickness/Models/NM_0_0_estimate.pkl  \n",
      "   creating: lifespan_57K_82sites/rh_G&S_occipital_inf_thickness/\n",
      "   creating: lifespan_57K_82sites/rh_G&S_occipital_inf_thickness/Models/\n",
      "  inflating: lifespan_57K_82sites/rh_G&S_occipital_inf_thickness/Models/meta_data.md  \n",
      "  inflating: lifespan_57K_82sites/rh_G&S_occipital_inf_thickness/Models/NM_0_0_estimate.pkl  \n",
      "   creating: lifespan_57K_82sites/rh_S_collat_transv_post_thickness/\n",
      "   creating: lifespan_57K_82sites/rh_S_collat_transv_post_thickness/Models/\n",
      "  inflating: lifespan_57K_82sites/rh_S_collat_transv_post_thickness/Models/meta_data.md  \n",
      "  inflating: lifespan_57K_82sites/rh_S_collat_transv_post_thickness/Models/NM_0_0_estimate.pkl  \n",
      "   creating: lifespan_57K_82sites/lh_G_postcentral_thickness/\n",
      "   creating: lifespan_57K_82sites/lh_G_postcentral_thickness/Models/\n",
      "  inflating: lifespan_57K_82sites/lh_G_postcentral_thickness/Models/meta_data.md  \n",
      "  inflating: lifespan_57K_82sites/lh_G_postcentral_thickness/Models/NM_0_0_estimate.pkl  \n",
      "   creating: lifespan_57K_82sites/SubCortGrayVol/\n",
      "   creating: lifespan_57K_82sites/SubCortGrayVol/Models/\n",
      "  inflating: lifespan_57K_82sites/SubCortGrayVol/Models/meta_data.md  \n",
      "  inflating: lifespan_57K_82sites/SubCortGrayVol/Models/NM_0_0_estimate.pkl  \n",
      "   creating: lifespan_57K_82sites/lh_G_subcallosal_thickness/\n",
      "   creating: lifespan_57K_82sites/lh_G_subcallosal_thickness/Models/\n",
      "  inflating: lifespan_57K_82sites/lh_G_subcallosal_thickness/Models/meta_data.md  \n",
      "  inflating: lifespan_57K_82sites/lh_G_subcallosal_thickness/Models/NM_0_0_estimate.pkl  \n",
      "   creating: lifespan_57K_82sites/lh_S_cingul-Marginalis_thickness/\n",
      "   creating: lifespan_57K_82sites/lh_S_cingul-Marginalis_thickness/Models/\n",
      "  inflating: lifespan_57K_82sites/lh_S_cingul-Marginalis_thickness/Models/meta_data.md  \n",
      "  inflating: lifespan_57K_82sites/lh_S_cingul-Marginalis_thickness/Models/NM_0_0_estimate.pkl  \n",
      "   creating: lifespan_57K_82sites/Right-choroid-plexus/\n",
      "   creating: lifespan_57K_82sites/Right-choroid-plexus/Models/\n",
      "  inflating: lifespan_57K_82sites/Right-choroid-plexus/Models/meta_data.md  \n",
      "  inflating: lifespan_57K_82sites/Right-choroid-plexus/Models/NM_0_0_estimate.pkl  \n",
      "   creating: lifespan_57K_82sites/lh_Lat_Fis-ant-Vertical_thickness/\n",
      "   creating: lifespan_57K_82sites/lh_Lat_Fis-ant-Vertical_thickness/Models/\n",
      "  inflating: lifespan_57K_82sites/lh_Lat_Fis-ant-Vertical_thickness/Models/meta_data.md  \n",
      "  inflating: lifespan_57K_82sites/lh_Lat_Fis-ant-Vertical_thickness/Models/NM_0_0_estimate.pkl  \n",
      "   creating: lifespan_57K_82sites/rh_G_front_inf-Triangul_thickness/\n",
      "   creating: lifespan_57K_82sites/rh_G_front_inf-Triangul_thickness/Models/\n",
      "  inflating: lifespan_57K_82sites/rh_G_front_inf-Triangul_thickness/Models/meta_data.md  \n",
      "  inflating: lifespan_57K_82sites/rh_G_front_inf-Triangul_thickness/Models/NM_0_0_estimate.pkl  \n",
      "   creating: lifespan_57K_82sites/lh_G&S_cingul-Ant_thickness/\n",
      "   creating: lifespan_57K_82sites/lh_G&S_cingul-Ant_thickness/Models/\n",
      "  inflating: lifespan_57K_82sites/lh_G&S_cingul-Ant_thickness/Models/meta_data.md  \n",
      "  inflating: lifespan_57K_82sites/lh_G&S_cingul-Ant_thickness/Models/NM_0_0_estimate.pkl  \n",
      "   creating: lifespan_57K_82sites/Left-Lateral-Ventricle/\n",
      "   creating: lifespan_57K_82sites/Left-Lateral-Ventricle/Models/\n",
      "  inflating: lifespan_57K_82sites/Left-Lateral-Ventricle/Models/meta_data.md  \n",
      "  inflating: lifespan_57K_82sites/Left-Lateral-Ventricle/Models/NM_0_0_estimate.pkl  \n",
      "   creating: lifespan_57K_82sites/Left-Putamen/\n",
      "   creating: lifespan_57K_82sites/Left-Putamen/Models/\n",
      "  inflating: lifespan_57K_82sites/Left-Putamen/Models/meta_data.md  \n",
      "  inflating: lifespan_57K_82sites/Left-Putamen/Models/NM_0_0_estimate.pkl  \n",
      "   creating: lifespan_57K_82sites/rh_G&S_subcentral_thickness/\n",
      "   creating: lifespan_57K_82sites/rh_G&S_subcentral_thickness/Models/\n",
      "  inflating: lifespan_57K_82sites/rh_G&S_subcentral_thickness/Models/meta_data.md  \n",
      "  inflating: lifespan_57K_82sites/rh_G&S_subcentral_thickness/Models/NM_0_0_estimate.pkl  \n",
      "   creating: lifespan_57K_82sites/lh_S_temporal_transverse_thickness/\n",
      "   creating: lifespan_57K_82sites/lh_S_temporal_transverse_thickness/Models/\n",
      "  inflating: lifespan_57K_82sites/lh_S_temporal_transverse_thickness/Models/meta_data.md  \n",
      "  inflating: lifespan_57K_82sites/lh_S_temporal_transverse_thickness/Models/NM_0_0_estimate.pkl  \n",
      "   creating: lifespan_57K_82sites/lh_MeanThickness_thickness/\n",
      "   creating: lifespan_57K_82sites/lh_MeanThickness_thickness/Models/\n",
      "  inflating: lifespan_57K_82sites/lh_MeanThickness_thickness/Models/meta_data.md  \n",
      "  inflating: lifespan_57K_82sites/lh_MeanThickness_thickness/Models/NM_0_0_estimate.pkl  \n",
      "   creating: lifespan_57K_82sites/rh_G_temp_sup-G_T_transv_thickness/\n",
      "   creating: lifespan_57K_82sites/rh_G_temp_sup-G_T_transv_thickness/Models/\n",
      "  inflating: lifespan_57K_82sites/rh_G_temp_sup-G_T_transv_thickness/Models/meta_data.md  \n",
      "  inflating: lifespan_57K_82sites/rh_G_temp_sup-G_T_transv_thickness/Models/NM_0_0_estimate.pkl  \n",
      "   creating: lifespan_57K_82sites/rh_G_temp_sup-Lateral_thickness/\n",
      "   creating: lifespan_57K_82sites/rh_G_temp_sup-Lateral_thickness/Models/\n",
      "  inflating: lifespan_57K_82sites/rh_G_temp_sup-Lateral_thickness/Models/meta_data.md  \n",
      "  inflating: lifespan_57K_82sites/rh_G_temp_sup-Lateral_thickness/Models/NM_0_0_estimate.pkl  \n",
      "   creating: lifespan_57K_82sites/rh_S_orbital-H_Shaped_thickness/\n",
      "   creating: lifespan_57K_82sites/rh_S_orbital-H_Shaped_thickness/Models/\n",
      "  inflating: lifespan_57K_82sites/rh_S_orbital-H_Shaped_thickness/Models/meta_data.md  \n",
      "  inflating: lifespan_57K_82sites/rh_S_orbital-H_Shaped_thickness/Models/NM_0_0_estimate.pkl  \n",
      "   creating: lifespan_57K_82sites/rh_S_central_thickness/\n",
      "   creating: lifespan_57K_82sites/rh_S_central_thickness/Models/\n",
      "  inflating: lifespan_57K_82sites/rh_S_central_thickness/Models/meta_data.md  \n",
      "  inflating: lifespan_57K_82sites/rh_S_central_thickness/Models/NM_0_0_estimate.pkl  \n",
      "   creating: lifespan_57K_82sites/Left-Cerebellum-White-Matter/\n",
      "   creating: lifespan_57K_82sites/Left-Cerebellum-White-Matter/Models/\n",
      "  inflating: lifespan_57K_82sites/Left-Cerebellum-White-Matter/Models/meta_data.md  \n",
      "  inflating: lifespan_57K_82sites/Left-Cerebellum-White-Matter/Models/NM_0_0_estimate.pkl  \n",
      "   creating: lifespan_57K_82sites/Right-Putamen/\n",
      "   creating: lifespan_57K_82sites/Right-Putamen/Models/\n",
      "  inflating: lifespan_57K_82sites/Right-Putamen/Models/meta_data.md  \n",
      "  inflating: lifespan_57K_82sites/Right-Putamen/Models/NM_0_0_estimate.pkl  \n",
      "   creating: lifespan_57K_82sites/Brain-Stem/\n",
      "   creating: lifespan_57K_82sites/Brain-Stem/Models/\n",
      "  inflating: lifespan_57K_82sites/Brain-Stem/Models/meta_data.md  \n",
      "  inflating: lifespan_57K_82sites/Brain-Stem/Models/NM_0_0_estimate.pkl  \n",
      "   creating: lifespan_57K_82sites/rh_G_front_sup_thickness/\n",
      "   creating: lifespan_57K_82sites/rh_G_front_sup_thickness/Models/\n",
      "  inflating: lifespan_57K_82sites/rh_G_front_sup_thickness/Models/meta_data.md  \n",
      "  inflating: lifespan_57K_82sites/rh_G_front_sup_thickness/Models/NM_0_0_estimate.pkl  \n",
      "   creating: lifespan_57K_82sites/Left-Thalamus-Proper/\n",
      "   creating: lifespan_57K_82sites/Left-Thalamus-Proper/Models/\n",
      "  inflating: lifespan_57K_82sites/Left-Thalamus-Proper/Models/meta_data.md  \n",
      "  inflating: lifespan_57K_82sites/Left-Thalamus-Proper/Models/NM_0_0_estimate.pkl  \n",
      "   creating: lifespan_57K_82sites/4th-Ventricle/\n",
      "   creating: lifespan_57K_82sites/4th-Ventricle/Models/\n",
      "  inflating: lifespan_57K_82sites/4th-Ventricle/Models/meta_data.md  \n",
      "  inflating: lifespan_57K_82sites/4th-Ventricle/Models/NM_0_0_estimate.pkl  \n",
      "   creating: lifespan_57K_82sites/SupraTentorialVolNotVent/\n",
      "   creating: lifespan_57K_82sites/SupraTentorialVolNotVent/Models/\n",
      "  inflating: lifespan_57K_82sites/SupraTentorialVolNotVent/Models/meta_data.md  \n",
      "  inflating: lifespan_57K_82sites/SupraTentorialVolNotVent/Models/NM_0_0_estimate.pkl  \n",
      "   creating: lifespan_57K_82sites/rh_G_front_middle_thickness/\n",
      "   creating: lifespan_57K_82sites/rh_G_front_middle_thickness/Models/\n",
      "  inflating: lifespan_57K_82sites/rh_G_front_middle_thickness/Models/meta_data.md  \n",
      "  inflating: lifespan_57K_82sites/rh_G_front_middle_thickness/Models/NM_0_0_estimate.pkl  \n",
      "   creating: lifespan_57K_82sites/lh_G_front_inf-Triangul_thickness/\n",
      "   creating: lifespan_57K_82sites/lh_G_front_inf-Triangul_thickness/Models/\n",
      "  inflating: lifespan_57K_82sites/lh_G_front_inf-Triangul_thickness/Models/meta_data.md  \n",
      "  inflating: lifespan_57K_82sites/lh_G_front_inf-Triangul_thickness/Models/NM_0_0_estimate.pkl  \n",
      "   creating: lifespan_57K_82sites/rh_G_insular_short_thickness/\n",
      "   creating: lifespan_57K_82sites/rh_G_insular_short_thickness/Models/\n",
      "  inflating: lifespan_57K_82sites/rh_G_insular_short_thickness/Models/meta_data.md  \n",
      "  inflating: lifespan_57K_82sites/rh_G_insular_short_thickness/Models/NM_0_0_estimate.pkl  \n",
      "   creating: lifespan_57K_82sites/rh_G_temp_sup-Plan_polar_thickness/\n",
      "   creating: lifespan_57K_82sites/rh_G_temp_sup-Plan_polar_thickness/Models/\n",
      "  inflating: lifespan_57K_82sites/rh_G_temp_sup-Plan_polar_thickness/Models/meta_data.md  \n",
      "  inflating: lifespan_57K_82sites/rh_G_temp_sup-Plan_polar_thickness/Models/NM_0_0_estimate.pkl  \n",
      "   creating: lifespan_57K_82sites/rh_G_cingul-Post-ventral_thickness/\n",
      "   creating: lifespan_57K_82sites/rh_G_cingul-Post-ventral_thickness/Models/\n",
      "  inflating: lifespan_57K_82sites/rh_G_cingul-Post-ventral_thickness/Models/meta_data.md  \n",
      "  inflating: lifespan_57K_82sites/rh_G_cingul-Post-ventral_thickness/Models/NM_0_0_estimate.pkl  \n",
      "   creating: lifespan_57K_82sites/Right-Amygdala/\n",
      "   creating: lifespan_57K_82sites/Right-Amygdala/Models/\n",
      "  inflating: lifespan_57K_82sites/Right-Amygdala/Models/meta_data.md  \n",
      "  inflating: lifespan_57K_82sites/Right-Amygdala/Models/NM_0_0_estimate.pkl  \n",
      "   creating: lifespan_57K_82sites/rh_S_oc-temp_lat_thickness/\n",
      "   creating: lifespan_57K_82sites/rh_S_oc-temp_lat_thickness/Models/\n",
      "  inflating: lifespan_57K_82sites/rh_S_oc-temp_lat_thickness/Models/meta_data.md  \n",
      "  inflating: lifespan_57K_82sites/rh_S_oc-temp_lat_thickness/Models/NM_0_0_estimate.pkl  \n",
      "   creating: lifespan_57K_82sites/rh_S_oc_middle&Lunatus_thickness/\n",
      "   creating: lifespan_57K_82sites/rh_S_oc_middle&Lunatus_thickness/Models/\n",
      "  inflating: lifespan_57K_82sites/rh_S_oc_middle&Lunatus_thickness/Models/meta_data.md  \n",
      "  inflating: lifespan_57K_82sites/rh_S_oc_middle&Lunatus_thickness/Models/NM_0_0_estimate.pkl  \n",
      "   creating: lifespan_57K_82sites/lh_S_occipital_ant_thickness/\n",
      "   creating: lifespan_57K_82sites/lh_S_occipital_ant_thickness/Models/\n",
      "  inflating: lifespan_57K_82sites/lh_S_occipital_ant_thickness/Models/meta_data.md  \n",
      "  inflating: lifespan_57K_82sites/lh_S_occipital_ant_thickness/Models/NM_0_0_estimate.pkl  \n",
      "   creating: lifespan_57K_82sites/lh_G_cingul-Post-dorsal_thickness/\n",
      "   creating: lifespan_57K_82sites/lh_G_cingul-Post-dorsal_thickness/Models/\n",
      "  inflating: lifespan_57K_82sites/lh_G_cingul-Post-dorsal_thickness/Models/meta_data.md  \n",
      "  inflating: lifespan_57K_82sites/lh_G_cingul-Post-dorsal_thickness/Models/NM_0_0_estimate.pkl  \n",
      "   creating: lifespan_57K_82sites/lh_G_cuneus_thickness/\n",
      "   creating: lifespan_57K_82sites/lh_G_cuneus_thickness/Models/\n",
      "  inflating: lifespan_57K_82sites/lh_G_cuneus_thickness/Models/meta_data.md  \n",
      "  inflating: lifespan_57K_82sites/lh_G_cuneus_thickness/Models/NM_0_0_estimate.pkl  \n",
      "   creating: lifespan_57K_82sites/lh_S_circular_insula_inf_thickness/\n",
      "   creating: lifespan_57K_82sites/lh_S_circular_insula_inf_thickness/Models/\n",
      "  inflating: lifespan_57K_82sites/lh_S_circular_insula_inf_thickness/Models/meta_data.md  \n",
      "  inflating: lifespan_57K_82sites/lh_S_circular_insula_inf_thickness/Models/NM_0_0_estimate.pkl  \n",
      "   creating: lifespan_57K_82sites/lh_S_pericallosal_thickness/\n",
      "   creating: lifespan_57K_82sites/lh_S_pericallosal_thickness/Models/\n",
      "  inflating: lifespan_57K_82sites/lh_S_pericallosal_thickness/Models/meta_data.md  \n",
      "  inflating: lifespan_57K_82sites/lh_S_pericallosal_thickness/Models/NM_0_0_estimate.pkl  \n",
      "   creating: lifespan_57K_82sites/rh_S_collat_transv_ant_thickness/\n",
      "   creating: lifespan_57K_82sites/rh_S_collat_transv_ant_thickness/Models/\n",
      "  inflating: lifespan_57K_82sites/rh_S_collat_transv_ant_thickness/Models/meta_data.md  \n",
      "  inflating: lifespan_57K_82sites/rh_S_collat_transv_ant_thickness/Models/NM_0_0_estimate.pkl  \n",
      "   creating: lifespan_57K_82sites/lh_G_temporal_inf_thickness/\n",
      "   creating: lifespan_57K_82sites/lh_G_temporal_inf_thickness/Models/\n",
      "  inflating: lifespan_57K_82sites/lh_G_temporal_inf_thickness/Models/meta_data.md  \n",
      "  inflating: lifespan_57K_82sites/lh_G_temporal_inf_thickness/Models/NM_0_0_estimate.pkl  \n",
      "   creating: lifespan_57K_82sites/rh_S_oc_sup&transversal_thickness/\n",
      "   creating: lifespan_57K_82sites/rh_S_oc_sup&transversal_thickness/Models/\n",
      "  inflating: lifespan_57K_82sites/rh_S_oc_sup&transversal_thickness/Models/meta_data.md  \n",
      "  inflating: lifespan_57K_82sites/rh_S_oc_sup&transversal_thickness/Models/NM_0_0_estimate.pkl  \n",
      "   creating: lifespan_57K_82sites/rh_G_pariet_inf-Angular_thickness/\n",
      "   creating: lifespan_57K_82sites/rh_G_pariet_inf-Angular_thickness/Models/\n",
      "  inflating: lifespan_57K_82sites/rh_G_pariet_inf-Angular_thickness/Models/meta_data.md  \n",
      "  inflating: lifespan_57K_82sites/rh_G_pariet_inf-Angular_thickness/Models/NM_0_0_estimate.pkl  \n",
      "   creating: lifespan_57K_82sites/lh_Lat_Fis-post_thickness/\n",
      "   creating: lifespan_57K_82sites/lh_Lat_Fis-post_thickness/Models/\n",
      "  inflating: lifespan_57K_82sites/lh_Lat_Fis-post_thickness/Models/meta_data.md  \n",
      "  inflating: lifespan_57K_82sites/lh_Lat_Fis-post_thickness/Models/NM_0_0_estimate.pkl  \n",
      "   creating: lifespan_57K_82sites/rh_Lat_Fis-post_thickness/\n",
      "   creating: lifespan_57K_82sites/rh_Lat_Fis-post_thickness/Models/\n",
      "  inflating: lifespan_57K_82sites/rh_Lat_Fis-post_thickness/Models/meta_data.md  \n",
      "  inflating: lifespan_57K_82sites/rh_Lat_Fis-post_thickness/Models/NM_0_0_estimate.pkl  \n",
      "   creating: lifespan_57K_82sites/Right-vessel/\n",
      "   creating: lifespan_57K_82sites/Right-vessel/Models/\n",
      "  inflating: lifespan_57K_82sites/Right-vessel/Models/meta_data.md  \n",
      "  inflating: lifespan_57K_82sites/Right-vessel/Models/NM_0_0_estimate.pkl  \n",
      "   creating: lifespan_57K_82sites/Left-VentralDC/\n",
      "   creating: lifespan_57K_82sites/Left-VentralDC/Models/\n",
      "  inflating: lifespan_57K_82sites/Left-VentralDC/Models/meta_data.md  \n",
      "  inflating: lifespan_57K_82sites/Left-VentralDC/Models/NM_0_0_estimate.pkl  \n",
      "   creating: lifespan_57K_82sites/rh_S_oc-temp_med&Lingual_thickness/\n",
      "   creating: lifespan_57K_82sites/rh_S_oc-temp_med&Lingual_thickness/Models/\n",
      "  inflating: lifespan_57K_82sites/rh_S_oc-temp_med&Lingual_thickness/Models/meta_data.md  \n",
      "  inflating: lifespan_57K_82sites/rh_S_oc-temp_med&Lingual_thickness/Models/NM_0_0_estimate.pkl  \n",
      "   creating: lifespan_57K_82sites/Left-Cerebellum-Cortex/\n",
      "   creating: lifespan_57K_82sites/Left-Cerebellum-Cortex/Models/\n",
      "  inflating: lifespan_57K_82sites/Left-Cerebellum-Cortex/Models/meta_data.md  \n",
      "  inflating: lifespan_57K_82sites/Left-Cerebellum-Cortex/Models/NM_0_0_estimate.pkl  \n",
      "   creating: lifespan_57K_82sites/lh_S_oc_sup&transversal_thickness/\n",
      "   creating: lifespan_57K_82sites/lh_S_oc_sup&transversal_thickness/Models/\n",
      "  inflating: lifespan_57K_82sites/lh_S_oc_sup&transversal_thickness/Models/meta_data.md  \n",
      "  inflating: lifespan_57K_82sites/lh_S_oc_sup&transversal_thickness/Models/NM_0_0_estimate.pkl  \n",
      "   creating: lifespan_57K_82sites/lh_G_pariet_inf-Angular_thickness/\n",
      "   creating: lifespan_57K_82sites/lh_G_pariet_inf-Angular_thickness/Models/\n",
      "  inflating: lifespan_57K_82sites/lh_G_pariet_inf-Angular_thickness/Models/meta_data.md  \n",
      "  inflating: lifespan_57K_82sites/lh_G_pariet_inf-Angular_thickness/Models/NM_0_0_estimate.pkl  \n",
      "   creating: lifespan_57K_82sites/lh_S_central_thickness/\n",
      "   creating: lifespan_57K_82sites/lh_S_central_thickness/Models/\n",
      "  inflating: lifespan_57K_82sites/lh_S_central_thickness/Models/meta_data.md  \n",
      "  inflating: lifespan_57K_82sites/lh_S_central_thickness/Models/NM_0_0_estimate.pkl  \n",
      "   creating: lifespan_57K_82sites/rh_G_oc-temp_med-Lingual_thickness/\n",
      "   creating: lifespan_57K_82sites/rh_G_oc-temp_med-Lingual_thickness/Models/\n",
      "  inflating: lifespan_57K_82sites/rh_G_oc-temp_med-Lingual_thickness/Models/meta_data.md  \n",
      "  inflating: lifespan_57K_82sites/rh_G_oc-temp_med-Lingual_thickness/Models/NM_0_0_estimate.pkl  \n",
      "   creating: lifespan_57K_82sites/rh_G_occipital_middle_thickness/\n",
      "   creating: lifespan_57K_82sites/rh_G_occipital_middle_thickness/Models/\n",
      "  inflating: lifespan_57K_82sites/rh_G_occipital_middle_thickness/Models/meta_data.md  \n",
      "  inflating: lifespan_57K_82sites/rh_G_occipital_middle_thickness/Models/NM_0_0_estimate.pkl  \n",
      "   creating: lifespan_57K_82sites/lh_S_parieto_occipital_thickness/\n",
      "   creating: lifespan_57K_82sites/lh_S_parieto_occipital_thickness/Models/\n",
      "  inflating: lifespan_57K_82sites/lh_S_parieto_occipital_thickness/Models/meta_data.md  \n",
      "  inflating: lifespan_57K_82sites/lh_S_parieto_occipital_thickness/Models/NM_0_0_estimate.pkl  \n",
      "   creating: lifespan_57K_82sites/Left-Amygdala/\n",
      "   creating: lifespan_57K_82sites/Left-Amygdala/Models/\n",
      "  inflating: lifespan_57K_82sites/Left-Amygdala/Models/meta_data.md  \n",
      "  inflating: lifespan_57K_82sites/Left-Amygdala/Models/NM_0_0_estimate.pkl  \n",
      "   creating: lifespan_57K_82sites/rh_S_temporal_sup_thickness/\n",
      "   creating: lifespan_57K_82sites/rh_S_temporal_sup_thickness/Models/\n",
      "  inflating: lifespan_57K_82sites/rh_S_temporal_sup_thickness/Models/meta_data.md  \n",
      "  inflating: lifespan_57K_82sites/rh_S_temporal_sup_thickness/Models/NM_0_0_estimate.pkl  \n",
      "   creating: lifespan_57K_82sites/rh_S_front_sup_thickness/\n",
      "   creating: lifespan_57K_82sites/rh_S_front_sup_thickness/Models/\n",
      "  inflating: lifespan_57K_82sites/rh_S_front_sup_thickness/Models/meta_data.md  \n",
      "  inflating: lifespan_57K_82sites/rh_S_front_sup_thickness/Models/NM_0_0_estimate.pkl  \n",
      "   creating: lifespan_57K_82sites/rh_G_cingul-Post-dorsal_thickness/\n",
      "   creating: lifespan_57K_82sites/rh_G_cingul-Post-dorsal_thickness/Models/\n",
      "  inflating: lifespan_57K_82sites/rh_G_cingul-Post-dorsal_thickness/Models/meta_data.md  \n",
      "  inflating: lifespan_57K_82sites/rh_G_cingul-Post-dorsal_thickness/Models/NM_0_0_estimate.pkl  \n"
     ]
    }
   ],
   "source": [
    "# Unzip the training data set\n",
    "# we will use the biggest sample as our training set (approx. N=57000 subjects from 82 sites)\n",
    "# for more info on the other pretrained models available in this repository,\n",
    "# please refer to the accompanying preprint https://www.biorxiv.org/content/10.1101/2021.08.08.455487v2\n",
    "! unzip lifespan_57K_82sites.zip"
   ]
  },
  {
   "cell_type": "markdown",
   "id": "802b1da6-04cc-4310-af81-f50d38c3e653",
   "metadata": {
    "id": "802b1da6-04cc-4310-af81-f50d38c3e653"
   },
   "source": [
    "Next, we configure some basic variables, like where we want the analysis to be done and which model we want to use.\n",
    "\n",
    "**Note:** We maintain a list of site ids for each dataset, which describe the site names in the training and test data (`site_ids_tr` and `site_ids_te`), plus also the adaptation data . The training site ids are provided as a text file in the distribution and the test ids are extracted automatically from the pandas dataframe (see below). If you use additional data from the sites (e.g. later waves from ABCD), it may be necessary to adjust the site names to match the names in the training set. See the accompanying [paper](https://www.biorxiv.org/content/10.1101/2021.08.08.455487v2) for more details."
   ]
  },
  {
   "cell_type": "code",
   "execution_count": 6,
   "id": "26b35c64-41fd-4ecd-bf6e-3e7b34a67279",
   "metadata": {
    "id": "26b35c64-41fd-4ecd-bf6e-3e7b34a67279"
   },
   "outputs": [],
   "source": [
    "# which model do we wish to use?\n",
    "model_name = 'lifespan_57K_82sites'\n",
    "site_names = 'site_ids_ct_82sites.txt'\n",
    "\n",
    "# where the analysis takes place\n",
    "root_dir = os.path.join(base_dir,'braincharts')\n",
    "out_dir = os.path.join(root_dir, 'models', model_name)\n",
    "\n",
    "# load a set of site ids from this model. This must match the training data\n",
    "with open(os.path.join(root_dir,'docs', site_names)) as f:\n",
    "    site_ids_tr = f.read().splitlines()"
   ]
  },
  {
   "cell_type": "markdown",
   "id": "8dbaebd7-4f86-47d8-82a5-1776eb96690f",
   "metadata": {
    "id": "8dbaebd7-4f86-47d8-82a5-1776eb96690f"
   },
   "source": [
    "### Download test dataset\n",
    "\n",
    "As mentioned above, to demonstrate this tool we will use a test dataset derived from the FCON 1000 dataset. We provide a prepackaged training/test split of these data in the required format (also after removing sites with only a few data points), [here](https://github.com/predictive-clinical-neuroscience/PCNtoolkit-demo/tree/main/data). you can get these data by running the following commmands:"
   ]
  },
  {
   "cell_type": "code",
   "execution_count": 8,
   "id": "60f72165-9b2f-4248-ba72-1a1f9683d280",
   "metadata": {
    "colab": {
     "base_uri": "https://localhost:8080/"
    },
    "id": "60f72165-9b2f-4248-ba72-1a1f9683d280",
    "outputId": "24a79c43-7ae3-4e75-843a-c16b49a3a709"
   },
   "outputs": [
    {
     "name": "stdout",
     "output_type": "stream",
     "text": [
      "--2024-05-29 11:11:18--  https://raw.githubusercontent.com/saigerutherford/CPC_ML_tutorial/master/data/fcon1000_tr.csv\n",
      "Resolving raw.githubusercontent.com (raw.githubusercontent.com)... 185.199.110.133, 185.199.111.133, 185.199.108.133, ...\n",
      "Connecting to raw.githubusercontent.com (raw.githubusercontent.com)|185.199.110.133|:443... connected.\n",
      "HTTP request sent, awaiting response... 200 OK\n",
      "Length: 786940 (768K) [text/plain]\n",
      "Saving to: ‘fcon1000_tr.csv’\n",
      "\n",
      "fcon1000_tr.csv     100%[===================>] 768,50K  --.-KB/s    in 0,1s    \n",
      "\n",
      "2024-05-29 11:11:19 (5,63 MB/s) - ‘fcon1000_tr.csv’ saved [786940/786940]\n",
      "\n",
      "--2024-05-29 11:11:19--  https://raw.githubusercontent.com/saigerutherford/CPC_ML_tutorial/master/data/fcon1000_te.csv\n",
      "Resolving raw.githubusercontent.com (raw.githubusercontent.com)... 185.199.110.133, 185.199.111.133, 185.199.108.133, ...\n",
      "Connecting to raw.githubusercontent.com (raw.githubusercontent.com)|185.199.110.133|:443... connected.\n",
      "HTTP request sent, awaiting response... 200 OK\n",
      "Length: 917069 (896K) [text/plain]\n",
      "Saving to: ‘fcon1000_te.csv’\n",
      "\n",
      "fcon1000_te.csv     100%[===================>] 895,58K  --.-KB/s    in 0,1s    \n",
      "\n",
      "2024-05-29 11:11:20 (6,35 MB/s) - ‘fcon1000_te.csv’ saved [917069/917069]\n",
      "\n"
     ]
    }
   ],
   "source": [
    "os.chdir(root_dir)\n",
    "!wget -nc https://raw.githubusercontent.com/saigerutherford/CPC_ML_tutorial/master/data/fcon1000_tr.csv\n",
    "!wget -nc https://raw.githubusercontent.com/saigerutherford/CPC_ML_tutorial/master/data/fcon1000_te.csv"
   ]
  },
  {
   "cell_type": "markdown",
   "id": "3aab54a5-2579-48d8-a81b-bbd34cea1213",
   "metadata": {
    "id": "3aab54a5-2579-48d8-a81b-bbd34cea1213"
   },
   "source": [
    "### Load test data\n",
    "\n",
    "Now we load the test data and remove some subjects that may have poor scan quality. This asssesment is based on the Freesurfer Euler characteristic as described in the papers below.\n",
    "\n",
    "**Note:** For the purposes of this tutorial, we make predictions for all sites in the FCON 1000 dataset, but two of them were also included in the training data (named 'Baltimore' and 'NewYork_a'). In this case, this will only slightly bias the accuracy, but in order to replicate the results in the paper, it would be necessary to additionally remove these sites from the test dataframe.\n",
    "\n",
    "**References**\n",
    "- [Kia et al 2021](https://www.biorxiv.org/content/10.1101/2021.05.28.446120v1.abstract)\n",
    "- [Rosen et al 2018](https://www.sciencedirect.com/science/article/abs/pii/S1053811917310832?via%3Dihub)"
   ]
  },
  {
   "cell_type": "code",
   "execution_count": 7,
   "id": "262d429a-160b-4ba3-9ba4-9acc195bc644",
   "metadata": {
    "colab": {
     "base_uri": "https://localhost:8080/"
    },
    "id": "262d429a-160b-4ba3-9ba4-9acc195bc644",
    "outputId": "f79e6635-dc8f-4249-d2d2-92eeea205ac9"
   },
   "outputs": [
    {
     "name": "stdout",
     "output_type": "stream",
     "text": [
      "18 subjects are removed!\n"
     ]
    }
   ],
   "source": [
    "test_data = os.path.join(root_dir, 'fcon1000_te.csv')\n",
    "\n",
    "df_te = pd.read_csv(test_data, index_col=0)\n",
    "\n",
    "# remove some bad subjects\n",
    "df_te, bad_sub = remove_bad_subjects(df_te, df_te)\n",
    "\n",
    "# extract a list of unique site ids from the test set\n",
    "site_ids_te =  sorted(set(df_te['site'].to_list()))"
   ]
  },
  {
   "cell_type": "markdown",
   "id": "c636509a-8b12-43f1-811c-08cb22640be2",
   "metadata": {
    "id": "c636509a-8b12-43f1-811c-08cb22640be2"
   },
   "source": [
    "### Load adaptation data\n",
    "\n",
    "If the data you wish to make predictions for is not derived from the same scanning sites as those in the trainig set, it is necessary to learn the site effect so that we can account for it in the predictions. In order to do this in an unbiased way, we use a separate dataset, which we refer to as 'adaptation' data. This must contain data for all the same sites as in the test dataset and we assume these are coded in the same way, based on a the 'sitenum' column in the dataframe."
   ]
  },
  {
   "cell_type": "code",
   "execution_count": 8,
   "id": "53551023-aff6-4934-ad2d-d77bc63c562d",
   "metadata": {
    "colab": {
     "base_uri": "https://localhost:8080/"
    },
    "id": "53551023-aff6-4934-ad2d-d77bc63c562d",
    "outputId": "2ee19f75-872e-4256-c32a-92ec8ac6855a"
   },
   "outputs": [
    {
     "name": "stdout",
     "output_type": "stream",
     "text": [
      "10 subjects are removed!\n"
     ]
    }
   ],
   "source": [
    "adaptation_data = os.path.join(root_dir, 'fcon1000_tr.csv')\n",
    "\n",
    "df_ad = pd.read_csv(adaptation_data, index_col=0)\n",
    "\n",
    "# remove some bad subjects\n",
    "df_ad, bad_sub = remove_bad_subjects(df_ad, df_ad)\n",
    "\n",
    "# extract a list of unique site ids from the test set\n",
    "site_ids_ad =  sorted(set(df_ad['site'].to_list()))\n",
    "\n",
    "if not all(elem in site_ids_ad for elem in site_ids_te):\n",
    "    print('Warning: some of the testing sites are not in the adaptation data')"
   ]
  },
  {
   "cell_type": "markdown",
   "id": "4f73e30e-c693-44b8-98c6-52b71b577ea8",
   "metadata": {
    "id": "4f73e30e-c693-44b8-98c6-52b71b577ea8"
   },
   "source": [
    "### Configure which models to fit\n",
    "\n",
    "Now, we configure which imaging derived phenotypes (IDPs) we would like to process. This is just a list of column names in the dataframe we have loaded above.\n",
    "\n",
    "We could load the whole set i.e., all phenotypes for which we have models for (188 brain regions)."
   ]
  },
  {
   "cell_type": "code",
   "execution_count": 9,
   "id": "b48e104c-cbac-4ae2-8377-cd3ff80162fd",
   "metadata": {
    "id": "b48e104c-cbac-4ae2-8377-cd3ff80162fd"
   },
   "outputs": [],
   "source": [
    "# load the list of idps for left and right hemispheres, plus subcortical regions\n",
    "with open(os.path.join(root_dir,'docs','phenotypes_ct_lh.txt')) as f:\n",
    "    idp_ids_lh = f.read().splitlines()\n",
    "with open(os.path.join(root_dir,'docs','phenotypes_ct_rh.txt')) as f:\n",
    "    idp_ids_rh = f.read().splitlines()\n",
    "with open(os.path.join(root_dir,'docs','phenotypes_sc.txt')) as f:\n",
    "    idp_ids_sc = f.read().splitlines()\n",
    "\n",
    "# we choose here to process all idps\n",
    "idp_ids = idp_ids_lh + idp_ids_rh + idp_ids_sc"
   ]
  },
  {
   "cell_type": "markdown",
   "id": "280731ad-47d8-43e2-8cb5-4eccfd9f3f81",
   "metadata": {
    "id": "280731ad-47d8-43e2-8cb5-4eccfd9f3f81"
   },
   "source": [
    "... or alternatively, we could just specify a list of the brain regions we are interested in."
   ]
  },
  {
   "cell_type": "code",
   "execution_count": 10,
   "id": "8b74d75f-77a5-474a-9c9b-29aab1ce53a2",
   "metadata": {
    "id": "8b74d75f-77a5-474a-9c9b-29aab1ce53a2"
   },
   "outputs": [],
   "source": [
    "idp_ids = [ 'Left-Thalamus-Proper', 'Left-Lateral-Ventricle', 'rh_MeanThickness_thickness']"
   ]
  },
  {
   "cell_type": "markdown",
   "id": "56ee1f7f-8684-4f1c-b142-a68176407029",
   "metadata": {
    "id": "56ee1f7f-8684-4f1c-b142-a68176407029"
   },
   "source": [
    "### Configure covariates\n",
    "\n",
    "Now, we configure some parameters to fit the model. First, we choose which columns of the pandas dataframe contain the covariates (age and sex). The site parameters are configured automatically later on by the `configure_design_matrix()` function, when we loop through the IDPs in the list\n",
    "\n",
    "The supplied coefficients are derived from a 'warped' Bayesian linear regression model, which uses a nonlinear warping function to model non-Gaussianity (`sinarcsinh`) plus a non-linear basis expansion (a cubic b-spline basis set with 5 knot points, which is the default value in the PCNtoolkit package). Since we are sticking with the default value, we do not need to specify any parameters for this, but we do need to specify the limits. We choose to pad the input by a few years either side of the input range. We will also set a couple of options that control the estimation of the model\n",
    "\n",
    "For further details about the likelihood warping approach, see the accompanying paper and [Fraza et al 2021](https://www.biorxiv.org/content/10.1101/2021.04.05.438429v1)."
   ]
  },
  {
   "cell_type": "code",
   "execution_count": 11,
   "id": "62312b8e-4972-4238-abf9-87d9bb33cc10",
   "metadata": {
    "id": "62312b8e-4972-4238-abf9-87d9bb33cc10"
   },
   "outputs": [],
   "source": [
    "# which data columns do we wish to use as covariates?\n",
    "cols_cov = ['age','sex']\n",
    "\n",
    "# limits for cubic B-spline basis\n",
    "xmin = -5\n",
    "xmax = 110\n",
    "\n",
    "# Absolute Z treshold above which a sample is considered to be an outlier (without fitting any model)\n",
    "outlier_thresh = 7"
   ]
  },
  {
   "cell_type": "markdown",
   "id": "42bc1072-e9ed-4f2a-9fdd-cbd626a61542",
   "metadata": {
    "id": "42bc1072-e9ed-4f2a-9fdd-cbd626a61542"
   },
   "source": [
    "### Make predictions\n",
    "\n",
    "This will make predictions for each IDP separately. This is done by extracting a column from the dataframe (i.e. specifying the IDP as the response variable) and saving it as a numpy array. Then, we configure the covariates, which is a numpy data array having the number of rows equal to the number of datapoints in the test set. The columns are specified as follows:\n",
    "\n",
    "- A global intercept (column of ones)\n",
    "- The covariate columns (here age and sex, coded as 0=female/1=male)\n",
    "- Dummy coded columns for the sites in the training set (one column per site)\n",
    "- Columns for the basis expansion (seven columns for the default parameterisation)\n",
    "\n",
    "Once these are saved as numpy arrays in ascii format (as here) or (alternatively) in pickle format, these are passed as inputs to the `predict()` method in the PCNtoolkit normative modelling framework. These are written in the same format to the location specified by `idp_dir`. At the end of this step, we have a set of predictions and Z-statistics for the test dataset that we can take forward to further analysis.\n",
    "\n",
    "Note that when we need to make predictions on new data, the procedure is more involved, since we need to prepare, process and store covariates, response variables and site ids for the adaptation data."
   ]
  },
  {
   "cell_type": "code",
   "execution_count": 12,
   "id": "07b7471b-c334-464f-8273-b409b7acaac2",
   "metadata": {
    "colab": {
     "base_uri": "https://localhost:8080/"
    },
    "id": "07b7471b-c334-464f-8273-b409b7acaac2",
    "outputId": "8f75110f-3228-4e39-be3d-20d5baeb1bcd"
   },
   "outputs": [
    {
     "name": "stdout",
     "output_type": "stream",
     "text": [
      "Running IDP 0 Left-Thalamus-Proper :\n",
      "Some sites missing from the training data. Adapting model\n",
      "Loading data ...\n",
      "Prediction by model  1 of 1\n",
      "Evaluating the model ...\n",
      "Evaluations Writing outputs ...\n",
      "Writing outputs ...\n",
      "Running IDP 1 Left-Lateral-Ventricle :\n",
      "Some sites missing from the training data. Adapting model\n",
      "Loading data ...\n",
      "Prediction by model  1 of 1\n",
      "Evaluating the model ...\n",
      "Evaluations Writing outputs ...\n",
      "Writing outputs ...\n",
      "Running IDP 2 rh_MeanThickness_thickness :\n",
      "Some sites missing from the training data. Adapting model\n",
      "Loading data ...\n",
      "Prediction by model  1 of 1\n",
      "Evaluating the model ...\n",
      "Evaluations Writing outputs ...\n",
      "Writing outputs ...\n"
     ]
    }
   ],
   "source": [
    "for idp_num, idp in enumerate(idp_ids):\n",
    "    print('Running IDP', idp_num, idp, ':')\n",
    "    idp_dir = os.path.join(out_dir, idp)\n",
    "    os.chdir(idp_dir)\n",
    "\n",
    "    # extract and save the response variables for the test set\n",
    "    y_te = df_te[idp].to_numpy()\n",
    "\n",
    "    # save the variables\n",
    "    resp_file_te = os.path.join(idp_dir, 'resp_te.txt')\n",
    "    np.savetxt(resp_file_te, y_te)\n",
    "\n",
    "    # configure and save the design matrix\n",
    "    cov_file_te = os.path.join(idp_dir, 'cov_bspline_te.txt')\n",
    "    X_te = create_design_matrix(df_te[cols_cov],\n",
    "                                site_ids = df_te['site'],\n",
    "                                all_sites = site_ids_tr,\n",
    "                                basis = 'bspline',\n",
    "                                xmin = xmin,\n",
    "                                xmax = xmax)\n",
    "    np.savetxt(cov_file_te, X_te)\n",
    "\n",
    "    # check whether all sites in the test set are represented in the training set\n",
    "    if all(elem in site_ids_tr for elem in site_ids_te):\n",
    "        print('All sites are present in the training data')\n",
    "\n",
    "        # just make predictions\n",
    "        yhat_te, s2_te, Z = predict(cov_file_te,\n",
    "                                    alg='blr',\n",
    "                                    respfile=resp_file_te,\n",
    "                                    model_path=os.path.join(idp_dir,'Models'))\n",
    "    else:\n",
    "        print('Some sites missing from the training data. Adapting model')\n",
    "\n",
    "        # save the covariates for the adaptation data\n",
    "        X_ad = create_design_matrix(df_ad[cols_cov],\n",
    "                                    site_ids = df_ad['site'],\n",
    "                                    all_sites = site_ids_tr,\n",
    "                                    basis = 'bspline',\n",
    "                                    xmin = xmin,\n",
    "                                    xmax = xmax)\n",
    "        cov_file_ad = os.path.join(idp_dir, 'cov_bspline_ad.txt')\n",
    "        np.savetxt(cov_file_ad, X_ad)\n",
    "\n",
    "        # save the responses for the adaptation data\n",
    "        resp_file_ad = os.path.join(idp_dir, 'resp_ad.txt')\n",
    "        y_ad = df_ad[idp].to_numpy()\n",
    "        np.savetxt(resp_file_ad, y_ad)\n",
    "\n",
    "        # save the site ids for the adaptation data\n",
    "        sitenum_file_ad = os.path.join(idp_dir, 'sitenum_ad.txt')\n",
    "        site_num_ad = df_ad['sitenum'].to_numpy(dtype=int)\n",
    "        np.savetxt(sitenum_file_ad, site_num_ad)\n",
    "\n",
    "        # save the site ids for the test data\n",
    "        sitenum_file_te = os.path.join(idp_dir, 'sitenum_te.txt')\n",
    "        site_num_te = df_te['sitenum'].to_numpy(dtype=int)\n",
    "        np.savetxt(sitenum_file_te, site_num_te)\n",
    "\n",
    "        yhat_te, s2_te, Z = predict(cov_file_te,\n",
    "                                    alg = 'blr',\n",
    "                                    respfile = resp_file_te,\n",
    "                                    model_path = os.path.join(idp_dir,'Models'),\n",
    "                                    adaptrespfile = resp_file_ad,\n",
    "                                    adaptcovfile = cov_file_ad,\n",
    "                                    adaptvargroupfile = sitenum_file_ad,\n",
    "                                    testvargroupfile = sitenum_file_te)"
   ]
  },
  {
   "cell_type": "markdown",
   "id": "75210821-ccb8-4bd2-82f3-641708811b21",
   "metadata": {
    "id": "75210821-ccb8-4bd2-82f3-641708811b21"
   },
   "source": [
    "### Preparing dummy data for plotting\n",
    "\n",
    "Now, we plot the centiles of variation estimated by the normative model.\n",
    "\n",
    "We do this by making use of a set of dummy covariates that span the whole range of the input space (for age) for a fixed value of the other covariates (e.g. sex) so that we can make predictions for these dummy data points, then plot them. We configure these dummy predictions using the same procedure as we used for the real data. We can use the same dummy data for all the IDPs we wish to plot"
   ]
  },
  {
   "cell_type": "code",
   "execution_count": 13,
   "id": "2d0743d8-28ca-4a14-8ef0-99bf40434b5b",
   "metadata": {
    "colab": {
     "base_uri": "https://localhost:8080/"
    },
    "id": "2d0743d8-28ca-4a14-8ef0-99bf40434b5b",
    "outputId": "2893db72-c01a-4de3-a8af-b3fd58b7eff5"
   },
   "outputs": [
    {
     "name": "stdout",
     "output_type": "stream",
     "text": [
      "configuring dummy data ...\n"
     ]
    }
   ],
   "source": [
    "# which sex do we want to plot?\n",
    "sex = 1 # 1 = male 0 = female\n",
    "if sex == 1:\n",
    "    clr = 'blue';\n",
    "else:\n",
    "    clr = 'red'\n",
    "\n",
    "# create dummy data for visualisation\n",
    "print('configuring dummy data ...')\n",
    "xx = np.arange(xmin, xmax, 0.5)\n",
    "X0_dummy = np.zeros((len(xx), 2))\n",
    "X0_dummy[:,0] = xx\n",
    "X0_dummy[:,1] = sex\n",
    "\n",
    "# create the design matrix\n",
    "X_dummy = create_design_matrix(X0_dummy, xmin=xmin, xmax=xmax, site_ids=None, all_sites=site_ids_tr)\n",
    "\n",
    "# save the dummy covariates\n",
    "cov_file_dummy = os.path.join(out_dir,'cov_bspline_dummy_mean.txt')\n",
    "np.savetxt(cov_file_dummy, X_dummy)"
   ]
  },
  {
   "cell_type": "markdown",
   "id": "126323a3-2270-4796-97c4-94629730ddf7",
   "metadata": {
    "id": "126323a3-2270-4796-97c4-94629730ddf7"
   },
   "source": [
    "### Plotting the normative models\n",
    "\n",
    "Now we loop through the IDPs, plotting each one separately. The outputs of this step are a set of quantitative regression metrics for each IDP and a set of centile curves which we plot the test data against.\n",
    "\n",
    "This part of the code is relatively complex because we need to keep track of many quantities for the plotting. We also need to remember whether the data need to be warped or not. By default in PCNtoolkit, predictions in the form of `yhat, s2` are always in the warped (Gaussian) space. If we want predictions in the input (non-Gaussian) space, then we need to warp them with the inverse of the estimated warping function. This can be done using the function `nm.blr.warp.warp_predictions()`.\n",
    "\n",
    "**Note:** it is necessary to update the intercept for each of the sites. For purposes of visualisation, here we do this by adjusting the median of the data to match the dummy predictions, but note that all the quantitative metrics are estimated using the predictions that are adjusted properly using a learned offset (or adjusted using a hold-out adaptation set, as above). Note also that for the calibration data we require at least two data points of the same sex in each site to be able to estimate the variance. Of course, in a real example, you would want many more than just two since we need to get a reliable estimate of the variance for each site."
   ]
  },
  {
   "cell_type": "code",
   "execution_count": 14,
   "id": "cdd68cc6-212b-4149-b86a-24e842078e1a",
   "metadata": {
    "colab": {
     "base_uri": "https://localhost:8080/",
     "height": 1000
    },
    "id": "cdd68cc6-212b-4149-b86a-24e842078e1a",
    "outputId": "2d8efd88-4a09-47b1-a77d-030f539a4126"
   },
   "outputs": [
    {
     "name": "stdout",
     "output_type": "stream",
     "text": [
      "Running IDP 0 Left-Thalamus-Proper :\n",
      "Making predictions with dummy covariates (for visualisation)\n",
      "Loading data ...\n",
      "Prediction by model  1 of 1\n",
      "Writing outputs ...\n",
      "metrics: {'RMSE': array([726.48317195]), 'Rho': array([0.59731052]), 'pRho': array([8.60453496e-67]), 'SMSE': array([0.65540482]), 'EXPV': array([0.35329491])}\n",
      "Insufficent data for site 9 Cleveland skipping...\n",
      "Insufficent data for site 19 PaloAlto skipping...\n"
     ]
    },
    {
     "data": {
      "image/png": "[encoded data removed]",
      "text/plain": [
       "<Figure size 640x480 with 1 Axes>"
      ]
     },
     "metadata": {},
     "output_type": "display_data"
    },
    {
     "name": "stdout",
     "output_type": "stream",
     "text": [
      "Running IDP 1 Left-Lateral-Ventricle :\n",
      "Making predictions with dummy covariates (for visualisation)\n",
      "Loading data ...\n",
      "Prediction by model  1 of 1\n",
      "Writing outputs ...\n",
      "metrics: {'RMSE': array([4721.02739666]), 'Rho': array([0.36854182]), 'pRho': array([3.2754096e-22]), 'SMSE': array([0.90563702]), 'EXPV': array([0.13491379])}\n",
      "Insufficent data for site 9 Cleveland skipping...\n",
      "Insufficent data for site 19 PaloAlto skipping...\n"
     ]
    },
    {
     "data": {
      "image/png": "[encoded data removed]",
      "text/plain": [
       "<Figure size 640x480 with 1 Axes>"
      ]
     },
     "metadata": {},
     "output_type": "display_data"
    },
    {
     "name": "stdout",
     "output_type": "stream",
     "text": [
      "Running IDP 2 rh_MeanThickness_thickness :\n",
      "Making predictions with dummy covariates (for visualisation)\n",
      "Loading data ...\n",
      "Prediction by model  1 of 1\n",
      "Writing outputs ...\n",
      "metrics: {'RMSE': array([0.07451234]), 'Rho': array([0.62880991]), 'pRho': array([1.17309752e-76]), 'SMSE': array([0.62073281]), 'EXPV': array([0.38835322])}\n",
      "Insufficent data for site 9 Cleveland skipping...\n",
      "Insufficent data for site 19 PaloAlto skipping...\n"
     ]
    },
    {
     "data": {
      "image/png": "[encoded data removed]",
      "text/plain": [
       "<Figure size 640x480 with 1 Axes>"
      ]
     },
     "metadata": {},
     "output_type": "display_data"
    }
   ],
   "source": [
    "sns.set(style='whitegrid')\n",
    "\n",
    "for idp_num, idp in enumerate(idp_ids):\n",
    "    print('Running IDP', idp_num, idp, ':')\n",
    "    idp_dir = os.path.join(out_dir, idp)\n",
    "    os.chdir(idp_dir)\n",
    "\n",
    "    # load the true data points\n",
    "    yhat_te = load_2d(os.path.join(idp_dir, 'yhat_predict.txt'))\n",
    "    s2_te = load_2d(os.path.join(idp_dir, 'ys2_predict.txt'))\n",
    "    y_te = load_2d(os.path.join(idp_dir, 'resp_te.txt'))\n",
    "\n",
    "    # set up the covariates for the dummy data\n",
    "    print('Making predictions with dummy covariates (for visualisation)')\n",
    "    yhat, s2 = predict(cov_file_dummy,\n",
    "                       alg = 'blr',\n",
    "                       respfile = None,\n",
    "                       model_path = os.path.join(idp_dir,'Models'),\n",
    "                       outputsuffix = '_dummy')\n",
    "\n",
    "    # load the normative model\n",
    "    with open(os.path.join(idp_dir,'Models', 'NM_0_0_estimate.pkl'), 'rb') as handle:\n",
    "        nm = pickle.load(handle)\n",
    "\n",
    "    # get the warp and warp parameters\n",
    "    W = nm.blr.warp\n",
    "    warp_param = nm.blr.hyp[1:nm.blr.warp.get_n_params()+1]\n",
    "\n",
    "    # first, we warp predictions for the true data and compute evaluation metrics\n",
    "    med_te = W.warp_predictions(np.squeeze(yhat_te), np.squeeze(s2_te), warp_param)[0]\n",
    "    med_te = med_te[:, np.newaxis]\n",
    "    print('metrics:', evaluate(y_te, med_te))\n",
    "\n",
    "    # then, we warp dummy predictions to create the plots\n",
    "    med, pr_int = W.warp_predictions(np.squeeze(yhat), np.squeeze(s2), warp_param)\n",
    "\n",
    "    # extract the different variance components to visualise\n",
    "    beta, junk1, junk2 = nm.blr._parse_hyps(nm.blr.hyp, X_dummy)\n",
    "    s2n = 1/beta # variation (aleatoric uncertainty)\n",
    "    s2s = s2-s2n # modelling uncertainty (epistemic uncertainty)\n",
    "\n",
    "    # plot the data points\n",
    "    y_te_rescaled_all = np.zeros_like(y_te)\n",
    "    for sid, site in enumerate(site_ids_te):\n",
    "        # plot the true test data points\n",
    "        if all(elem in site_ids_tr for elem in site_ids_te):\n",
    "            # all data in the test set are present in the training set\n",
    "\n",
    "            # first, we select the data points belonging to this particular site\n",
    "            idx = np.where(np.bitwise_and(X_te[:,2] == sex, X_te[:,sid+len(cols_cov)+1] !=0))[0]\n",
    "            if len(idx) == 0:\n",
    "                print('No data for site', sid, site, 'skipping...')\n",
    "                continue\n",
    "\n",
    "            # then directly adjust the data\n",
    "            idx_dummy = np.bitwise_and(X_dummy[:,1] > X_te[idx,1].min(), X_dummy[:,1] < X_te[idx,1].max())\n",
    "            y_te_rescaled = y_te[idx] - np.median(y_te[idx]) + np.median(med[idx_dummy])\n",
    "        else:\n",
    "            # we need to adjust the data based on the adaptation dataset\n",
    "\n",
    "            # first, select the data point belonging to this particular site\n",
    "            idx = np.where(np.bitwise_and(X_te[:,2] == sex, (df_te['site'] == site).to_numpy()))[0]\n",
    "\n",
    "            # load the adaptation data\n",
    "            y_ad = load_2d(os.path.join(idp_dir, 'resp_ad.txt'))\n",
    "            X_ad = load_2d(os.path.join(idp_dir, 'cov_bspline_ad.txt'))\n",
    "            idx_a = np.where(np.bitwise_and(X_ad[:,2] == sex, (df_ad['site'] == site).to_numpy()))[0]\n",
    "            if len(idx) < 2 or len(idx_a) < 2:\n",
    "                print('Insufficent data for site', sid, site, 'skipping...')\n",
    "                continue\n",
    "\n",
    "            # adjust and rescale the data\n",
    "            y_te_rescaled, s2_rescaled = nm.blr.predict_and_adjust(nm.blr.hyp,\n",
    "                                                                   X_ad[idx_a,:],\n",
    "                                                                   np.squeeze(y_ad[idx_a]),\n",
    "                                                                   Xs=None,\n",
    "                                                                   ys=np.squeeze(y_te[idx]))\n",
    "        # plot the (adjusted) data points\n",
    "        plt.scatter(X_te[idx,1], y_te_rescaled, s=4, color=clr, alpha = 0.1)\n",
    "\n",
    "    # plot the median of the dummy data\n",
    "    plt.plot(xx, med, clr)\n",
    "\n",
    "    # fill the gaps in between the centiles\n",
    "    junk, pr_int25 = W.warp_predictions(np.squeeze(yhat), np.squeeze(s2), warp_param, percentiles=[0.25,0.75])\n",
    "    junk, pr_int95 = W.warp_predictions(np.squeeze(yhat), np.squeeze(s2), warp_param, percentiles=[0.05,0.95])\n",
    "    junk, pr_int99 = W.warp_predictions(np.squeeze(yhat), np.squeeze(s2), warp_param, percentiles=[0.01,0.99])\n",
    "    plt.fill_between(xx, pr_int25[:,0], pr_int25[:,1], alpha = 0.1,color=clr)\n",
    "    plt.fill_between(xx, pr_int95[:,0], pr_int95[:,1], alpha = 0.1,color=clr)\n",
    "    plt.fill_between(xx, pr_int99[:,0], pr_int99[:,1], alpha = 0.1,color=clr)\n",
    "\n",
    "    # make the width of each centile proportional to the epistemic uncertainty\n",
    "    junk, pr_int25l = W.warp_predictions(np.squeeze(yhat), np.squeeze(s2-0.5*s2s), warp_param, percentiles=[0.25,0.75])\n",
    "    junk, pr_int95l = W.warp_predictions(np.squeeze(yhat), np.squeeze(s2-0.5*s2s), warp_param, percentiles=[0.05,0.95])\n",
    "    junk, pr_int99l = W.warp_predictions(np.squeeze(yhat), np.squeeze(s2-0.5*s2s), warp_param, percentiles=[0.01,0.99])\n",
    "    junk, pr_int25u = W.warp_predictions(np.squeeze(yhat), np.squeeze(s2+0.5*s2s), warp_param, percentiles=[0.25,0.75])\n",
    "    junk, pr_int95u = W.warp_predictions(np.squeeze(yhat), np.squeeze(s2+0.5*s2s), warp_param, percentiles=[0.05,0.95])\n",
    "    junk, pr_int99u = W.warp_predictions(np.squeeze(yhat), np.squeeze(s2+0.5*s2s), warp_param, percentiles=[0.01,0.99])\n",
    "    plt.fill_between(xx, pr_int25l[:,0], pr_int25u[:,0], alpha = 0.3,color=clr)\n",
    "    plt.fill_between(xx, pr_int95l[:,0], pr_int95u[:,0], alpha = 0.3,color=clr)\n",
    "    plt.fill_between(xx, pr_int99l[:,0], pr_int99u[:,0], alpha = 0.3,color=clr)\n",
    "    plt.fill_between(xx, pr_int25l[:,1], pr_int25u[:,1], alpha = 0.3,color=clr)\n",
    "    plt.fill_between(xx, pr_int95l[:,1], pr_int95u[:,1], alpha = 0.3,color=clr)\n",
    "    plt.fill_between(xx, pr_int99l[:,1], pr_int99u[:,1], alpha = 0.3,color=clr)\n",
    "\n",
    "    # plot actual centile lines\n",
    "    plt.plot(xx, pr_int25[:,0],color=clr, linewidth=0.5)\n",
    "    plt.plot(xx, pr_int25[:,1],color=clr, linewidth=0.5)\n",
    "    plt.plot(xx, pr_int95[:,0],color=clr, linewidth=0.5)\n",
    "    plt.plot(xx, pr_int95[:,1],color=clr, linewidth=0.5)\n",
    "    plt.plot(xx, pr_int99[:,0],color=clr, linewidth=0.5)\n",
    "    plt.plot(xx, pr_int99[:,1],color=clr, linewidth=0.5)\n",
    "\n",
    "    plt.xlabel('Age')\n",
    "    plt.ylabel(idp)\n",
    "    plt.title(idp)\n",
    "    plt.xlim((0,90))\n",
    "    plt.savefig(os.path.join(idp_dir, 'centiles_' + str(sex)),  bbox_inches='tight')\n",
    "    plt.show()\n",
    "\n",
    "os.chdir(out_dir)"
   ]
  },
  {
   "cell_type": "code",
   "execution_count": 15,
   "id": "OMUyOWOLmU1b",
   "metadata": {
    "colab": {
     "base_uri": "https://localhost:8080/"
    },
    "id": "OMUyOWOLmU1b",
    "outputId": "fec9ba1a-8133-4ee3-828b-9b46c4e71ef9"
   },
   "outputs": [
    {
     "name": "stdout",
     "output_type": "stream",
     "text": [
      "EXPV_predict.txt   Z_predict.txt      resp_ad.txt        yhat_predict.txt\n",
      "\u001b[34mModels\u001b[m\u001b[m             centiles_1.png     resp_te.txt        ys2_dummy.pkl\n",
      "RMSE_predict.txt   cov_bspline_ad.txt sitenum_ad.txt     ys2_predict.txt\n",
      "Rho_predict.txt    cov_bspline_te.txt sitenum_te.txt\n",
      "SMSE_predict.txt   pRho_predict.txt   yhat_dummy.pkl\n"
     ]
    }
   ],
   "source": [
    "# explore an example output folder of a single model (one ROI)\n",
    "# think about what each of these output files represents.\n",
    "# Hint: look at the variable names and comments in the code block above\n",
    "! ls rh_MeanThickness_thickness/"
   ]
  },
  {
   "cell_type": "code",
   "execution_count": 16,
   "id": "TJIFVhQ5zKBw",
   "metadata": {
    "colab": {
     "base_uri": "https://localhost:8080/"
    },
    "id": "TJIFVhQ5zKBw",
    "outputId": "bc8137b3-74fe-43de-d889-347bd89a8df8"
   },
   "outputs": [
    {
     "name": "stdout",
     "output_type": "stream",
     "text": [
      "     631     631   16052\n"
     ]
    }
   ],
   "source": [
    "# check that the number of deviation scores matches the number of subjects in the test set\n",
    "# there should be one deviation score per subject (one line per subject), so we can\n",
    "# verify by counting the line numbers in the Z_predict.txt file\n",
    "! cat rh_MeanThickness_thickness/Z_predict.txt | wc"
   ]
  },
  {
   "cell_type": "markdown",
   "id": "hZEs7Ej4-qGi",
   "metadata": {
    "id": "hZEs7Ej4-qGi"
   },
   "source": [
    "The deviation scores are output as a text file in separate folders. We want to summarize the deviation scores across all models estimates so we can organize them into a single file, and merge the deviation scores into the original data file."
   ]
  },
  {
   "cell_type": "code",
   "execution_count": 17,
   "id": "L-OauNfc5Jrx",
   "metadata": {
    "id": "L-OauNfc5Jrx"
   },
   "outputs": [],
   "source": [
    "! mkdir deviation_scores"
   ]
  },
  {
   "cell_type": "code",
   "execution_count": 18,
   "id": "ZEgnixDd5KgK",
   "metadata": {
    "id": "ZEgnixDd5KgK"
   },
   "outputs": [],
   "source": [
    "! for i in *; do if [[ -e ${i}/Z_predict.txt ]]; then cp ${i}/Z_predict.txt deviation_scores/${i}_Z_predict.txt; fi; done"
   ]
  },
  {
   "cell_type": "code",
   "execution_count": 21,
   "id": "10gP5z-t7-ZC",
   "metadata": {
    "id": "10gP5z-t7-ZC"
   },
   "outputs": [],
   "source": [
    "z_dir = os.path.join(base_dir, 'braincharts/models/lifespan_57K_82sites/deviation_scores/')\n",
    "filelist = [name for name in os.listdir(z_dir)]"
   ]
  },
  {
   "cell_type": "code",
   "execution_count": 22,
   "id": "Q2GAFv5F8TFa",
   "metadata": {
    "id": "Q2GAFv5F8TFa"
   },
   "outputs": [],
   "source": [
    "os.chdir(z_dir)\n",
    "Z_df = pd.concat([pd.read_csv(item, names=[item[:-4]]) for item in filelist], axis=1)"
   ]
  },
  {
   "cell_type": "code",
   "execution_count": 23,
   "id": "FHcx4vsj8eMf",
   "metadata": {
    "id": "FHcx4vsj8eMf"
   },
   "outputs": [],
   "source": [
    "df_te.reset_index(inplace=True)"
   ]
  },
  {
   "cell_type": "code",
   "execution_count": 24,
   "id": "9werTREu8c0P",
   "metadata": {
    "id": "9werTREu8c0P"
   },
   "outputs": [],
   "source": [
    "Z_df['sub_id'] = df_te['sub_id']"
   ]
  },
  {
   "cell_type": "code",
   "execution_count": 25,
   "id": "WgAJ86wy9U5A",
   "metadata": {
    "id": "WgAJ86wy9U5A"
   },
   "outputs": [],
   "source": [
    "df_te_Z = pd.merge(df_te, Z_df, on='sub_id', how='inner')"
   ]
  },
  {
   "cell_type": "code",
   "execution_count": 26,
   "id": "bn6I12zh9t1g",
   "metadata": {
    "id": "bn6I12zh9t1g"
   },
   "outputs": [],
   "source": [
    "df_te_Z.to_csv('fcon1000_te_Z.csv', index=False)"
   ]
  },
  {
   "cell_type": "markdown",
   "id": "UplSPCEMpiav",
   "metadata": {
    "id": "UplSPCEMpiav"
   },
   "source": [
    "## Questions\n",
    "1. What are important considerations and challenges when creating large population-level reference samples for normative models?\n",
    "2. How might the application of normative models, typically based on cross-sectional data, be extended to predict longitudinal trajectories? What potential challenges or limitations might arise?\n",
    "3. Besides neuroimaging measures, what other types of measures, such as behavioral or clinical assessments, do you believe would benefit from having a reference cohort or normative model?\n"
   ]
  },
  {
   "cell_type": "markdown",
   "id": "pos8a6HMplPW",
   "metadata": {
    "id": "pos8a6HMplPW"
   },
   "source": [
    "## Suggested further readings\n",
    "\n",
    "1. [Evidence for embracing normative modeling](https://elifesciences.org/articles/85082)\n",
    "2. [The normative modeling framework for computational psychiatry](https://www.nature.com/articles/s41596-022-00696-5)\n",
    "3. [Charting brain growth and aging at high spatial precision](https://elifesciences.org/articles/72904)\n",
    "4. [Brain Charts for the Human Lifespan](https://www.nature.com/articles/s41586-022-04554-y)\n"
   ]
  }
 ],
 "metadata": {
  "accelerator": "GPU",
  "colab": {
   "gpuType": "T4",
   "name": "apply_normative_models.ipynb",
   "provenance": []
  },
  "kernelspec": {
   "display_name": "Python 3 (ipykernel)",
   "language": "python",
   "name": "python3"
  },
  "language_info": {
   "codemirror_mode": {
    "name": "ipython",
    "version": 3
   },
   "file_extension": ".py",
   "mimetype": "text/x-python",
   "name": "python",
   "nbconvert_exporter": "python",
   "pygments_lexer": "ipython3",
   "version": "3.11.5"
  }
 },
 "nbformat": 4,
 "nbformat_minor": 5
}
